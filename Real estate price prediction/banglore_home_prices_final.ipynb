{
 "cells": [
  {
   "cell_type": "code",
   "execution_count": 4,
   "metadata": {},
   "outputs": [
    {
     "name": "stdout",
     "output_type": "stream",
     "text": [
      "Please provide your Kaggle credentials to download this dataset. Learn more: http://bit.ly/kaggle-creds\n",
      "Your Kaggle username: rajmaharajwala\n",
      "Your Kaggle Key: ········\n",
      "Downloading bengaluru-house-price-data.zip to .\\bengaluru-house-price-data\n"
     ]
    },
    {
     "name": "stderr",
     "output_type": "stream",
     "text": [
      "100%|███████████████████████████████████████████████████████████████████████████████| 195k/195k [00:00<00:00, 1.94MB/s]"
     ]
    },
    {
     "name": "stdout",
     "output_type": "stream",
     "text": [
      "\n"
     ]
    },
    {
     "name": "stderr",
     "output_type": "stream",
     "text": [
      "\n"
     ]
    }
   ],
   "source": [
    "#Download Dataset from kaggle using opendatasets library\n",
    "import opendatasets as od\n",
    "od.download('https://www.kaggle.com/datasets/amitabhajoy/bengaluru-house-price-data?resource=download&select=Bengaluru_House_Data.csv', force=True)"
   ]
  },
  {
   "cell_type": "code",
   "execution_count": 1,
   "metadata": {},
   "outputs": [
    {
     "data": {
      "application/javascript": [
       "\n",
       "        if (window._pyforest_update_imports_cell) { window._pyforest_update_imports_cell('import pandas as pd'); }\n",
       "    "
      ],
      "text/plain": [
       "<IPython.core.display.Javascript object>"
      ]
     },
     "metadata": {},
     "output_type": "display_data"
    },
    {
     "data": {
      "text/html": [
       "<div>\n",
       "<style scoped>\n",
       "    .dataframe tbody tr th:only-of-type {\n",
       "        vertical-align: middle;\n",
       "    }\n",
       "\n",
       "    .dataframe tbody tr th {\n",
       "        vertical-align: top;\n",
       "    }\n",
       "\n",
       "    .dataframe thead th {\n",
       "        text-align: right;\n",
       "    }\n",
       "</style>\n",
       "<table border=\"1\" class=\"dataframe\">\n",
       "  <thead>\n",
       "    <tr style=\"text-align: right;\">\n",
       "      <th></th>\n",
       "      <th>area_type</th>\n",
       "      <th>availability</th>\n",
       "      <th>location</th>\n",
       "      <th>size</th>\n",
       "      <th>society</th>\n",
       "      <th>total_sqft</th>\n",
       "      <th>bath</th>\n",
       "      <th>balcony</th>\n",
       "      <th>price</th>\n",
       "    </tr>\n",
       "  </thead>\n",
       "  <tbody>\n",
       "    <tr>\n",
       "      <th>0</th>\n",
       "      <td>Super built-up  Area</td>\n",
       "      <td>19-Dec</td>\n",
       "      <td>Electronic City Phase II</td>\n",
       "      <td>2 BHK</td>\n",
       "      <td>Coomee</td>\n",
       "      <td>1056</td>\n",
       "      <td>2.0</td>\n",
       "      <td>1.0</td>\n",
       "      <td>39.07</td>\n",
       "    </tr>\n",
       "    <tr>\n",
       "      <th>1</th>\n",
       "      <td>Plot  Area</td>\n",
       "      <td>Ready To Move</td>\n",
       "      <td>Chikka Tirupathi</td>\n",
       "      <td>4 Bedroom</td>\n",
       "      <td>Theanmp</td>\n",
       "      <td>2600</td>\n",
       "      <td>5.0</td>\n",
       "      <td>3.0</td>\n",
       "      <td>120.00</td>\n",
       "    </tr>\n",
       "    <tr>\n",
       "      <th>2</th>\n",
       "      <td>Built-up  Area</td>\n",
       "      <td>Ready To Move</td>\n",
       "      <td>Uttarahalli</td>\n",
       "      <td>3 BHK</td>\n",
       "      <td>NaN</td>\n",
       "      <td>1440</td>\n",
       "      <td>2.0</td>\n",
       "      <td>3.0</td>\n",
       "      <td>62.00</td>\n",
       "    </tr>\n",
       "    <tr>\n",
       "      <th>3</th>\n",
       "      <td>Super built-up  Area</td>\n",
       "      <td>Ready To Move</td>\n",
       "      <td>Lingadheeranahalli</td>\n",
       "      <td>3 BHK</td>\n",
       "      <td>Soiewre</td>\n",
       "      <td>1521</td>\n",
       "      <td>3.0</td>\n",
       "      <td>1.0</td>\n",
       "      <td>95.00</td>\n",
       "    </tr>\n",
       "    <tr>\n",
       "      <th>4</th>\n",
       "      <td>Super built-up  Area</td>\n",
       "      <td>Ready To Move</td>\n",
       "      <td>Kothanur</td>\n",
       "      <td>2 BHK</td>\n",
       "      <td>NaN</td>\n",
       "      <td>1200</td>\n",
       "      <td>2.0</td>\n",
       "      <td>1.0</td>\n",
       "      <td>51.00</td>\n",
       "    </tr>\n",
       "    <tr>\n",
       "      <th>...</th>\n",
       "      <td>...</td>\n",
       "      <td>...</td>\n",
       "      <td>...</td>\n",
       "      <td>...</td>\n",
       "      <td>...</td>\n",
       "      <td>...</td>\n",
       "      <td>...</td>\n",
       "      <td>...</td>\n",
       "      <td>...</td>\n",
       "    </tr>\n",
       "    <tr>\n",
       "      <th>13315</th>\n",
       "      <td>Built-up  Area</td>\n",
       "      <td>Ready To Move</td>\n",
       "      <td>Whitefield</td>\n",
       "      <td>5 Bedroom</td>\n",
       "      <td>ArsiaEx</td>\n",
       "      <td>3453</td>\n",
       "      <td>4.0</td>\n",
       "      <td>0.0</td>\n",
       "      <td>231.00</td>\n",
       "    </tr>\n",
       "    <tr>\n",
       "      <th>13316</th>\n",
       "      <td>Super built-up  Area</td>\n",
       "      <td>Ready To Move</td>\n",
       "      <td>Richards Town</td>\n",
       "      <td>4 BHK</td>\n",
       "      <td>NaN</td>\n",
       "      <td>3600</td>\n",
       "      <td>5.0</td>\n",
       "      <td>NaN</td>\n",
       "      <td>400.00</td>\n",
       "    </tr>\n",
       "    <tr>\n",
       "      <th>13317</th>\n",
       "      <td>Built-up  Area</td>\n",
       "      <td>Ready To Move</td>\n",
       "      <td>Raja Rajeshwari Nagar</td>\n",
       "      <td>2 BHK</td>\n",
       "      <td>Mahla T</td>\n",
       "      <td>1141</td>\n",
       "      <td>2.0</td>\n",
       "      <td>1.0</td>\n",
       "      <td>60.00</td>\n",
       "    </tr>\n",
       "    <tr>\n",
       "      <th>13318</th>\n",
       "      <td>Super built-up  Area</td>\n",
       "      <td>18-Jun</td>\n",
       "      <td>Padmanabhanagar</td>\n",
       "      <td>4 BHK</td>\n",
       "      <td>SollyCl</td>\n",
       "      <td>4689</td>\n",
       "      <td>4.0</td>\n",
       "      <td>1.0</td>\n",
       "      <td>488.00</td>\n",
       "    </tr>\n",
       "    <tr>\n",
       "      <th>13319</th>\n",
       "      <td>Super built-up  Area</td>\n",
       "      <td>Ready To Move</td>\n",
       "      <td>Doddathoguru</td>\n",
       "      <td>1 BHK</td>\n",
       "      <td>NaN</td>\n",
       "      <td>550</td>\n",
       "      <td>1.0</td>\n",
       "      <td>1.0</td>\n",
       "      <td>17.00</td>\n",
       "    </tr>\n",
       "  </tbody>\n",
       "</table>\n",
       "<p>13320 rows × 9 columns</p>\n",
       "</div>"
      ],
      "text/plain": [
       "                  area_type   availability                  location  \\\n",
       "0      Super built-up  Area         19-Dec  Electronic City Phase II   \n",
       "1                Plot  Area  Ready To Move          Chikka Tirupathi   \n",
       "2            Built-up  Area  Ready To Move               Uttarahalli   \n",
       "3      Super built-up  Area  Ready To Move        Lingadheeranahalli   \n",
       "4      Super built-up  Area  Ready To Move                  Kothanur   \n",
       "...                     ...            ...                       ...   \n",
       "13315        Built-up  Area  Ready To Move                Whitefield   \n",
       "13316  Super built-up  Area  Ready To Move             Richards Town   \n",
       "13317        Built-up  Area  Ready To Move     Raja Rajeshwari Nagar   \n",
       "13318  Super built-up  Area         18-Jun           Padmanabhanagar   \n",
       "13319  Super built-up  Area  Ready To Move              Doddathoguru   \n",
       "\n",
       "            size  society total_sqft  bath  balcony   price  \n",
       "0          2 BHK  Coomee        1056   2.0      1.0   39.07  \n",
       "1      4 Bedroom  Theanmp       2600   5.0      3.0  120.00  \n",
       "2          3 BHK      NaN       1440   2.0      3.0   62.00  \n",
       "3          3 BHK  Soiewre       1521   3.0      1.0   95.00  \n",
       "4          2 BHK      NaN       1200   2.0      1.0   51.00  \n",
       "...          ...      ...        ...   ...      ...     ...  \n",
       "13315  5 Bedroom  ArsiaEx       3453   4.0      0.0  231.00  \n",
       "13316      4 BHK      NaN       3600   5.0      NaN  400.00  \n",
       "13317      2 BHK  Mahla T       1141   2.0      1.0   60.00  \n",
       "13318      4 BHK  SollyCl       4689   4.0      1.0  488.00  \n",
       "13319      1 BHK      NaN        550   1.0      1.0   17.00  \n",
       "\n",
       "[13320 rows x 9 columns]"
      ]
     },
     "execution_count": 1,
     "metadata": {},
     "output_type": "execute_result"
    }
   ],
   "source": [
    "df = pd.read_csv(\"./bengaluru-house-price-data/Bengaluru_House_Data.csv\")\n",
    "df"
   ]
  },
  {
   "cell_type": "code",
   "execution_count": 2,
   "metadata": {},
   "outputs": [
    {
     "data": {
      "text/plain": [
       "area_type        object\n",
       "availability     object\n",
       "location         object\n",
       "size             object\n",
       "society          object\n",
       "total_sqft       object\n",
       "bath            float64\n",
       "balcony         float64\n",
       "price           float64\n",
       "dtype: object"
      ]
     },
     "execution_count": 2,
     "metadata": {},
     "output_type": "execute_result"
    }
   ],
   "source": [
    "#Identify the datatypes\n",
    "df.dtypes"
   ]
  },
  {
   "cell_type": "code",
   "execution_count": 3,
   "metadata": {},
   "outputs": [
    {
     "data": {
      "text/plain": [
       "array(['1056', '2600', '1440', ..., '1133 - 1384', '774', '4689'],\n",
       "      dtype=object)"
      ]
     },
     "execution_count": 3,
     "metadata": {},
     "output_type": "execute_result"
    }
   ],
   "source": [
    "df.total_sqft.unique()"
   ]
  },
  {
   "cell_type": "code",
   "execution_count": 4,
   "metadata": {},
   "outputs": [
    {
     "data": {
      "text/plain": [
       "(13320, 5)"
      ]
     },
     "execution_count": 4,
     "metadata": {},
     "output_type": "execute_result"
    }
   ],
   "source": [
    "df2 = df.drop(['area_type','society','balcony','availability'],axis='columns')\n",
    "df2.shape"
   ]
  },
  {
   "cell_type": "code",
   "execution_count": 5,
   "metadata": {},
   "outputs": [
    {
     "data": {
      "text/plain": [
       "'\\n!pip install pandas_profiling\\nimport pandas_profiling\\n#Generating PandasProfiling Report\\nreport = pandas_profiling.ProfileReport(df)\\n'"
      ]
     },
     "execution_count": 5,
     "metadata": {},
     "output_type": "execute_result"
    }
   ],
   "source": [
    "\"\"\"\n",
    "!pip install pandas_profiling\n",
    "import pandas_profiling\n",
    "#Generating PandasProfiling Report\n",
    "report = pandas_profiling.ProfileReport(df)\n",
    "\"\"\""
   ]
  },
  {
   "cell_type": "code",
   "execution_count": null,
   "metadata": {},
   "outputs": [],
   "source": []
  },
  {
   "cell_type": "markdown",
   "metadata": {},
   "source": [
    "## Handling Missing Values"
   ]
  },
  {
   "cell_type": "code",
   "execution_count": 5,
   "metadata": {},
   "outputs": [
    {
     "data": {
      "text/plain": [
       "location       1\n",
       "size          16\n",
       "total_sqft     0\n",
       "bath          73\n",
       "price          0\n",
       "dtype: int64"
      ]
     },
     "execution_count": 5,
     "metadata": {},
     "output_type": "execute_result"
    }
   ],
   "source": [
    "df2.isnull().sum()"
   ]
  },
  {
   "cell_type": "code",
   "execution_count": 6,
   "metadata": {},
   "outputs": [],
   "source": [
    "df3 = df2.dropna()"
   ]
  },
  {
   "cell_type": "markdown",
   "metadata": {},
   "source": [
    "## Feature Engineering"
   ]
  },
  {
   "cell_type": "markdown",
   "metadata": {},
   "source": [
    "Add new feature(integer) for bhk (Bedrooms Hall Kitchen)"
   ]
  },
  {
   "cell_type": "code",
   "execution_count": 7,
   "metadata": {},
   "outputs": [
    {
     "data": {
      "text/plain": [
       "Index(['location', 'size', 'total_sqft', 'bath', 'price'], dtype='object')"
      ]
     },
     "execution_count": 7,
     "metadata": {},
     "output_type": "execute_result"
    }
   ],
   "source": [
    "df3.columns"
   ]
  },
  {
   "cell_type": "code",
   "execution_count": 8,
   "metadata": {},
   "outputs": [
    {
     "data": {
      "text/plain": [
       "location      0\n",
       "size          0\n",
       "total_sqft    0\n",
       "bath          0\n",
       "price         0\n",
       "dtype: int64"
      ]
     },
     "execution_count": 8,
     "metadata": {},
     "output_type": "execute_result"
    }
   ],
   "source": [
    "df3.isnull().sum()"
   ]
  },
  {
   "cell_type": "code",
   "execution_count": 9,
   "metadata": {},
   "outputs": [
    {
     "name": "stderr",
     "output_type": "stream",
     "text": [
      "C:\\Users\\asus\\Anaconda3\\lib\\site-packages\\ipykernel_launcher.py:1: SettingWithCopyWarning: \n",
      "A value is trying to be set on a copy of a slice from a DataFrame.\n",
      "Try using .loc[row_indexer,col_indexer] = value instead\n",
      "\n",
      "See the caveats in the documentation: https://pandas.pydata.org/pandas-docs/stable/user_guide/indexing.html#returning-a-view-versus-a-copy\n",
      "  \"\"\"Entry point for launching an IPython kernel.\n"
     ]
    },
    {
     "data": {
      "text/html": [
       "<div>\n",
       "<style scoped>\n",
       "    .dataframe tbody tr th:only-of-type {\n",
       "        vertical-align: middle;\n",
       "    }\n",
       "\n",
       "    .dataframe tbody tr th {\n",
       "        vertical-align: top;\n",
       "    }\n",
       "\n",
       "    .dataframe thead th {\n",
       "        text-align: right;\n",
       "    }\n",
       "</style>\n",
       "<table border=\"1\" class=\"dataframe\">\n",
       "  <thead>\n",
       "    <tr style=\"text-align: right;\">\n",
       "      <th></th>\n",
       "      <th>location</th>\n",
       "      <th>size</th>\n",
       "      <th>total_sqft</th>\n",
       "      <th>bath</th>\n",
       "      <th>price</th>\n",
       "      <th>bhk</th>\n",
       "    </tr>\n",
       "  </thead>\n",
       "  <tbody>\n",
       "    <tr>\n",
       "      <th>0</th>\n",
       "      <td>Electronic City Phase II</td>\n",
       "      <td>2 BHK</td>\n",
       "      <td>1056</td>\n",
       "      <td>2.0</td>\n",
       "      <td>39.07</td>\n",
       "      <td>2</td>\n",
       "    </tr>\n",
       "    <tr>\n",
       "      <th>1</th>\n",
       "      <td>Chikka Tirupathi</td>\n",
       "      <td>4 Bedroom</td>\n",
       "      <td>2600</td>\n",
       "      <td>5.0</td>\n",
       "      <td>120.00</td>\n",
       "      <td>4</td>\n",
       "    </tr>\n",
       "    <tr>\n",
       "      <th>2</th>\n",
       "      <td>Uttarahalli</td>\n",
       "      <td>3 BHK</td>\n",
       "      <td>1440</td>\n",
       "      <td>2.0</td>\n",
       "      <td>62.00</td>\n",
       "      <td>3</td>\n",
       "    </tr>\n",
       "    <tr>\n",
       "      <th>3</th>\n",
       "      <td>Lingadheeranahalli</td>\n",
       "      <td>3 BHK</td>\n",
       "      <td>1521</td>\n",
       "      <td>3.0</td>\n",
       "      <td>95.00</td>\n",
       "      <td>3</td>\n",
       "    </tr>\n",
       "    <tr>\n",
       "      <th>4</th>\n",
       "      <td>Kothanur</td>\n",
       "      <td>2 BHK</td>\n",
       "      <td>1200</td>\n",
       "      <td>2.0</td>\n",
       "      <td>51.00</td>\n",
       "      <td>2</td>\n",
       "    </tr>\n",
       "    <tr>\n",
       "      <th>...</th>\n",
       "      <td>...</td>\n",
       "      <td>...</td>\n",
       "      <td>...</td>\n",
       "      <td>...</td>\n",
       "      <td>...</td>\n",
       "      <td>...</td>\n",
       "    </tr>\n",
       "    <tr>\n",
       "      <th>13315</th>\n",
       "      <td>Whitefield</td>\n",
       "      <td>5 Bedroom</td>\n",
       "      <td>3453</td>\n",
       "      <td>4.0</td>\n",
       "      <td>231.00</td>\n",
       "      <td>5</td>\n",
       "    </tr>\n",
       "    <tr>\n",
       "      <th>13316</th>\n",
       "      <td>Richards Town</td>\n",
       "      <td>4 BHK</td>\n",
       "      <td>3600</td>\n",
       "      <td>5.0</td>\n",
       "      <td>400.00</td>\n",
       "      <td>4</td>\n",
       "    </tr>\n",
       "    <tr>\n",
       "      <th>13317</th>\n",
       "      <td>Raja Rajeshwari Nagar</td>\n",
       "      <td>2 BHK</td>\n",
       "      <td>1141</td>\n",
       "      <td>2.0</td>\n",
       "      <td>60.00</td>\n",
       "      <td>2</td>\n",
       "    </tr>\n",
       "    <tr>\n",
       "      <th>13318</th>\n",
       "      <td>Padmanabhanagar</td>\n",
       "      <td>4 BHK</td>\n",
       "      <td>4689</td>\n",
       "      <td>4.0</td>\n",
       "      <td>488.00</td>\n",
       "      <td>4</td>\n",
       "    </tr>\n",
       "    <tr>\n",
       "      <th>13319</th>\n",
       "      <td>Doddathoguru</td>\n",
       "      <td>1 BHK</td>\n",
       "      <td>550</td>\n",
       "      <td>1.0</td>\n",
       "      <td>17.00</td>\n",
       "      <td>1</td>\n",
       "    </tr>\n",
       "  </tbody>\n",
       "</table>\n",
       "<p>13246 rows × 6 columns</p>\n",
       "</div>"
      ],
      "text/plain": [
       "                       location       size total_sqft  bath   price  bhk\n",
       "0      Electronic City Phase II      2 BHK       1056   2.0   39.07    2\n",
       "1              Chikka Tirupathi  4 Bedroom       2600   5.0  120.00    4\n",
       "2                   Uttarahalli      3 BHK       1440   2.0   62.00    3\n",
       "3            Lingadheeranahalli      3 BHK       1521   3.0   95.00    3\n",
       "4                      Kothanur      2 BHK       1200   2.0   51.00    2\n",
       "...                         ...        ...        ...   ...     ...  ...\n",
       "13315                Whitefield  5 Bedroom       3453   4.0  231.00    5\n",
       "13316             Richards Town      4 BHK       3600   5.0  400.00    4\n",
       "13317     Raja Rajeshwari Nagar      2 BHK       1141   2.0   60.00    2\n",
       "13318           Padmanabhanagar      4 BHK       4689   4.0  488.00    4\n",
       "13319              Doddathoguru      1 BHK        550   1.0   17.00    1\n",
       "\n",
       "[13246 rows x 6 columns]"
      ]
     },
     "execution_count": 9,
     "metadata": {},
     "output_type": "execute_result"
    }
   ],
   "source": [
    "df3['bhk'] = df3['size'].apply( lambda x: int(x.split(' ')[0]) )\n",
    "df3"
   ]
  },
  {
   "cell_type": "code",
   "execution_count": 10,
   "metadata": {},
   "outputs": [],
   "source": [
    "df3=df3.drop(['size'], axis = 1)\n"
   ]
  },
  {
   "cell_type": "code",
   "execution_count": 11,
   "metadata": {},
   "outputs": [
    {
     "data": {
      "text/html": [
       "<div>\n",
       "<style scoped>\n",
       "    .dataframe tbody tr th:only-of-type {\n",
       "        vertical-align: middle;\n",
       "    }\n",
       "\n",
       "    .dataframe tbody tr th {\n",
       "        vertical-align: top;\n",
       "    }\n",
       "\n",
       "    .dataframe thead th {\n",
       "        text-align: right;\n",
       "    }\n",
       "</style>\n",
       "<table border=\"1\" class=\"dataframe\">\n",
       "  <thead>\n",
       "    <tr style=\"text-align: right;\">\n",
       "      <th></th>\n",
       "      <th>location</th>\n",
       "      <th>total_sqft</th>\n",
       "      <th>bath</th>\n",
       "      <th>price</th>\n",
       "      <th>bhk</th>\n",
       "    </tr>\n",
       "  </thead>\n",
       "  <tbody>\n",
       "    <tr>\n",
       "      <th>0</th>\n",
       "      <td>Electronic City Phase II</td>\n",
       "      <td>1056</td>\n",
       "      <td>2.0</td>\n",
       "      <td>39.07</td>\n",
       "      <td>2</td>\n",
       "    </tr>\n",
       "    <tr>\n",
       "      <th>1</th>\n",
       "      <td>Chikka Tirupathi</td>\n",
       "      <td>2600</td>\n",
       "      <td>5.0</td>\n",
       "      <td>120.00</td>\n",
       "      <td>4</td>\n",
       "    </tr>\n",
       "    <tr>\n",
       "      <th>2</th>\n",
       "      <td>Uttarahalli</td>\n",
       "      <td>1440</td>\n",
       "      <td>2.0</td>\n",
       "      <td>62.00</td>\n",
       "      <td>3</td>\n",
       "    </tr>\n",
       "    <tr>\n",
       "      <th>3</th>\n",
       "      <td>Lingadheeranahalli</td>\n",
       "      <td>1521</td>\n",
       "      <td>3.0</td>\n",
       "      <td>95.00</td>\n",
       "      <td>3</td>\n",
       "    </tr>\n",
       "    <tr>\n",
       "      <th>4</th>\n",
       "      <td>Kothanur</td>\n",
       "      <td>1200</td>\n",
       "      <td>2.0</td>\n",
       "      <td>51.00</td>\n",
       "      <td>2</td>\n",
       "    </tr>\n",
       "    <tr>\n",
       "      <th>...</th>\n",
       "      <td>...</td>\n",
       "      <td>...</td>\n",
       "      <td>...</td>\n",
       "      <td>...</td>\n",
       "      <td>...</td>\n",
       "    </tr>\n",
       "    <tr>\n",
       "      <th>13315</th>\n",
       "      <td>Whitefield</td>\n",
       "      <td>3453</td>\n",
       "      <td>4.0</td>\n",
       "      <td>231.00</td>\n",
       "      <td>5</td>\n",
       "    </tr>\n",
       "    <tr>\n",
       "      <th>13316</th>\n",
       "      <td>Richards Town</td>\n",
       "      <td>3600</td>\n",
       "      <td>5.0</td>\n",
       "      <td>400.00</td>\n",
       "      <td>4</td>\n",
       "    </tr>\n",
       "    <tr>\n",
       "      <th>13317</th>\n",
       "      <td>Raja Rajeshwari Nagar</td>\n",
       "      <td>1141</td>\n",
       "      <td>2.0</td>\n",
       "      <td>60.00</td>\n",
       "      <td>2</td>\n",
       "    </tr>\n",
       "    <tr>\n",
       "      <th>13318</th>\n",
       "      <td>Padmanabhanagar</td>\n",
       "      <td>4689</td>\n",
       "      <td>4.0</td>\n",
       "      <td>488.00</td>\n",
       "      <td>4</td>\n",
       "    </tr>\n",
       "    <tr>\n",
       "      <th>13319</th>\n",
       "      <td>Doddathoguru</td>\n",
       "      <td>550</td>\n",
       "      <td>1.0</td>\n",
       "      <td>17.00</td>\n",
       "      <td>1</td>\n",
       "    </tr>\n",
       "  </tbody>\n",
       "</table>\n",
       "<p>13246 rows × 5 columns</p>\n",
       "</div>"
      ],
      "text/plain": [
       "                       location total_sqft  bath   price  bhk\n",
       "0      Electronic City Phase II       1056   2.0   39.07    2\n",
       "1              Chikka Tirupathi       2600   5.0  120.00    4\n",
       "2                   Uttarahalli       1440   2.0   62.00    3\n",
       "3            Lingadheeranahalli       1521   3.0   95.00    3\n",
       "4                      Kothanur       1200   2.0   51.00    2\n",
       "...                         ...        ...   ...     ...  ...\n",
       "13315                Whitefield       3453   4.0  231.00    5\n",
       "13316             Richards Town       3600   5.0  400.00    4\n",
       "13317     Raja Rajeshwari Nagar       1141   2.0   60.00    2\n",
       "13318           Padmanabhanagar       4689   4.0  488.00    4\n",
       "13319              Doddathoguru        550   1.0   17.00    1\n",
       "\n",
       "[13246 rows x 5 columns]"
      ]
     },
     "execution_count": 11,
     "metadata": {},
     "output_type": "execute_result"
    }
   ],
   "source": [
    "df3"
   ]
  },
  {
   "cell_type": "markdown",
   "metadata": {},
   "source": [
    "Explore total_sqft feature"
   ]
  },
  {
   "cell_type": "code",
   "execution_count": 12,
   "metadata": {},
   "outputs": [],
   "source": [
    "def is_float(x):\n",
    "    try:\n",
    "        float(x)\n",
    "    except:\n",
    "        return False\n",
    "    return True"
   ]
  },
  {
   "cell_type": "code",
   "execution_count": 13,
   "metadata": {},
   "outputs": [
    {
     "data": {
      "text/html": [
       "<div>\n",
       "<style scoped>\n",
       "    .dataframe tbody tr th:only-of-type {\n",
       "        vertical-align: middle;\n",
       "    }\n",
       "\n",
       "    .dataframe tbody tr th {\n",
       "        vertical-align: top;\n",
       "    }\n",
       "\n",
       "    .dataframe thead th {\n",
       "        text-align: right;\n",
       "    }\n",
       "</style>\n",
       "<table border=\"1\" class=\"dataframe\">\n",
       "  <thead>\n",
       "    <tr style=\"text-align: right;\">\n",
       "      <th></th>\n",
       "      <th>location</th>\n",
       "      <th>total_sqft</th>\n",
       "      <th>bath</th>\n",
       "      <th>price</th>\n",
       "      <th>bhk</th>\n",
       "    </tr>\n",
       "  </thead>\n",
       "  <tbody>\n",
       "    <tr>\n",
       "      <th>30</th>\n",
       "      <td>Yelahanka</td>\n",
       "      <td>2100 - 2850</td>\n",
       "      <td>4.0</td>\n",
       "      <td>186.000</td>\n",
       "      <td>4</td>\n",
       "    </tr>\n",
       "    <tr>\n",
       "      <th>122</th>\n",
       "      <td>Hebbal</td>\n",
       "      <td>3067 - 8156</td>\n",
       "      <td>4.0</td>\n",
       "      <td>477.000</td>\n",
       "      <td>4</td>\n",
       "    </tr>\n",
       "    <tr>\n",
       "      <th>137</th>\n",
       "      <td>8th Phase JP Nagar</td>\n",
       "      <td>1042 - 1105</td>\n",
       "      <td>2.0</td>\n",
       "      <td>54.005</td>\n",
       "      <td>2</td>\n",
       "    </tr>\n",
       "    <tr>\n",
       "      <th>165</th>\n",
       "      <td>Sarjapur</td>\n",
       "      <td>1145 - 1340</td>\n",
       "      <td>2.0</td>\n",
       "      <td>43.490</td>\n",
       "      <td>2</td>\n",
       "    </tr>\n",
       "    <tr>\n",
       "      <th>188</th>\n",
       "      <td>KR Puram</td>\n",
       "      <td>1015 - 1540</td>\n",
       "      <td>2.0</td>\n",
       "      <td>56.800</td>\n",
       "      <td>2</td>\n",
       "    </tr>\n",
       "    <tr>\n",
       "      <th>410</th>\n",
       "      <td>Kengeri</td>\n",
       "      <td>34.46Sq. Meter</td>\n",
       "      <td>1.0</td>\n",
       "      <td>18.500</td>\n",
       "      <td>1</td>\n",
       "    </tr>\n",
       "    <tr>\n",
       "      <th>549</th>\n",
       "      <td>Hennur Road</td>\n",
       "      <td>1195 - 1440</td>\n",
       "      <td>2.0</td>\n",
       "      <td>63.770</td>\n",
       "      <td>2</td>\n",
       "    </tr>\n",
       "    <tr>\n",
       "      <th>648</th>\n",
       "      <td>Arekere</td>\n",
       "      <td>4125Perch</td>\n",
       "      <td>9.0</td>\n",
       "      <td>265.000</td>\n",
       "      <td>9</td>\n",
       "    </tr>\n",
       "    <tr>\n",
       "      <th>661</th>\n",
       "      <td>Yelahanka</td>\n",
       "      <td>1120 - 1145</td>\n",
       "      <td>2.0</td>\n",
       "      <td>48.130</td>\n",
       "      <td>2</td>\n",
       "    </tr>\n",
       "    <tr>\n",
       "      <th>672</th>\n",
       "      <td>Bettahalsoor</td>\n",
       "      <td>3090 - 5002</td>\n",
       "      <td>4.0</td>\n",
       "      <td>445.000</td>\n",
       "      <td>4</td>\n",
       "    </tr>\n",
       "  </tbody>\n",
       "</table>\n",
       "</div>"
      ],
      "text/plain": [
       "               location      total_sqft  bath    price  bhk\n",
       "30            Yelahanka     2100 - 2850   4.0  186.000    4\n",
       "122              Hebbal     3067 - 8156   4.0  477.000    4\n",
       "137  8th Phase JP Nagar     1042 - 1105   2.0   54.005    2\n",
       "165            Sarjapur     1145 - 1340   2.0   43.490    2\n",
       "188            KR Puram     1015 - 1540   2.0   56.800    2\n",
       "410             Kengeri  34.46Sq. Meter   1.0   18.500    1\n",
       "549         Hennur Road     1195 - 1440   2.0   63.770    2\n",
       "648             Arekere       4125Perch   9.0  265.000    9\n",
       "661           Yelahanka     1120 - 1145   2.0   48.130    2\n",
       "672        Bettahalsoor     3090 - 5002   4.0  445.000    4"
      ]
     },
     "execution_count": 13,
     "metadata": {},
     "output_type": "execute_result"
    }
   ],
   "source": [
    "df3[~df3['total_sqft'].apply(is_float)].head(10)"
   ]
  },
  {
   "cell_type": "code",
   "execution_count": 14,
   "metadata": {},
   "outputs": [
    {
     "data": {
      "text/html": [
       "<div>\n",
       "<style scoped>\n",
       "    .dataframe tbody tr th:only-of-type {\n",
       "        vertical-align: middle;\n",
       "    }\n",
       "\n",
       "    .dataframe tbody tr th {\n",
       "        vertical-align: top;\n",
       "    }\n",
       "\n",
       "    .dataframe thead th {\n",
       "        text-align: right;\n",
       "    }\n",
       "</style>\n",
       "<table border=\"1\" class=\"dataframe\">\n",
       "  <thead>\n",
       "    <tr style=\"text-align: right;\">\n",
       "      <th></th>\n",
       "      <th>location</th>\n",
       "      <th>total_sqft</th>\n",
       "      <th>bath</th>\n",
       "      <th>price</th>\n",
       "      <th>bhk</th>\n",
       "    </tr>\n",
       "  </thead>\n",
       "  <tbody>\n",
       "    <tr>\n",
       "      <th>0</th>\n",
       "      <td>Electronic City Phase II</td>\n",
       "      <td>1056</td>\n",
       "      <td>2.0</td>\n",
       "      <td>39.07</td>\n",
       "      <td>2</td>\n",
       "    </tr>\n",
       "    <tr>\n",
       "      <th>1</th>\n",
       "      <td>Chikka Tirupathi</td>\n",
       "      <td>2600</td>\n",
       "      <td>5.0</td>\n",
       "      <td>120.00</td>\n",
       "      <td>4</td>\n",
       "    </tr>\n",
       "    <tr>\n",
       "      <th>2</th>\n",
       "      <td>Uttarahalli</td>\n",
       "      <td>1440</td>\n",
       "      <td>2.0</td>\n",
       "      <td>62.00</td>\n",
       "      <td>3</td>\n",
       "    </tr>\n",
       "    <tr>\n",
       "      <th>3</th>\n",
       "      <td>Lingadheeranahalli</td>\n",
       "      <td>1521</td>\n",
       "      <td>3.0</td>\n",
       "      <td>95.00</td>\n",
       "      <td>3</td>\n",
       "    </tr>\n",
       "    <tr>\n",
       "      <th>4</th>\n",
       "      <td>Kothanur</td>\n",
       "      <td>1200</td>\n",
       "      <td>2.0</td>\n",
       "      <td>51.00</td>\n",
       "      <td>2</td>\n",
       "    </tr>\n",
       "    <tr>\n",
       "      <th>...</th>\n",
       "      <td>...</td>\n",
       "      <td>...</td>\n",
       "      <td>...</td>\n",
       "      <td>...</td>\n",
       "      <td>...</td>\n",
       "    </tr>\n",
       "    <tr>\n",
       "      <th>13315</th>\n",
       "      <td>Whitefield</td>\n",
       "      <td>3453</td>\n",
       "      <td>4.0</td>\n",
       "      <td>231.00</td>\n",
       "      <td>5</td>\n",
       "    </tr>\n",
       "    <tr>\n",
       "      <th>13316</th>\n",
       "      <td>Richards Town</td>\n",
       "      <td>3600</td>\n",
       "      <td>5.0</td>\n",
       "      <td>400.00</td>\n",
       "      <td>4</td>\n",
       "    </tr>\n",
       "    <tr>\n",
       "      <th>13317</th>\n",
       "      <td>Raja Rajeshwari Nagar</td>\n",
       "      <td>1141</td>\n",
       "      <td>2.0</td>\n",
       "      <td>60.00</td>\n",
       "      <td>2</td>\n",
       "    </tr>\n",
       "    <tr>\n",
       "      <th>13318</th>\n",
       "      <td>Padmanabhanagar</td>\n",
       "      <td>4689</td>\n",
       "      <td>4.0</td>\n",
       "      <td>488.00</td>\n",
       "      <td>4</td>\n",
       "    </tr>\n",
       "    <tr>\n",
       "      <th>13319</th>\n",
       "      <td>Doddathoguru</td>\n",
       "      <td>550</td>\n",
       "      <td>1.0</td>\n",
       "      <td>17.00</td>\n",
       "      <td>1</td>\n",
       "    </tr>\n",
       "  </tbody>\n",
       "</table>\n",
       "<p>13246 rows × 5 columns</p>\n",
       "</div>"
      ],
      "text/plain": [
       "                       location total_sqft  bath   price  bhk\n",
       "0      Electronic City Phase II       1056   2.0   39.07    2\n",
       "1              Chikka Tirupathi       2600   5.0  120.00    4\n",
       "2                   Uttarahalli       1440   2.0   62.00    3\n",
       "3            Lingadheeranahalli       1521   3.0   95.00    3\n",
       "4                      Kothanur       1200   2.0   51.00    2\n",
       "...                         ...        ...   ...     ...  ...\n",
       "13315                Whitefield       3453   4.0  231.00    5\n",
       "13316             Richards Town       3600   5.0  400.00    4\n",
       "13317     Raja Rajeshwari Nagar       1141   2.0   60.00    2\n",
       "13318           Padmanabhanagar       4689   4.0  488.00    4\n",
       "13319              Doddathoguru        550   1.0   17.00    1\n",
       "\n",
       "[13246 rows x 5 columns]"
      ]
     },
     "execution_count": 14,
     "metadata": {},
     "output_type": "execute_result"
    }
   ],
   "source": [
    "df3"
   ]
  },
  {
   "cell_type": "code",
   "execution_count": 15,
   "metadata": {},
   "outputs": [],
   "source": [
    "def convert_sqft_to_num(x):\n",
    "    tokens = x.split('-')\n",
    "    if len(tokens) == 2:\n",
    "        return (float(tokens[0])+float(tokens[1]))/2\n",
    "    try:\n",
    "        return float(x)\n",
    "    except:\n",
    "        return None  "
   ]
  },
  {
   "cell_type": "code",
   "execution_count": 16,
   "metadata": {},
   "outputs": [
    {
     "data": {
      "text/html": [
       "<div>\n",
       "<style scoped>\n",
       "    .dataframe tbody tr th:only-of-type {\n",
       "        vertical-align: middle;\n",
       "    }\n",
       "\n",
       "    .dataframe tbody tr th {\n",
       "        vertical-align: top;\n",
       "    }\n",
       "\n",
       "    .dataframe thead th {\n",
       "        text-align: right;\n",
       "    }\n",
       "</style>\n",
       "<table border=\"1\" class=\"dataframe\">\n",
       "  <thead>\n",
       "    <tr style=\"text-align: right;\">\n",
       "      <th></th>\n",
       "      <th>location</th>\n",
       "      <th>total_sqft</th>\n",
       "      <th>bath</th>\n",
       "      <th>price</th>\n",
       "      <th>bhk</th>\n",
       "    </tr>\n",
       "  </thead>\n",
       "  <tbody>\n",
       "    <tr>\n",
       "      <th>0</th>\n",
       "      <td>Electronic City Phase II</td>\n",
       "      <td>1056.0</td>\n",
       "      <td>2.0</td>\n",
       "      <td>39.07</td>\n",
       "      <td>2</td>\n",
       "    </tr>\n",
       "    <tr>\n",
       "      <th>1</th>\n",
       "      <td>Chikka Tirupathi</td>\n",
       "      <td>2600.0</td>\n",
       "      <td>5.0</td>\n",
       "      <td>120.00</td>\n",
       "      <td>4</td>\n",
       "    </tr>\n",
       "  </tbody>\n",
       "</table>\n",
       "</div>"
      ],
      "text/plain": [
       "                   location  total_sqft  bath   price  bhk\n",
       "0  Electronic City Phase II      1056.0   2.0   39.07    2\n",
       "1          Chikka Tirupathi      2600.0   5.0  120.00    4"
      ]
     },
     "execution_count": 16,
     "metadata": {},
     "output_type": "execute_result"
    }
   ],
   "source": [
    "df4 = df3.copy()\n",
    "df4.total_sqft = df4.total_sqft.apply(convert_sqft_to_num)\n",
    "df4 = df4[df4.total_sqft.notnull()]\n",
    "df4.head(2)"
   ]
  },
  {
   "cell_type": "code",
   "execution_count": 51,
   "metadata": {},
   "outputs": [
    {
     "data": {
      "text/plain": [
       "location       object\n",
       "total_sqft    float64\n",
       "bath          float64\n",
       "price         float64\n",
       "bhk             int64\n",
       "dtype: object"
      ]
     },
     "execution_count": 51,
     "metadata": {},
     "output_type": "execute_result"
    }
   ],
   "source": [
    "df4.dtypes"
   ]
  },
  {
   "cell_type": "code",
   "execution_count": 18,
   "metadata": {},
   "outputs": [
    {
     "data": {
      "text/plain": [
       "location      Yelahanka\n",
       "total_sqft       2475.0\n",
       "bath                4.0\n",
       "price             186.0\n",
       "bhk                   4\n",
       "Name: 30, dtype: object"
      ]
     },
     "execution_count": 18,
     "metadata": {},
     "output_type": "execute_result"
    }
   ],
   "source": [
    "df4.loc[30]"
   ]
  },
  {
   "cell_type": "code",
   "execution_count": 19,
   "metadata": {},
   "outputs": [
    {
     "name": "stdout",
     "output_type": "stream",
     "text": [
      "                       location  total_sqft  bath   price  bhk\n",
      "0      Electronic City Phase II      1056.0   2.0   39.07    2\n",
      "1              Chikka Tirupathi      2600.0   5.0  120.00    4\n",
      "2                   Uttarahalli      1440.0   2.0   62.00    3\n",
      "3            Lingadheeranahalli      1521.0   3.0   95.00    3\n",
      "4                      Kothanur      1200.0   2.0   51.00    2\n",
      "...                         ...         ...   ...     ...  ...\n",
      "13315                Whitefield      3453.0   4.0  231.00    5\n",
      "13316             Richards Town      3600.0   5.0  400.00    4\n",
      "13317     Raja Rajeshwari Nagar      1141.0   2.0   60.00    2\n",
      "13318           Padmanabhanagar      4689.0   4.0  488.00    4\n",
      "13319              Doddathoguru       550.0   1.0   17.00    1\n",
      "\n",
      "[13200 rows x 5 columns]\n"
     ]
    }
   ],
   "source": [
    "print(df4)"
   ]
  },
  {
   "cell_type": "markdown",
   "metadata": {},
   "source": [
    "Add new feature called price per square feet"
   ]
  },
  {
   "cell_type": "code",
   "execution_count": 20,
   "metadata": {},
   "outputs": [
    {
     "data": {
      "text/html": [
       "<div>\n",
       "<style scoped>\n",
       "    .dataframe tbody tr th:only-of-type {\n",
       "        vertical-align: middle;\n",
       "    }\n",
       "\n",
       "    .dataframe tbody tr th {\n",
       "        vertical-align: top;\n",
       "    }\n",
       "\n",
       "    .dataframe thead th {\n",
       "        text-align: right;\n",
       "    }\n",
       "</style>\n",
       "<table border=\"1\" class=\"dataframe\">\n",
       "  <thead>\n",
       "    <tr style=\"text-align: right;\">\n",
       "      <th></th>\n",
       "      <th>location</th>\n",
       "      <th>total_sqft</th>\n",
       "      <th>bath</th>\n",
       "      <th>price</th>\n",
       "      <th>bhk</th>\n",
       "      <th>price_per_sqft</th>\n",
       "    </tr>\n",
       "  </thead>\n",
       "  <tbody>\n",
       "    <tr>\n",
       "      <th>0</th>\n",
       "      <td>Electronic City Phase II</td>\n",
       "      <td>1056.0</td>\n",
       "      <td>2.0</td>\n",
       "      <td>39.07</td>\n",
       "      <td>2</td>\n",
       "      <td>3699.810606</td>\n",
       "    </tr>\n",
       "    <tr>\n",
       "      <th>1</th>\n",
       "      <td>Chikka Tirupathi</td>\n",
       "      <td>2600.0</td>\n",
       "      <td>5.0</td>\n",
       "      <td>120.00</td>\n",
       "      <td>4</td>\n",
       "      <td>4615.384615</td>\n",
       "    </tr>\n",
       "    <tr>\n",
       "      <th>2</th>\n",
       "      <td>Uttarahalli</td>\n",
       "      <td>1440.0</td>\n",
       "      <td>2.0</td>\n",
       "      <td>62.00</td>\n",
       "      <td>3</td>\n",
       "      <td>4305.555556</td>\n",
       "    </tr>\n",
       "    <tr>\n",
       "      <th>3</th>\n",
       "      <td>Lingadheeranahalli</td>\n",
       "      <td>1521.0</td>\n",
       "      <td>3.0</td>\n",
       "      <td>95.00</td>\n",
       "      <td>3</td>\n",
       "      <td>6245.890861</td>\n",
       "    </tr>\n",
       "    <tr>\n",
       "      <th>4</th>\n",
       "      <td>Kothanur</td>\n",
       "      <td>1200.0</td>\n",
       "      <td>2.0</td>\n",
       "      <td>51.00</td>\n",
       "      <td>2</td>\n",
       "      <td>4250.000000</td>\n",
       "    </tr>\n",
       "  </tbody>\n",
       "</table>\n",
       "</div>"
      ],
      "text/plain": [
       "                   location  total_sqft  bath   price  bhk  price_per_sqft\n",
       "0  Electronic City Phase II      1056.0   2.0   39.07    2     3699.810606\n",
       "1          Chikka Tirupathi      2600.0   5.0  120.00    4     4615.384615\n",
       "2               Uttarahalli      1440.0   2.0   62.00    3     4305.555556\n",
       "3        Lingadheeranahalli      1521.0   3.0   95.00    3     6245.890861\n",
       "4                  Kothanur      1200.0   2.0   51.00    2     4250.000000"
      ]
     },
     "execution_count": 20,
     "metadata": {},
     "output_type": "execute_result"
    }
   ],
   "source": [
    "df5 = df4.copy()\n",
    "df5['price_per_sqft'] = df5['price']*100000/df5['total_sqft']\n",
    "df5.head()"
   ]
  },
  {
   "cell_type": "code",
   "execution_count": 21,
   "metadata": {},
   "outputs": [
    {
     "data": {
      "text/plain": [
       "count    1.320000e+04\n",
       "mean     7.920759e+03\n",
       "std      1.067272e+05\n",
       "min      2.678298e+02\n",
       "25%      4.267701e+03\n",
       "50%      5.438331e+03\n",
       "75%      7.317073e+03\n",
       "max      1.200000e+07\n",
       "Name: price_per_sqft, dtype: float64"
      ]
     },
     "execution_count": 21,
     "metadata": {},
     "output_type": "execute_result"
    }
   ],
   "source": [
    "df5_stats = df5['price_per_sqft'].describe()\n",
    "df5_stats"
   ]
  },
  {
   "cell_type": "code",
   "execution_count": 22,
   "metadata": {},
   "outputs": [],
   "source": [
    "df5.to_csv(\"bhp.csv\",index=False)"
   ]
  },
  {
   "cell_type": "markdown",
   "metadata": {},
   "source": [
    "Dimensionality reduction technique to reduce number of locations"
   ]
  },
  {
   "cell_type": "code",
   "execution_count": 23,
   "metadata": {},
   "outputs": [
    {
     "data": {
      "text/plain": [
       "'Electronic City Phase II'"
      ]
     },
     "execution_count": 23,
     "metadata": {},
     "output_type": "execute_result"
    }
   ],
   "source": [
    "df5.location = df5.location.apply(lambda x: x.strip())\n",
    "df5.location[0]"
   ]
  },
  {
   "cell_type": "code",
   "execution_count": 24,
   "metadata": {},
   "outputs": [
    {
     "name": "stdout",
     "output_type": "stream",
     "text": [
      "Raj , Jay , Kashyap\n",
      "['Raj', 'Jay', 'Kashyap']\n"
     ]
    }
   ],
   "source": [
    "y = '              Raj , Jay , Kashyap                '\n",
    "z = y.strip()\n",
    "print(z)\n",
    "print(z.split(' , '))\n"
   ]
  },
  {
   "cell_type": "code",
   "execution_count": 25,
   "metadata": {},
   "outputs": [
    {
     "data": {
      "text/plain": [
       "Whitefield             533\n",
       "Sarjapur  Road         392\n",
       "Electronic City        304\n",
       "Kanakpura Road         264\n",
       "Thanisandra            235\n",
       "                      ... \n",
       "Ckikkakammana Halli      1\n",
       "Escorts Colony           1\n",
       "Papareddipalya           1\n",
       "CHIKKATIRUPATHI          1\n",
       "Richmond Road            1\n",
       "Name: location, Length: 1287, dtype: int64"
      ]
     },
     "execution_count": 25,
     "metadata": {},
     "output_type": "execute_result"
    }
   ],
   "source": [
    "location_stats = df5['location'].value_counts(ascending=False)\n",
    "location_stats"
   ]
  },
  {
   "cell_type": "code",
   "execution_count": 26,
   "metadata": {},
   "outputs": [
    {
     "data": {
      "text/plain": [
       "533"
      ]
     },
     "execution_count": 26,
     "metadata": {},
     "output_type": "execute_result"
    }
   ],
   "source": [
    "location_stats[0]"
   ]
  },
  {
   "cell_type": "code",
   "execution_count": 27,
   "metadata": {},
   "outputs": [
    {
     "name": "stdout",
     "output_type": "stream",
     "text": [
      "1287\n",
      "1287\n"
     ]
    }
   ],
   "source": [
    "print(location_stats.count())\n",
    "print(len(df5.location.unique()))"
   ]
  },
  {
   "cell_type": "code",
   "execution_count": 28,
   "metadata": {},
   "outputs": [
    {
     "data": {
      "text/plain": [
       "13200"
      ]
     },
     "execution_count": 28,
     "metadata": {},
     "output_type": "execute_result"
    }
   ],
   "source": [
    "location_stats.values.sum()"
   ]
  },
  {
   "cell_type": "code",
   "execution_count": 29,
   "metadata": {},
   "outputs": [
    {
     "data": {
      "text/plain": [
       "13200"
      ]
     },
     "execution_count": 29,
     "metadata": {},
     "output_type": "execute_result"
    }
   ],
   "source": [
    "df5['location'].count()"
   ]
  },
  {
   "cell_type": "code",
   "execution_count": 30,
   "metadata": {},
   "outputs": [
    {
     "data": {
      "text/plain": [
       "Whitefield            533\n",
       "Sarjapur  Road        392\n",
       "Electronic City       304\n",
       "Kanakpura Road        264\n",
       "Thanisandra           235\n",
       "                     ... \n",
       "Pattandur Agrahara     11\n",
       "LB Shastri Nagar       11\n",
       "Bommenahalli           11\n",
       "Banjara Layout         11\n",
       "Narayanapura           11\n",
       "Name: location, Length: 240, dtype: int64"
      ]
     },
     "execution_count": 30,
     "metadata": {},
     "output_type": "execute_result"
    }
   ],
   "source": [
    "location_stats[location_stats>10]"
   ]
  },
  {
   "cell_type": "code",
   "execution_count": 32,
   "metadata": {},
   "outputs": [
    {
     "data": {
      "text/plain": [
       "BTM 1st Stage            10\n",
       "Dodsworth Layout         10\n",
       "Sector 1 HSR Layout      10\n",
       "1st Block Koramangala    10\n",
       "Naganathapura            10\n",
       "                         ..\n",
       "Ckikkakammana Halli       1\n",
       "Escorts Colony            1\n",
       "Papareddipalya            1\n",
       "CHIKKATIRUPATHI           1\n",
       "Richmond Road             1\n",
       "Name: location, Length: 1047, dtype: int64"
      ]
     },
     "execution_count": 32,
     "metadata": {},
     "output_type": "execute_result"
    }
   ],
   "source": [
    "location_stats_less_than_10 = location_stats[location_stats<=10]\n",
    "location_stats_less_than_10"
   ]
  },
  {
   "cell_type": "code",
   "execution_count": 38,
   "metadata": {},
   "outputs": [
    {
     "data": {
      "text/plain": [
       "1"
      ]
     },
     "execution_count": 38,
     "metadata": {},
     "output_type": "execute_result"
    }
   ],
   "source": [
    "location_stats_less_than_10['Escorts Colony']"
   ]
  },
  {
   "cell_type": "code",
   "execution_count": 42,
   "metadata": {},
   "outputs": [
    {
     "name": "stdout",
     "output_type": "stream",
     "text": [
      "Whitefield\n",
      "other\n"
     ]
    }
   ],
   "source": [
    "L = ['Whitefield','Escorts Colony']\n",
    "def check_add(x):\n",
    "    if x in location_stats_less_than_10:\n",
    "        print('other')\n",
    "    else:\n",
    "        print(x)\n",
    "check_add(L[0])\n",
    "check_add(L[1])\n"
   ]
  },
  {
   "cell_type": "code",
   "execution_count": 43,
   "metadata": {},
   "outputs": [
    {
     "data": {
      "text/plain": [
       "1287"
      ]
     },
     "execution_count": 43,
     "metadata": {},
     "output_type": "execute_result"
    }
   ],
   "source": [
    "len(df5.location.unique())"
   ]
  },
  {
   "cell_type": "code",
   "execution_count": 44,
   "metadata": {},
   "outputs": [
    {
     "data": {
      "text/plain": [
       "241"
      ]
     },
     "execution_count": 44,
     "metadata": {},
     "output_type": "execute_result"
    }
   ],
   "source": [
    "df5.location = df5.location.apply(lambda x: 'other' if x in location_stats_less_than_10 else x)\n",
    "len(df5.location.unique())"
   ]
  },
  {
   "cell_type": "code",
   "execution_count": 46,
   "metadata": {},
   "outputs": [
    {
     "data": {
      "text/html": [
       "<div>\n",
       "<style scoped>\n",
       "    .dataframe tbody tr th:only-of-type {\n",
       "        vertical-align: middle;\n",
       "    }\n",
       "\n",
       "    .dataframe tbody tr th {\n",
       "        vertical-align: top;\n",
       "    }\n",
       "\n",
       "    .dataframe thead th {\n",
       "        text-align: right;\n",
       "    }\n",
       "</style>\n",
       "<table border=\"1\" class=\"dataframe\">\n",
       "  <thead>\n",
       "    <tr style=\"text-align: right;\">\n",
       "      <th></th>\n",
       "      <th>location</th>\n",
       "      <th>total_sqft</th>\n",
       "      <th>bath</th>\n",
       "      <th>price</th>\n",
       "      <th>bhk</th>\n",
       "      <th>price_per_sqft</th>\n",
       "    </tr>\n",
       "  </thead>\n",
       "  <tbody>\n",
       "    <tr>\n",
       "      <th>0</th>\n",
       "      <td>Electronic City Phase II</td>\n",
       "      <td>1056.0</td>\n",
       "      <td>2.0</td>\n",
       "      <td>39.07</td>\n",
       "      <td>2</td>\n",
       "      <td>3699.810606</td>\n",
       "    </tr>\n",
       "    <tr>\n",
       "      <th>1</th>\n",
       "      <td>Chikka Tirupathi</td>\n",
       "      <td>2600.0</td>\n",
       "      <td>5.0</td>\n",
       "      <td>120.00</td>\n",
       "      <td>4</td>\n",
       "      <td>4615.384615</td>\n",
       "    </tr>\n",
       "    <tr>\n",
       "      <th>2</th>\n",
       "      <td>Uttarahalli</td>\n",
       "      <td>1440.0</td>\n",
       "      <td>2.0</td>\n",
       "      <td>62.00</td>\n",
       "      <td>3</td>\n",
       "      <td>4305.555556</td>\n",
       "    </tr>\n",
       "    <tr>\n",
       "      <th>3</th>\n",
       "      <td>Lingadheeranahalli</td>\n",
       "      <td>1521.0</td>\n",
       "      <td>3.0</td>\n",
       "      <td>95.00</td>\n",
       "      <td>3</td>\n",
       "      <td>6245.890861</td>\n",
       "    </tr>\n",
       "    <tr>\n",
       "      <th>4</th>\n",
       "      <td>Kothanur</td>\n",
       "      <td>1200.0</td>\n",
       "      <td>2.0</td>\n",
       "      <td>51.00</td>\n",
       "      <td>2</td>\n",
       "      <td>4250.000000</td>\n",
       "    </tr>\n",
       "    <tr>\n",
       "      <th>...</th>\n",
       "      <td>...</td>\n",
       "      <td>...</td>\n",
       "      <td>...</td>\n",
       "      <td>...</td>\n",
       "      <td>...</td>\n",
       "      <td>...</td>\n",
       "    </tr>\n",
       "    <tr>\n",
       "      <th>13315</th>\n",
       "      <td>Whitefield</td>\n",
       "      <td>3453.0</td>\n",
       "      <td>4.0</td>\n",
       "      <td>231.00</td>\n",
       "      <td>5</td>\n",
       "      <td>6689.834926</td>\n",
       "    </tr>\n",
       "    <tr>\n",
       "      <th>13316</th>\n",
       "      <td>other</td>\n",
       "      <td>3600.0</td>\n",
       "      <td>5.0</td>\n",
       "      <td>400.00</td>\n",
       "      <td>4</td>\n",
       "      <td>11111.111111</td>\n",
       "    </tr>\n",
       "    <tr>\n",
       "      <th>13317</th>\n",
       "      <td>Raja Rajeshwari Nagar</td>\n",
       "      <td>1141.0</td>\n",
       "      <td>2.0</td>\n",
       "      <td>60.00</td>\n",
       "      <td>2</td>\n",
       "      <td>5258.545136</td>\n",
       "    </tr>\n",
       "    <tr>\n",
       "      <th>13318</th>\n",
       "      <td>Padmanabhanagar</td>\n",
       "      <td>4689.0</td>\n",
       "      <td>4.0</td>\n",
       "      <td>488.00</td>\n",
       "      <td>4</td>\n",
       "      <td>10407.336319</td>\n",
       "    </tr>\n",
       "    <tr>\n",
       "      <th>13319</th>\n",
       "      <td>Doddathoguru</td>\n",
       "      <td>550.0</td>\n",
       "      <td>1.0</td>\n",
       "      <td>17.00</td>\n",
       "      <td>1</td>\n",
       "      <td>3090.909091</td>\n",
       "    </tr>\n",
       "  </tbody>\n",
       "</table>\n",
       "<p>13200 rows × 6 columns</p>\n",
       "</div>"
      ],
      "text/plain": [
       "                       location  total_sqft  bath   price  bhk  price_per_sqft\n",
       "0      Electronic City Phase II      1056.0   2.0   39.07    2     3699.810606\n",
       "1              Chikka Tirupathi      2600.0   5.0  120.00    4     4615.384615\n",
       "2                   Uttarahalli      1440.0   2.0   62.00    3     4305.555556\n",
       "3            Lingadheeranahalli      1521.0   3.0   95.00    3     6245.890861\n",
       "4                      Kothanur      1200.0   2.0   51.00    2     4250.000000\n",
       "...                         ...         ...   ...     ...  ...             ...\n",
       "13315                Whitefield      3453.0   4.0  231.00    5     6689.834926\n",
       "13316                     other      3600.0   5.0  400.00    4    11111.111111\n",
       "13317     Raja Rajeshwari Nagar      1141.0   2.0   60.00    2     5258.545136\n",
       "13318           Padmanabhanagar      4689.0   4.0  488.00    4    10407.336319\n",
       "13319              Doddathoguru       550.0   1.0   17.00    1     3090.909091\n",
       "\n",
       "[13200 rows x 6 columns]"
      ]
     },
     "execution_count": 46,
     "metadata": {},
     "output_type": "execute_result"
    }
   ],
   "source": [
    "df5"
   ]
  },
  {
   "cell_type": "markdown",
   "metadata": {},
   "source": [
    "Outlier Removal Using Business Logic:  As a data scientist when you have a conversation with your business manager (who has expertise in real estate), he will tell you that normally square ft per bedroom is 300"
   ]
  },
  {
   "cell_type": "code",
   "execution_count": 47,
   "metadata": {},
   "outputs": [
    {
     "data": {
      "text/plain": [
       "744"
      ]
     },
     "execution_count": 47,
     "metadata": {},
     "output_type": "execute_result"
    }
   ],
   "source": [
    "len(df5[df5.total_sqft/df5.bhk<300])"
   ]
  },
  {
   "cell_type": "code",
   "execution_count": 48,
   "metadata": {},
   "outputs": [
    {
     "data": {
      "text/plain": [
       "(13200, 6)"
      ]
     },
     "execution_count": 48,
     "metadata": {},
     "output_type": "execute_result"
    }
   ],
   "source": [
    "df5.shape"
   ]
  },
  {
   "cell_type": "code",
   "execution_count": 49,
   "metadata": {},
   "outputs": [
    {
     "data": {
      "text/plain": [
       "(12456, 6)"
      ]
     },
     "execution_count": 49,
     "metadata": {},
     "output_type": "execute_result"
    }
   ],
   "source": [
    "df6 = df5[~(df5.total_sqft/df5.bhk<300)]\n",
    "df6.shape"
   ]
  },
  {
   "cell_type": "code",
   "execution_count": 50,
   "metadata": {},
   "outputs": [
    {
     "data": {
      "text/plain": [
       "744"
      ]
     },
     "execution_count": 50,
     "metadata": {},
     "output_type": "execute_result"
    }
   ],
   "source": [
    "13200 - 12456"
   ]
  },
  {
   "cell_type": "markdown",
   "metadata": {},
   "source": [
    "Outlier Removal Using Standard Deviation and Mean"
   ]
  },
  {
   "cell_type": "code",
   "execution_count": 59,
   "metadata": {},
   "outputs": [
    {
     "data": {
      "text/plain": [
       "count     12456.000000\n",
       "mean       6308.502826\n",
       "std        4168.127339\n",
       "min         267.829813\n",
       "25%        4210.526316\n",
       "50%        5294.117647\n",
       "75%        6916.666667\n",
       "max      176470.588235\n",
       "Name: price_per_sqft, dtype: float64"
      ]
     },
     "execution_count": 59,
     "metadata": {},
     "output_type": "execute_result"
    }
   ],
   "source": [
    "df6.price_per_sqft.describe()"
   ]
  },
  {
   "cell_type": "code",
   "execution_count": 100,
   "metadata": {},
   "outputs": [
    {
     "data": {
      "image/png": "[encoded data removed]",
      "text/plain": [
       "<Figure size 432x288 with 1 Axes>"
      ]
     },
     "metadata": {
      "needs_background": "light"
     },
     "output_type": "display_data"
    }
   ],
   "source": [
    "import numpy as np\n",
    "import matplotlib.pyplot as plt\n",
    "from scipy.stats import norm\n",
    "import statistics\n",
    "  \n",
    "# Plot between -10 and 10 with .001 steps.\n",
    "x_axis = df6.price_per_sqft\n",
    "  \n",
    "kde = x_axis.plot.kde()\n",
    "plt.show()"
   ]
  },
  {
   "cell_type": "code",
   "execution_count": 88,
   "metadata": {
    "scrolled": true
   },
   "outputs": [
    {
     "data": {
      "application/javascript": [
       "\n",
       "        if (window._pyforest_update_imports_cell) { window._pyforest_update_imports_cell('from openpyxl import load_workbook\\nimport matplotlib as mpl\\nfrom sklearn.preprocessing import OneHotEncoder\\nimport matplotlib.pyplot as plt\\nfrom sklearn.ensemble import RandomForestClassifier\\nimport lightgbm as lgb\\nimport pandas as pd\\nfrom sklearn.ensemble import GradientBoostingClassifier\\nimport plotly.express as px\\nimport pickle\\nfrom sklearn.ensemble import GradientBoostingRegressor\\nfrom pathlib import Path\\nimport xgboost as xgb\\nimport seaborn as sns\\nfrom sklearn.ensemble import RandomForestRegressor\\nimport os\\nimport sklearn\\nimport plotly as py'); }\n",
       "    "
      ],
      "text/plain": [
       "<IPython.core.display.Javascript object>"
      ]
     },
     "metadata": {},
     "output_type": "display_data"
    },
    {
     "name": "stderr",
     "output_type": "stream",
     "text": [
      "C:\\Users\\asus\\Anaconda3\\lib\\site-packages\\seaborn\\axisgrid.py:2076: UserWarning: The `size` parameter has been renamed to `height`; please update your code.\n",
      "  warnings.warn(msg, UserWarning)\n"
     ]
    },
    {
     "data": {
      "text/plain": [
       "<seaborn.axisgrid.PairGrid at 0x1b9ef56d808>"
      ]
     },
     "execution_count": 88,
     "metadata": {},
     "output_type": "execute_result"
    },
    {
     "data": {
      "image/png": "[encoded data removed]",
      "text/plain": [
       "<Figure size 720x720 with 2 Axes>"
      ]
     },
     "metadata": {
      "needs_background": "light"
     },
     "output_type": "display_data"
    }
   ],
   "source": [
    "sns.pairplot(df6[['price_per_sqft']], kind=\"kde\" ,size=10)\n"
   ]
  },
  {
   "cell_type": "code",
   "execution_count": 84,
   "metadata": {},
   "outputs": [
    {
     "data": {
      "text/html": [
       "<div>\n",
       "<style scoped>\n",
       "    .dataframe tbody tr th:only-of-type {\n",
       "        vertical-align: middle;\n",
       "    }\n",
       "\n",
       "    .dataframe tbody tr th {\n",
       "        vertical-align: top;\n",
       "    }\n",
       "\n",
       "    .dataframe thead th {\n",
       "        text-align: right;\n",
       "    }\n",
       "</style>\n",
       "<table border=\"1\" class=\"dataframe\">\n",
       "  <thead>\n",
       "    <tr style=\"text-align: right;\">\n",
       "      <th></th>\n",
       "      <th>price_per_sqft</th>\n",
       "    </tr>\n",
       "  </thead>\n",
       "  <tbody>\n",
       "    <tr>\n",
       "      <th>0</th>\n",
       "      <td>3699.810606</td>\n",
       "    </tr>\n",
       "    <tr>\n",
       "      <th>1</th>\n",
       "      <td>4615.384615</td>\n",
       "    </tr>\n",
       "    <tr>\n",
       "      <th>2</th>\n",
       "      <td>4305.555556</td>\n",
       "    </tr>\n",
       "    <tr>\n",
       "      <th>3</th>\n",
       "      <td>6245.890861</td>\n",
       "    </tr>\n",
       "    <tr>\n",
       "      <th>4</th>\n",
       "      <td>4250.000000</td>\n",
       "    </tr>\n",
       "    <tr>\n",
       "      <th>...</th>\n",
       "      <td>...</td>\n",
       "    </tr>\n",
       "    <tr>\n",
       "      <th>13315</th>\n",
       "      <td>6689.834926</td>\n",
       "    </tr>\n",
       "    <tr>\n",
       "      <th>13316</th>\n",
       "      <td>11111.111111</td>\n",
       "    </tr>\n",
       "    <tr>\n",
       "      <th>13317</th>\n",
       "      <td>5258.545136</td>\n",
       "    </tr>\n",
       "    <tr>\n",
       "      <th>13318</th>\n",
       "      <td>10407.336319</td>\n",
       "    </tr>\n",
       "    <tr>\n",
       "      <th>13319</th>\n",
       "      <td>3090.909091</td>\n",
       "    </tr>\n",
       "  </tbody>\n",
       "</table>\n",
       "<p>12448 rows × 1 columns</p>\n",
       "</div>"
      ],
      "text/plain": [
       "       price_per_sqft\n",
       "0         3699.810606\n",
       "1         4615.384615\n",
       "2         4305.555556\n",
       "3         6245.890861\n",
       "4         4250.000000\n",
       "...               ...\n",
       "13315     6689.834926\n",
       "13316    11111.111111\n",
       "13317     5258.545136\n",
       "13318    10407.336319\n",
       "13319     3090.909091\n",
       "\n",
       "[12448 rows x 1 columns]"
      ]
     },
     "execution_count": 84,
     "metadata": {},
     "output_type": "execute_result"
    }
   ],
   "source": [
    "dftemp = df6[df6['price_per_sqft']<50000][['price_per_sqft']]\n",
    "dftemp"
   ]
  },
  {
   "cell_type": "code",
   "execution_count": 86,
   "metadata": {},
   "outputs": [
    {
     "data": {
      "application/javascript": [
       "\n",
       "        if (window._pyforest_update_imports_cell) { window._pyforest_update_imports_cell('from openpyxl import load_workbook\\nimport matplotlib as mpl\\nfrom sklearn.preprocessing import OneHotEncoder\\nimport matplotlib.pyplot as plt\\nfrom sklearn.ensemble import RandomForestClassifier\\nimport lightgbm as lgb\\nimport pandas as pd\\nfrom sklearn.ensemble import GradientBoostingClassifier\\nimport plotly.express as px\\nimport pickle\\nfrom sklearn.ensemble import GradientBoostingRegressor\\nfrom pathlib import Path\\nimport xgboost as xgb\\nimport seaborn as sns\\nfrom sklearn.ensemble import RandomForestRegressor\\nimport os\\nimport sklearn\\nimport plotly as py'); }\n",
       "    "
      ],
      "text/plain": [
       "<IPython.core.display.Javascript object>"
      ]
     },
     "metadata": {},
     "output_type": "display_data"
    },
    {
     "name": "stderr",
     "output_type": "stream",
     "text": [
      "C:\\Users\\asus\\Anaconda3\\lib\\site-packages\\seaborn\\axisgrid.py:2076: UserWarning: The `size` parameter has been renamed to `height`; please update your code.\n",
      "  warnings.warn(msg, UserWarning)\n"
     ]
    },
    {
     "data": {
      "text/plain": [
       "<seaborn.axisgrid.PairGrid at 0x1b9eef86548>"
      ]
     },
     "execution_count": 86,
     "metadata": {},
     "output_type": "execute_result"
    },
    {
     "data": {
      "image/png": "[encoded data removed]",
      "text/plain": [
       "<Figure size 720x720 with 2 Axes>"
      ]
     },
     "metadata": {
      "needs_background": "light"
     },
     "output_type": "display_data"
    }
   ],
   "source": [
    "sns.pairplot(dftemp , kind=\"kde\" , size=10 )"
   ]
  },
  {
   "cell_type": "markdown",
   "metadata": {},
   "source": [
    "Here we find that min price per sqft is 267 rs/sqft whereas max is 12000000, this shows a wide variation in property prices. We should remove outliers per location using mean and one standard deviation"
   ]
  },
  {
   "cell_type": "code",
   "execution_count": 101,
   "metadata": {},
   "outputs": [
    {
     "data": {
      "application/javascript": [
       "\n",
       "        if (window._pyforest_update_imports_cell) { window._pyforest_update_imports_cell('from openpyxl import load_workbook\\nimport matplotlib as mpl\\nfrom sklearn.preprocessing import OneHotEncoder\\nimport matplotlib.pyplot as plt\\nfrom sklearn.ensemble import RandomForestClassifier\\nimport lightgbm as lgb\\nimport pandas as pd\\nfrom sklearn.ensemble import GradientBoostingClassifier\\nimport plotly.express as px\\nimport pickle\\nfrom sklearn.ensemble import GradientBoostingRegressor\\nfrom pathlib import Path\\nimport xgboost as xgb\\nimport seaborn as sns\\nfrom sklearn.ensemble import RandomForestRegressor\\nimport os\\nimport sklearn\\nimport plotly as py'); }\n",
       "    "
      ],
      "text/plain": [
       "<IPython.core.display.Javascript object>"
      ]
     },
     "metadata": {},
     "output_type": "display_data"
    },
    {
     "data": {
      "application/javascript": [
       "\n",
       "        if (window._pyforest_update_imports_cell) { window._pyforest_update_imports_cell('from openpyxl import load_workbook\\nimport matplotlib as mpl\\nfrom sklearn.preprocessing import OneHotEncoder\\nimport matplotlib.pyplot as plt\\nfrom sklearn.ensemble import RandomForestClassifier\\nimport lightgbm as lgb\\nimport pandas as pd\\nfrom sklearn.ensemble import GradientBoostingClassifier\\nimport plotly.express as px\\nimport pickle\\nfrom sklearn.ensemble import GradientBoostingRegressor\\nfrom pathlib import Path\\nimport xgboost as xgb\\nimport seaborn as sns\\nfrom sklearn.ensemble import RandomForestRegressor\\nimport os\\nimport sklearn\\nimport plotly as py'); }\n",
       "    "
      ],
      "text/plain": [
       "<IPython.core.display.Javascript object>"
      ]
     },
     "metadata": {},
     "output_type": "display_data"
    },
    {
     "data": {
      "application/javascript": [
       "\n",
       "        if (window._pyforest_update_imports_cell) { window._pyforest_update_imports_cell('from openpyxl import load_workbook\\nimport matplotlib as mpl\\nfrom sklearn.preprocessing import OneHotEncoder\\nimport matplotlib.pyplot as plt\\nfrom sklearn.ensemble import RandomForestClassifier\\nimport lightgbm as lgb\\nimport pandas as pd\\nfrom sklearn.ensemble import GradientBoostingClassifier\\nimport plotly.express as px\\nimport pickle\\nfrom sklearn.ensemble import GradientBoostingRegressor\\nfrom pathlib import Path\\nimport xgboost as xgb\\nimport seaborn as sns\\nfrom sklearn.ensemble import RandomForestRegressor\\nimport os\\nimport sklearn\\nimport plotly as py'); }\n",
       "    "
      ],
      "text/plain": [
       "<IPython.core.display.Javascript object>"
      ]
     },
     "metadata": {},
     "output_type": "display_data"
    },
    {
     "data": {
      "application/javascript": [
       "\n",
       "        if (window._pyforest_update_imports_cell) { window._pyforest_update_imports_cell('from openpyxl import load_workbook\\nimport matplotlib as mpl\\nfrom sklearn.preprocessing import OneHotEncoder\\nimport matplotlib.pyplot as plt\\nfrom sklearn.ensemble import RandomForestClassifier\\nimport lightgbm as lgb\\nimport pandas as pd\\nfrom sklearn.ensemble import GradientBoostingClassifier\\nimport plotly.express as px\\nimport pickle\\nfrom sklearn.ensemble import GradientBoostingRegressor\\nfrom pathlib import Path\\nimport xgboost as xgb\\nimport seaborn as sns\\nfrom sklearn.ensemble import RandomForestRegressor\\nimport os\\nimport sklearn\\nimport plotly as py'); }\n",
       "    "
      ],
      "text/plain": [
       "<IPython.core.display.Javascript object>"
      ]
     },
     "metadata": {},
     "output_type": "display_data"
    },
    {
     "data": {
      "application/javascript": [
       "\n",
       "        if (window._pyforest_update_imports_cell) { window._pyforest_update_imports_cell('from openpyxl import load_workbook\\nimport matplotlib as mpl\\nfrom sklearn.preprocessing import OneHotEncoder\\nimport matplotlib.pyplot as plt\\nfrom sklearn.ensemble import RandomForestClassifier\\nimport lightgbm as lgb\\nimport pandas as pd\\nfrom sklearn.ensemble import GradientBoostingClassifier\\nimport plotly.express as px\\nimport pickle\\nfrom sklearn.ensemble import GradientBoostingRegressor\\nfrom pathlib import Path\\nimport xgboost as xgb\\nimport seaborn as sns\\nfrom sklearn.ensemble import RandomForestRegressor\\nimport os\\nimport sklearn\\nimport plotly as py'); }\n",
       "    "
      ],
      "text/plain": [
       "<IPython.core.display.Javascript object>"
      ]
     },
     "metadata": {},
     "output_type": "display_data"
    },
    {
     "data": {
      "application/javascript": [
       "\n",
       "        if (window._pyforest_update_imports_cell) { window._pyforest_update_imports_cell('from openpyxl import load_workbook\\nimport matplotlib as mpl\\nfrom sklearn.preprocessing import OneHotEncoder\\nimport matplotlib.pyplot as plt\\nfrom sklearn.ensemble import RandomForestClassifier\\nimport lightgbm as lgb\\nimport pandas as pd\\nfrom sklearn.ensemble import GradientBoostingClassifier\\nimport plotly.express as px\\nimport pickle\\nfrom sklearn.ensemble import GradientBoostingRegressor\\nfrom pathlib import Path\\nimport xgboost as xgb\\nimport seaborn as sns\\nfrom sklearn.ensemble import RandomForestRegressor\\nimport os\\nimport sklearn\\nimport plotly as py'); }\n",
       "    "
      ],
      "text/plain": [
       "<IPython.core.display.Javascript object>"
      ]
     },
     "metadata": {},
     "output_type": "display_data"
    },
    {
     "data": {
      "application/javascript": [
       "\n",
       "        if (window._pyforest_update_imports_cell) { window._pyforest_update_imports_cell('from openpyxl import load_workbook\\nimport matplotlib as mpl\\nfrom sklearn.preprocessing import OneHotEncoder\\nimport matplotlib.pyplot as plt\\nfrom sklearn.ensemble import RandomForestClassifier\\nimport lightgbm as lgb\\nimport pandas as pd\\nfrom sklearn.ensemble import GradientBoostingClassifier\\nimport plotly.express as px\\nimport pickle\\nfrom sklearn.ensemble import GradientBoostingRegressor\\nfrom pathlib import Path\\nimport xgboost as xgb\\nimport seaborn as sns\\nfrom sklearn.ensemble import RandomForestRegressor\\nimport os\\nimport sklearn\\nimport plotly as py'); }\n",
       "    "
      ],
      "text/plain": [
       "<IPython.core.display.Javascript object>"
      ]
     },
     "metadata": {},
     "output_type": "display_data"
    },
    {
     "data": {
      "application/javascript": [
       "\n",
       "        if (window._pyforest_update_imports_cell) { window._pyforest_update_imports_cell('from openpyxl import load_workbook\\nimport matplotlib as mpl\\nfrom sklearn.preprocessing import OneHotEncoder\\nimport matplotlib.pyplot as plt\\nfrom sklearn.ensemble import RandomForestClassifier\\nimport lightgbm as lgb\\nimport pandas as pd\\nfrom sklearn.ensemble import GradientBoostingClassifier\\nimport plotly.express as px\\nimport pickle\\nfrom sklearn.ensemble import GradientBoostingRegressor\\nfrom pathlib import Path\\nimport xgboost as xgb\\nimport seaborn as sns\\nfrom sklearn.ensemble import RandomForestRegressor\\nimport os\\nimport sklearn\\nimport plotly as py'); }\n",
       "    "
      ],
      "text/plain": [
       "<IPython.core.display.Javascript object>"
      ]
     },
     "metadata": {},
     "output_type": "display_data"
    },
    {
     "data": {
      "application/javascript": [
       "\n",
       "        if (window._pyforest_update_imports_cell) { window._pyforest_update_imports_cell('from openpyxl import load_workbook\\nimport matplotlib as mpl\\nfrom sklearn.preprocessing import OneHotEncoder\\nimport matplotlib.pyplot as plt\\nfrom sklearn.ensemble import RandomForestClassifier\\nimport lightgbm as lgb\\nimport pandas as pd\\nfrom sklearn.ensemble import GradientBoostingClassifier\\nimport plotly.express as px\\nimport pickle\\nfrom sklearn.ensemble import GradientBoostingRegressor\\nfrom pathlib import Path\\nimport xgboost as xgb\\nimport seaborn as sns\\nfrom sklearn.ensemble import RandomForestRegressor\\nimport os\\nimport sklearn\\nimport plotly as py'); }\n",
       "    "
      ],
      "text/plain": [
       "<IPython.core.display.Javascript object>"
      ]
     },
     "metadata": {},
     "output_type": "display_data"
    },
    {
     "data": {
      "application/javascript": [
       "\n",
       "        if (window._pyforest_update_imports_cell) { window._pyforest_update_imports_cell('from openpyxl import load_workbook\\nimport matplotlib as mpl\\nfrom sklearn.preprocessing import OneHotEncoder\\nimport matplotlib.pyplot as plt\\nfrom sklearn.ensemble import RandomForestClassifier\\nimport lightgbm as lgb\\nimport pandas as pd\\nfrom sklearn.ensemble import GradientBoostingClassifier\\nimport plotly.express as px\\nimport pickle\\nfrom sklearn.ensemble import GradientBoostingRegressor\\nfrom pathlib import Path\\nimport xgboost as xgb\\nimport seaborn as sns\\nfrom sklearn.ensemble import RandomForestRegressor\\nimport os\\nimport sklearn\\nimport plotly as py'); }\n",
       "    "
      ],
      "text/plain": [
       "<IPython.core.display.Javascript object>"
      ]
     },
     "metadata": {},
     "output_type": "display_data"
    },
    {
     "data": {
      "application/javascript": [
       "\n",
       "        if (window._pyforest_update_imports_cell) { window._pyforest_update_imports_cell('from openpyxl import load_workbook\\nimport matplotlib as mpl\\nfrom sklearn.preprocessing import OneHotEncoder\\nimport matplotlib.pyplot as plt\\nfrom sklearn.ensemble import RandomForestClassifier\\nimport lightgbm as lgb\\nimport pandas as pd\\nfrom sklearn.ensemble import GradientBoostingClassifier\\nimport plotly.express as px\\nimport pickle\\nfrom sklearn.ensemble import GradientBoostingRegressor\\nfrom pathlib import Path\\nimport xgboost as xgb\\nimport seaborn as sns\\nfrom sklearn.ensemble import RandomForestRegressor\\nimport os\\nimport sklearn\\nimport plotly as py'); }\n",
       "    "
      ],
      "text/plain": [
       "<IPython.core.display.Javascript object>"
      ]
     },
     "metadata": {},
     "output_type": "display_data"
    },
    {
     "data": {
      "application/javascript": [
       "\n",
       "        if (window._pyforest_update_imports_cell) { window._pyforest_update_imports_cell('from openpyxl import load_workbook\\nimport matplotlib as mpl\\nfrom sklearn.preprocessing import OneHotEncoder\\nimport matplotlib.pyplot as plt\\nfrom sklearn.ensemble import RandomForestClassifier\\nimport lightgbm as lgb\\nimport pandas as pd\\nfrom sklearn.ensemble import GradientBoostingClassifier\\nimport plotly.express as px\\nimport pickle\\nfrom sklearn.ensemble import GradientBoostingRegressor\\nfrom pathlib import Path\\nimport xgboost as xgb\\nimport seaborn as sns\\nfrom sklearn.ensemble import RandomForestRegressor\\nimport os\\nimport sklearn\\nimport plotly as py'); }\n",
       "    "
      ],
      "text/plain": [
       "<IPython.core.display.Javascript object>"
      ]
     },
     "metadata": {},
     "output_type": "display_data"
    },
    {
     "data": {
      "application/javascript": [
       "\n",
       "        if (window._pyforest_update_imports_cell) { window._pyforest_update_imports_cell('from openpyxl import load_workbook\\nimport matplotlib as mpl\\nfrom sklearn.preprocessing import OneHotEncoder\\nimport matplotlib.pyplot as plt\\nfrom sklearn.ensemble import RandomForestClassifier\\nimport lightgbm as lgb\\nimport pandas as pd\\nfrom sklearn.ensemble import GradientBoostingClassifier\\nimport plotly.express as px\\nimport pickle\\nfrom sklearn.ensemble import GradientBoostingRegressor\\nfrom pathlib import Path\\nimport xgboost as xgb\\nimport seaborn as sns\\nfrom sklearn.ensemble import RandomForestRegressor\\nimport os\\nimport sklearn\\nimport plotly as py'); }\n",
       "    "
      ],
      "text/plain": [
       "<IPython.core.display.Javascript object>"
      ]
     },
     "metadata": {},
     "output_type": "display_data"
    },
    {
     "data": {
      "application/javascript": [
       "\n",
       "        if (window._pyforest_update_imports_cell) { window._pyforest_update_imports_cell('from openpyxl import load_workbook\\nimport matplotlib as mpl\\nfrom sklearn.preprocessing import OneHotEncoder\\nimport matplotlib.pyplot as plt\\nfrom sklearn.ensemble import RandomForestClassifier\\nimport lightgbm as lgb\\nimport pandas as pd\\nfrom sklearn.ensemble import GradientBoostingClassifier\\nimport plotly.express as px\\nimport pickle\\nfrom sklearn.ensemble import GradientBoostingRegressor\\nfrom pathlib import Path\\nimport xgboost as xgb\\nimport seaborn as sns\\nfrom sklearn.ensemble import RandomForestRegressor\\nimport os\\nimport sklearn\\nimport plotly as py'); }\n",
       "    "
      ],
      "text/plain": [
       "<IPython.core.display.Javascript object>"
      ]
     },
     "metadata": {},
     "output_type": "display_data"
    },
    {
     "data": {
      "application/javascript": [
       "\n",
       "        if (window._pyforest_update_imports_cell) { window._pyforest_update_imports_cell('from openpyxl import load_workbook\\nimport matplotlib as mpl\\nfrom sklearn.preprocessing import OneHotEncoder\\nimport matplotlib.pyplot as plt\\nfrom sklearn.ensemble import RandomForestClassifier\\nimport lightgbm as lgb\\nimport pandas as pd\\nfrom sklearn.ensemble import GradientBoostingClassifier\\nimport plotly.express as px\\nimport pickle\\nfrom sklearn.ensemble import GradientBoostingRegressor\\nfrom pathlib import Path\\nimport xgboost as xgb\\nimport seaborn as sns\\nfrom sklearn.ensemble import RandomForestRegressor\\nimport os\\nimport sklearn\\nimport plotly as py'); }\n",
       "    "
      ],
      "text/plain": [
       "<IPython.core.display.Javascript object>"
      ]
     },
     "metadata": {},
     "output_type": "display_data"
    },
    {
     "data": {
      "application/javascript": [
       "\n",
       "        if (window._pyforest_update_imports_cell) { window._pyforest_update_imports_cell('from openpyxl import load_workbook\\nimport matplotlib as mpl\\nfrom sklearn.preprocessing import OneHotEncoder\\nimport matplotlib.pyplot as plt\\nfrom sklearn.ensemble import RandomForestClassifier\\nimport lightgbm as lgb\\nimport pandas as pd\\nfrom sklearn.ensemble import GradientBoostingClassifier\\nimport plotly.express as px\\nimport pickle\\nfrom sklearn.ensemble import GradientBoostingRegressor\\nfrom pathlib import Path\\nimport xgboost as xgb\\nimport seaborn as sns\\nfrom sklearn.ensemble import RandomForestRegressor\\nimport os\\nimport sklearn\\nimport plotly as py'); }\n",
       "    "
      ],
      "text/plain": [
       "<IPython.core.display.Javascript object>"
      ]
     },
     "metadata": {},
     "output_type": "display_data"
    },
    {
     "data": {
      "application/javascript": [
       "\n",
       "        if (window._pyforest_update_imports_cell) { window._pyforest_update_imports_cell('from openpyxl import load_workbook\\nimport matplotlib as mpl\\nfrom sklearn.preprocessing import OneHotEncoder\\nimport matplotlib.pyplot as plt\\nfrom sklearn.ensemble import RandomForestClassifier\\nimport lightgbm as lgb\\nimport pandas as pd\\nfrom sklearn.ensemble import GradientBoostingClassifier\\nimport plotly.express as px\\nimport pickle\\nfrom sklearn.ensemble import GradientBoostingRegressor\\nfrom pathlib import Path\\nimport xgboost as xgb\\nimport seaborn as sns\\nfrom sklearn.ensemble import RandomForestRegressor\\nimport os\\nimport sklearn\\nimport plotly as py'); }\n",
       "    "
      ],
      "text/plain": [
       "<IPython.core.display.Javascript object>"
      ]
     },
     "metadata": {},
     "output_type": "display_data"
    },
    {
     "data": {
      "application/javascript": [
       "\n",
       "        if (window._pyforest_update_imports_cell) { window._pyforest_update_imports_cell('from openpyxl import load_workbook\\nimport matplotlib as mpl\\nfrom sklearn.preprocessing import OneHotEncoder\\nimport matplotlib.pyplot as plt\\nfrom sklearn.ensemble import RandomForestClassifier\\nimport lightgbm as lgb\\nimport pandas as pd\\nfrom sklearn.ensemble import GradientBoostingClassifier\\nimport plotly.express as px\\nimport pickle\\nfrom sklearn.ensemble import GradientBoostingRegressor\\nfrom pathlib import Path\\nimport xgboost as xgb\\nimport seaborn as sns\\nfrom sklearn.ensemble import RandomForestRegressor\\nimport os\\nimport sklearn\\nimport plotly as py'); }\n",
       "    "
      ],
      "text/plain": [
       "<IPython.core.display.Javascript object>"
      ]
     },
     "metadata": {},
     "output_type": "display_data"
    },
    {
     "data": {
      "application/javascript": [
       "\n",
       "        if (window._pyforest_update_imports_cell) { window._pyforest_update_imports_cell('from openpyxl import load_workbook\\nimport matplotlib as mpl\\nfrom sklearn.preprocessing import OneHotEncoder\\nimport matplotlib.pyplot as plt\\nfrom sklearn.ensemble import RandomForestClassifier\\nimport lightgbm as lgb\\nimport pandas as pd\\nfrom sklearn.ensemble import GradientBoostingClassifier\\nimport plotly.express as px\\nimport pickle\\nfrom sklearn.ensemble import GradientBoostingRegressor\\nfrom pathlib import Path\\nimport xgboost as xgb\\nimport seaborn as sns\\nfrom sklearn.ensemble import RandomForestRegressor\\nimport os\\nimport sklearn\\nimport plotly as py'); }\n",
       "    "
      ],
      "text/plain": [
       "<IPython.core.display.Javascript object>"
      ]
     },
     "metadata": {},
     "output_type": "display_data"
    },
    {
     "data": {
      "application/javascript": [
       "\n",
       "        if (window._pyforest_update_imports_cell) { window._pyforest_update_imports_cell('from openpyxl import load_workbook\\nimport matplotlib as mpl\\nfrom sklearn.preprocessing import OneHotEncoder\\nimport matplotlib.pyplot as plt\\nfrom sklearn.ensemble import RandomForestClassifier\\nimport lightgbm as lgb\\nimport pandas as pd\\nfrom sklearn.ensemble import GradientBoostingClassifier\\nimport plotly.express as px\\nimport pickle\\nfrom sklearn.ensemble import GradientBoostingRegressor\\nfrom pathlib import Path\\nimport xgboost as xgb\\nimport seaborn as sns\\nfrom sklearn.ensemble import RandomForestRegressor\\nimport os\\nimport sklearn\\nimport plotly as py'); }\n",
       "    "
      ],
      "text/plain": [
       "<IPython.core.display.Javascript object>"
      ]
     },
     "metadata": {},
     "output_type": "display_data"
    },
    {
     "data": {
      "application/javascript": [
       "\n",
       "        if (window._pyforest_update_imports_cell) { window._pyforest_update_imports_cell('from openpyxl import load_workbook\\nimport matplotlib as mpl\\nfrom sklearn.preprocessing import OneHotEncoder\\nimport matplotlib.pyplot as plt\\nfrom sklearn.ensemble import RandomForestClassifier\\nimport lightgbm as lgb\\nimport pandas as pd\\nfrom sklearn.ensemble import GradientBoostingClassifier\\nimport plotly.express as px\\nimport pickle\\nfrom sklearn.ensemble import GradientBoostingRegressor\\nfrom pathlib import Path\\nimport xgboost as xgb\\nimport seaborn as sns\\nfrom sklearn.ensemble import RandomForestRegressor\\nimport os\\nimport sklearn\\nimport plotly as py'); }\n",
       "    "
      ],
      "text/plain": [
       "<IPython.core.display.Javascript object>"
      ]
     },
     "metadata": {},
     "output_type": "display_data"
    },
    {
     "data": {
      "application/javascript": [
       "\n",
       "        if (window._pyforest_update_imports_cell) { window._pyforest_update_imports_cell('from openpyxl import load_workbook\\nimport matplotlib as mpl\\nfrom sklearn.preprocessing import OneHotEncoder\\nimport matplotlib.pyplot as plt\\nfrom sklearn.ensemble import RandomForestClassifier\\nimport lightgbm as lgb\\nimport pandas as pd\\nfrom sklearn.ensemble import GradientBoostingClassifier\\nimport plotly.express as px\\nimport pickle\\nfrom sklearn.ensemble import GradientBoostingRegressor\\nfrom pathlib import Path\\nimport xgboost as xgb\\nimport seaborn as sns\\nfrom sklearn.ensemble import RandomForestRegressor\\nimport os\\nimport sklearn\\nimport plotly as py'); }\n",
       "    "
      ],
      "text/plain": [
       "<IPython.core.display.Javascript object>"
      ]
     },
     "metadata": {},
     "output_type": "display_data"
    },
    {
     "data": {
      "application/javascript": [
       "\n",
       "        if (window._pyforest_update_imports_cell) { window._pyforest_update_imports_cell('from openpyxl import load_workbook\\nimport matplotlib as mpl\\nfrom sklearn.preprocessing import OneHotEncoder\\nimport matplotlib.pyplot as plt\\nfrom sklearn.ensemble import RandomForestClassifier\\nimport lightgbm as lgb\\nimport pandas as pd\\nfrom sklearn.ensemble import GradientBoostingClassifier\\nimport plotly.express as px\\nimport pickle\\nfrom sklearn.ensemble import GradientBoostingRegressor\\nfrom pathlib import Path\\nimport xgboost as xgb\\nimport seaborn as sns\\nfrom sklearn.ensemble import RandomForestRegressor\\nimport os\\nimport sklearn\\nimport plotly as py'); }\n",
       "    "
      ],
      "text/plain": [
       "<IPython.core.display.Javascript object>"
      ]
     },
     "metadata": {},
     "output_type": "display_data"
    },
    {
     "data": {
      "application/javascript": [
       "\n",
       "        if (window._pyforest_update_imports_cell) { window._pyforest_update_imports_cell('from openpyxl import load_workbook\\nimport matplotlib as mpl\\nfrom sklearn.preprocessing import OneHotEncoder\\nimport matplotlib.pyplot as plt\\nfrom sklearn.ensemble import RandomForestClassifier\\nimport lightgbm as lgb\\nimport pandas as pd\\nfrom sklearn.ensemble import GradientBoostingClassifier\\nimport plotly.express as px\\nimport pickle\\nfrom sklearn.ensemble import GradientBoostingRegressor\\nfrom pathlib import Path\\nimport xgboost as xgb\\nimport seaborn as sns\\nfrom sklearn.ensemble import RandomForestRegressor\\nimport os\\nimport sklearn\\nimport plotly as py'); }\n",
       "    "
      ],
      "text/plain": [
       "<IPython.core.display.Javascript object>"
      ]
     },
     "metadata": {},
     "output_type": "display_data"
    },
    {
     "data": {
      "application/javascript": [
       "\n",
       "        if (window._pyforest_update_imports_cell) { window._pyforest_update_imports_cell('from openpyxl import load_workbook\\nimport matplotlib as mpl\\nfrom sklearn.preprocessing import OneHotEncoder\\nimport matplotlib.pyplot as plt\\nfrom sklearn.ensemble import RandomForestClassifier\\nimport lightgbm as lgb\\nimport pandas as pd\\nfrom sklearn.ensemble import GradientBoostingClassifier\\nimport plotly.express as px\\nimport pickle\\nfrom sklearn.ensemble import GradientBoostingRegressor\\nfrom pathlib import Path\\nimport xgboost as xgb\\nimport seaborn as sns\\nfrom sklearn.ensemble import RandomForestRegressor\\nimport os\\nimport sklearn\\nimport plotly as py'); }\n",
       "    "
      ],
      "text/plain": [
       "<IPython.core.display.Javascript object>"
      ]
     },
     "metadata": {},
     "output_type": "display_data"
    },
    {
     "data": {
      "application/javascript": [
       "\n",
       "        if (window._pyforest_update_imports_cell) { window._pyforest_update_imports_cell('from openpyxl import load_workbook\\nimport matplotlib as mpl\\nfrom sklearn.preprocessing import OneHotEncoder\\nimport matplotlib.pyplot as plt\\nfrom sklearn.ensemble import RandomForestClassifier\\nimport lightgbm as lgb\\nimport pandas as pd\\nfrom sklearn.ensemble import GradientBoostingClassifier\\nimport plotly.express as px\\nimport pickle\\nfrom sklearn.ensemble import GradientBoostingRegressor\\nfrom pathlib import Path\\nimport xgboost as xgb\\nimport seaborn as sns\\nfrom sklearn.ensemble import RandomForestRegressor\\nimport os\\nimport sklearn\\nimport plotly as py'); }\n",
       "    "
      ],
      "text/plain": [
       "<IPython.core.display.Javascript object>"
      ]
     },
     "metadata": {},
     "output_type": "display_data"
    },
    {
     "data": {
      "application/javascript": [
       "\n",
       "        if (window._pyforest_update_imports_cell) { window._pyforest_update_imports_cell('from openpyxl import load_workbook\\nimport matplotlib as mpl\\nfrom sklearn.preprocessing import OneHotEncoder\\nimport matplotlib.pyplot as plt\\nfrom sklearn.ensemble import RandomForestClassifier\\nimport lightgbm as lgb\\nimport pandas as pd\\nfrom sklearn.ensemble import GradientBoostingClassifier\\nimport plotly.express as px\\nimport pickle\\nfrom sklearn.ensemble import GradientBoostingRegressor\\nfrom pathlib import Path\\nimport xgboost as xgb\\nimport seaborn as sns\\nfrom sklearn.ensemble import RandomForestRegressor\\nimport os\\nimport sklearn\\nimport plotly as py'); }\n",
       "    "
      ],
      "text/plain": [
       "<IPython.core.display.Javascript object>"
      ]
     },
     "metadata": {},
     "output_type": "display_data"
    },
    {
     "data": {
      "application/javascript": [
       "\n",
       "        if (window._pyforest_update_imports_cell) { window._pyforest_update_imports_cell('from openpyxl import load_workbook\\nimport matplotlib as mpl\\nfrom sklearn.preprocessing import OneHotEncoder\\nimport matplotlib.pyplot as plt\\nfrom sklearn.ensemble import RandomForestClassifier\\nimport lightgbm as lgb\\nimport pandas as pd\\nfrom sklearn.ensemble import GradientBoostingClassifier\\nimport plotly.express as px\\nimport pickle\\nfrom sklearn.ensemble import GradientBoostingRegressor\\nfrom pathlib import Path\\nimport xgboost as xgb\\nimport seaborn as sns\\nfrom sklearn.ensemble import RandomForestRegressor\\nimport os\\nimport sklearn\\nimport plotly as py'); }\n",
       "    "
      ],
      "text/plain": [
       "<IPython.core.display.Javascript object>"
      ]
     },
     "metadata": {},
     "output_type": "display_data"
    },
    {
     "data": {
      "application/javascript": [
       "\n",
       "        if (window._pyforest_update_imports_cell) { window._pyforest_update_imports_cell('from openpyxl import load_workbook\\nimport matplotlib as mpl\\nfrom sklearn.preprocessing import OneHotEncoder\\nimport matplotlib.pyplot as plt\\nfrom sklearn.ensemble import RandomForestClassifier\\nimport lightgbm as lgb\\nimport pandas as pd\\nfrom sklearn.ensemble import GradientBoostingClassifier\\nimport plotly.express as px\\nimport pickle\\nfrom sklearn.ensemble import GradientBoostingRegressor\\nfrom pathlib import Path\\nimport xgboost as xgb\\nimport seaborn as sns\\nfrom sklearn.ensemble import RandomForestRegressor\\nimport os\\nimport sklearn\\nimport plotly as py'); }\n",
       "    "
      ],
      "text/plain": [
       "<IPython.core.display.Javascript object>"
      ]
     },
     "metadata": {},
     "output_type": "display_data"
    },
    {
     "data": {
      "application/javascript": [
       "\n",
       "        if (window._pyforest_update_imports_cell) { window._pyforest_update_imports_cell('from openpyxl import load_workbook\\nimport matplotlib as mpl\\nfrom sklearn.preprocessing import OneHotEncoder\\nimport matplotlib.pyplot as plt\\nfrom sklearn.ensemble import RandomForestClassifier\\nimport lightgbm as lgb\\nimport pandas as pd\\nfrom sklearn.ensemble import GradientBoostingClassifier\\nimport plotly.express as px\\nimport pickle\\nfrom sklearn.ensemble import GradientBoostingRegressor\\nfrom pathlib import Path\\nimport xgboost as xgb\\nimport seaborn as sns\\nfrom sklearn.ensemble import RandomForestRegressor\\nimport os\\nimport sklearn\\nimport plotly as py'); }\n",
       "    "
      ],
      "text/plain": [
       "<IPython.core.display.Javascript object>"
      ]
     },
     "metadata": {},
     "output_type": "display_data"
    },
    {
     "data": {
      "application/javascript": [
       "\n",
       "        if (window._pyforest_update_imports_cell) { window._pyforest_update_imports_cell('from openpyxl import load_workbook\\nimport matplotlib as mpl\\nfrom sklearn.preprocessing import OneHotEncoder\\nimport matplotlib.pyplot as plt\\nfrom sklearn.ensemble import RandomForestClassifier\\nimport lightgbm as lgb\\nimport pandas as pd\\nfrom sklearn.ensemble import GradientBoostingClassifier\\nimport plotly.express as px\\nimport pickle\\nfrom sklearn.ensemble import GradientBoostingRegressor\\nfrom pathlib import Path\\nimport xgboost as xgb\\nimport seaborn as sns\\nfrom sklearn.ensemble import RandomForestRegressor\\nimport os\\nimport sklearn\\nimport plotly as py'); }\n",
       "    "
      ],
      "text/plain": [
       "<IPython.core.display.Javascript object>"
      ]
     },
     "metadata": {},
     "output_type": "display_data"
    },
    {
     "data": {
      "application/javascript": [
       "\n",
       "        if (window._pyforest_update_imports_cell) { window._pyforest_update_imports_cell('from openpyxl import load_workbook\\nimport matplotlib as mpl\\nfrom sklearn.preprocessing import OneHotEncoder\\nimport matplotlib.pyplot as plt\\nfrom sklearn.ensemble import RandomForestClassifier\\nimport lightgbm as lgb\\nimport pandas as pd\\nfrom sklearn.ensemble import GradientBoostingClassifier\\nimport plotly.express as px\\nimport pickle\\nfrom sklearn.ensemble import GradientBoostingRegressor\\nfrom pathlib import Path\\nimport xgboost as xgb\\nimport seaborn as sns\\nfrom sklearn.ensemble import RandomForestRegressor\\nimport os\\nimport sklearn\\nimport plotly as py'); }\n",
       "    "
      ],
      "text/plain": [
       "<IPython.core.display.Javascript object>"
      ]
     },
     "metadata": {},
     "output_type": "display_data"
    },
    {
     "data": {
      "application/javascript": [
       "\n",
       "        if (window._pyforest_update_imports_cell) { window._pyforest_update_imports_cell('from openpyxl import load_workbook\\nimport matplotlib as mpl\\nfrom sklearn.preprocessing import OneHotEncoder\\nimport matplotlib.pyplot as plt\\nfrom sklearn.ensemble import RandomForestClassifier\\nimport lightgbm as lgb\\nimport pandas as pd\\nfrom sklearn.ensemble import GradientBoostingClassifier\\nimport plotly.express as px\\nimport pickle\\nfrom sklearn.ensemble import GradientBoostingRegressor\\nfrom pathlib import Path\\nimport xgboost as xgb\\nimport seaborn as sns\\nfrom sklearn.ensemble import RandomForestRegressor\\nimport os\\nimport sklearn\\nimport plotly as py'); }\n",
       "    "
      ],
      "text/plain": [
       "<IPython.core.display.Javascript object>"
      ]
     },
     "metadata": {},
     "output_type": "display_data"
    },
    {
     "data": {
      "application/javascript": [
       "\n",
       "        if (window._pyforest_update_imports_cell) { window._pyforest_update_imports_cell('from openpyxl import load_workbook\\nimport matplotlib as mpl\\nfrom sklearn.preprocessing import OneHotEncoder\\nimport matplotlib.pyplot as plt\\nfrom sklearn.ensemble import RandomForestClassifier\\nimport lightgbm as lgb\\nimport pandas as pd\\nfrom sklearn.ensemble import GradientBoostingClassifier\\nimport plotly.express as px\\nimport pickle\\nfrom sklearn.ensemble import GradientBoostingRegressor\\nfrom pathlib import Path\\nimport xgboost as xgb\\nimport seaborn as sns\\nfrom sklearn.ensemble import RandomForestRegressor\\nimport os\\nimport sklearn\\nimport plotly as py'); }\n",
       "    "
      ],
      "text/plain": [
       "<IPython.core.display.Javascript object>"
      ]
     },
     "metadata": {},
     "output_type": "display_data"
    },
    {
     "data": {
      "application/javascript": [
       "\n",
       "        if (window._pyforest_update_imports_cell) { window._pyforest_update_imports_cell('from openpyxl import load_workbook\\nimport matplotlib as mpl\\nfrom sklearn.preprocessing import OneHotEncoder\\nimport matplotlib.pyplot as plt\\nfrom sklearn.ensemble import RandomForestClassifier\\nimport lightgbm as lgb\\nimport pandas as pd\\nfrom sklearn.ensemble import GradientBoostingClassifier\\nimport plotly.express as px\\nimport pickle\\nfrom sklearn.ensemble import GradientBoostingRegressor\\nfrom pathlib import Path\\nimport xgboost as xgb\\nimport seaborn as sns\\nfrom sklearn.ensemble import RandomForestRegressor\\nimport os\\nimport sklearn\\nimport plotly as py'); }\n",
       "    "
      ],
      "text/plain": [
       "<IPython.core.display.Javascript object>"
      ]
     },
     "metadata": {},
     "output_type": "display_data"
    },
    {
     "data": {
      "application/javascript": [
       "\n",
       "        if (window._pyforest_update_imports_cell) { window._pyforest_update_imports_cell('from openpyxl import load_workbook\\nimport matplotlib as mpl\\nfrom sklearn.preprocessing import OneHotEncoder\\nimport matplotlib.pyplot as plt\\nfrom sklearn.ensemble import RandomForestClassifier\\nimport lightgbm as lgb\\nimport pandas as pd\\nfrom sklearn.ensemble import GradientBoostingClassifier\\nimport plotly.express as px\\nimport pickle\\nfrom sklearn.ensemble import GradientBoostingRegressor\\nfrom pathlib import Path\\nimport xgboost as xgb\\nimport seaborn as sns\\nfrom sklearn.ensemble import RandomForestRegressor\\nimport os\\nimport sklearn\\nimport plotly as py'); }\n",
       "    "
      ],
      "text/plain": [
       "<IPython.core.display.Javascript object>"
      ]
     },
     "metadata": {},
     "output_type": "display_data"
    },
    {
     "data": {
      "application/javascript": [
       "\n",
       "        if (window._pyforest_update_imports_cell) { window._pyforest_update_imports_cell('from openpyxl import load_workbook\\nimport matplotlib as mpl\\nfrom sklearn.preprocessing import OneHotEncoder\\nimport matplotlib.pyplot as plt\\nfrom sklearn.ensemble import RandomForestClassifier\\nimport lightgbm as lgb\\nimport pandas as pd\\nfrom sklearn.ensemble import GradientBoostingClassifier\\nimport plotly.express as px\\nimport pickle\\nfrom sklearn.ensemble import GradientBoostingRegressor\\nfrom pathlib import Path\\nimport xgboost as xgb\\nimport seaborn as sns\\nfrom sklearn.ensemble import RandomForestRegressor\\nimport os\\nimport sklearn\\nimport plotly as py'); }\n",
       "    "
      ],
      "text/plain": [
       "<IPython.core.display.Javascript object>"
      ]
     },
     "metadata": {},
     "output_type": "display_data"
    },
    {
     "data": {
      "application/javascript": [
       "\n",
       "        if (window._pyforest_update_imports_cell) { window._pyforest_update_imports_cell('from openpyxl import load_workbook\\nimport matplotlib as mpl\\nfrom sklearn.preprocessing import OneHotEncoder\\nimport matplotlib.pyplot as plt\\nfrom sklearn.ensemble import RandomForestClassifier\\nimport lightgbm as lgb\\nimport pandas as pd\\nfrom sklearn.ensemble import GradientBoostingClassifier\\nimport plotly.express as px\\nimport pickle\\nfrom sklearn.ensemble import GradientBoostingRegressor\\nfrom pathlib import Path\\nimport xgboost as xgb\\nimport seaborn as sns\\nfrom sklearn.ensemble import RandomForestRegressor\\nimport os\\nimport sklearn\\nimport plotly as py'); }\n",
       "    "
      ],
      "text/plain": [
       "<IPython.core.display.Javascript object>"
      ]
     },
     "metadata": {},
     "output_type": "display_data"
    },
    {
     "data": {
      "application/javascript": [
       "\n",
       "        if (window._pyforest_update_imports_cell) { window._pyforest_update_imports_cell('from openpyxl import load_workbook\\nimport matplotlib as mpl\\nfrom sklearn.preprocessing import OneHotEncoder\\nimport matplotlib.pyplot as plt\\nfrom sklearn.ensemble import RandomForestClassifier\\nimport lightgbm as lgb\\nimport pandas as pd\\nfrom sklearn.ensemble import GradientBoostingClassifier\\nimport plotly.express as px\\nimport pickle\\nfrom sklearn.ensemble import GradientBoostingRegressor\\nfrom pathlib import Path\\nimport xgboost as xgb\\nimport seaborn as sns\\nfrom sklearn.ensemble import RandomForestRegressor\\nimport os\\nimport sklearn\\nimport plotly as py'); }\n",
       "    "
      ],
      "text/plain": [
       "<IPython.core.display.Javascript object>"
      ]
     },
     "metadata": {},
     "output_type": "display_data"
    },
    {
     "data": {
      "application/javascript": [
       "\n",
       "        if (window._pyforest_update_imports_cell) { window._pyforest_update_imports_cell('from openpyxl import load_workbook\\nimport matplotlib as mpl\\nfrom sklearn.preprocessing import OneHotEncoder\\nimport matplotlib.pyplot as plt\\nfrom sklearn.ensemble import RandomForestClassifier\\nimport lightgbm as lgb\\nimport pandas as pd\\nfrom sklearn.ensemble import GradientBoostingClassifier\\nimport plotly.express as px\\nimport pickle\\nfrom sklearn.ensemble import GradientBoostingRegressor\\nfrom pathlib import Path\\nimport xgboost as xgb\\nimport seaborn as sns\\nfrom sklearn.ensemble import RandomForestRegressor\\nimport os\\nimport sklearn\\nimport plotly as py'); }\n",
       "    "
      ],
      "text/plain": [
       "<IPython.core.display.Javascript object>"
      ]
     },
     "metadata": {},
     "output_type": "display_data"
    },
    {
     "data": {
      "application/javascript": [
       "\n",
       "        if (window._pyforest_update_imports_cell) { window._pyforest_update_imports_cell('from openpyxl import load_workbook\\nimport matplotlib as mpl\\nfrom sklearn.preprocessing import OneHotEncoder\\nimport matplotlib.pyplot as plt\\nfrom sklearn.ensemble import RandomForestClassifier\\nimport lightgbm as lgb\\nimport pandas as pd\\nfrom sklearn.ensemble import GradientBoostingClassifier\\nimport plotly.express as px\\nimport pickle\\nfrom sklearn.ensemble import GradientBoostingRegressor\\nfrom pathlib import Path\\nimport xgboost as xgb\\nimport seaborn as sns\\nfrom sklearn.ensemble import RandomForestRegressor\\nimport os\\nimport sklearn\\nimport plotly as py'); }\n",
       "    "
      ],
      "text/plain": [
       "<IPython.core.display.Javascript object>"
      ]
     },
     "metadata": {},
     "output_type": "display_data"
    },
    {
     "data": {
      "application/javascript": [
       "\n",
       "        if (window._pyforest_update_imports_cell) { window._pyforest_update_imports_cell('from openpyxl import load_workbook\\nimport matplotlib as mpl\\nfrom sklearn.preprocessing import OneHotEncoder\\nimport matplotlib.pyplot as plt\\nfrom sklearn.ensemble import RandomForestClassifier\\nimport lightgbm as lgb\\nimport pandas as pd\\nfrom sklearn.ensemble import GradientBoostingClassifier\\nimport plotly.express as px\\nimport pickle\\nfrom sklearn.ensemble import GradientBoostingRegressor\\nfrom pathlib import Path\\nimport xgboost as xgb\\nimport seaborn as sns\\nfrom sklearn.ensemble import RandomForestRegressor\\nimport os\\nimport sklearn\\nimport plotly as py'); }\n",
       "    "
      ],
      "text/plain": [
       "<IPython.core.display.Javascript object>"
      ]
     },
     "metadata": {},
     "output_type": "display_data"
    },
    {
     "data": {
      "application/javascript": [
       "\n",
       "        if (window._pyforest_update_imports_cell) { window._pyforest_update_imports_cell('from openpyxl import load_workbook\\nimport matplotlib as mpl\\nfrom sklearn.preprocessing import OneHotEncoder\\nimport matplotlib.pyplot as plt\\nfrom sklearn.ensemble import RandomForestClassifier\\nimport lightgbm as lgb\\nimport pandas as pd\\nfrom sklearn.ensemble import GradientBoostingClassifier\\nimport plotly.express as px\\nimport pickle\\nfrom sklearn.ensemble import GradientBoostingRegressor\\nfrom pathlib import Path\\nimport xgboost as xgb\\nimport seaborn as sns\\nfrom sklearn.ensemble import RandomForestRegressor\\nimport os\\nimport sklearn\\nimport plotly as py'); }\n",
       "    "
      ],
      "text/plain": [
       "<IPython.core.display.Javascript object>"
      ]
     },
     "metadata": {},
     "output_type": "display_data"
    },
    {
     "data": {
      "application/javascript": [
       "\n",
       "        if (window._pyforest_update_imports_cell) { window._pyforest_update_imports_cell('from openpyxl import load_workbook\\nimport matplotlib as mpl\\nfrom sklearn.preprocessing import OneHotEncoder\\nimport matplotlib.pyplot as plt\\nfrom sklearn.ensemble import RandomForestClassifier\\nimport lightgbm as lgb\\nimport pandas as pd\\nfrom sklearn.ensemble import GradientBoostingClassifier\\nimport plotly.express as px\\nimport pickle\\nfrom sklearn.ensemble import GradientBoostingRegressor\\nfrom pathlib import Path\\nimport xgboost as xgb\\nimport seaborn as sns\\nfrom sklearn.ensemble import RandomForestRegressor\\nimport os\\nimport sklearn\\nimport plotly as py'); }\n",
       "    "
      ],
      "text/plain": [
       "<IPython.core.display.Javascript object>"
      ]
     },
     "metadata": {},
     "output_type": "display_data"
    },
    {
     "data": {
      "application/javascript": [
       "\n",
       "        if (window._pyforest_update_imports_cell) { window._pyforest_update_imports_cell('from openpyxl import load_workbook\\nimport matplotlib as mpl\\nfrom sklearn.preprocessing import OneHotEncoder\\nimport matplotlib.pyplot as plt\\nfrom sklearn.ensemble import RandomForestClassifier\\nimport lightgbm as lgb\\nimport pandas as pd\\nfrom sklearn.ensemble import GradientBoostingClassifier\\nimport plotly.express as px\\nimport pickle\\nfrom sklearn.ensemble import GradientBoostingRegressor\\nfrom pathlib import Path\\nimport xgboost as xgb\\nimport seaborn as sns\\nfrom sklearn.ensemble import RandomForestRegressor\\nimport os\\nimport sklearn\\nimport plotly as py'); }\n",
       "    "
      ],
      "text/plain": [
       "<IPython.core.display.Javascript object>"
      ]
     },
     "metadata": {},
     "output_type": "display_data"
    },
    {
     "data": {
      "application/javascript": [
       "\n",
       "        if (window._pyforest_update_imports_cell) { window._pyforest_update_imports_cell('from openpyxl import load_workbook\\nimport matplotlib as mpl\\nfrom sklearn.preprocessing import OneHotEncoder\\nimport matplotlib.pyplot as plt\\nfrom sklearn.ensemble import RandomForestClassifier\\nimport lightgbm as lgb\\nimport pandas as pd\\nfrom sklearn.ensemble import GradientBoostingClassifier\\nimport plotly.express as px\\nimport pickle\\nfrom sklearn.ensemble import GradientBoostingRegressor\\nfrom pathlib import Path\\nimport xgboost as xgb\\nimport seaborn as sns\\nfrom sklearn.ensemble import RandomForestRegressor\\nimport os\\nimport sklearn\\nimport plotly as py'); }\n",
       "    "
      ],
      "text/plain": [
       "<IPython.core.display.Javascript object>"
      ]
     },
     "metadata": {},
     "output_type": "display_data"
    },
    {
     "data": {
      "application/javascript": [
       "\n",
       "        if (window._pyforest_update_imports_cell) { window._pyforest_update_imports_cell('from openpyxl import load_workbook\\nimport matplotlib as mpl\\nfrom sklearn.preprocessing import OneHotEncoder\\nimport matplotlib.pyplot as plt\\nfrom sklearn.ensemble import RandomForestClassifier\\nimport lightgbm as lgb\\nimport pandas as pd\\nfrom sklearn.ensemble import GradientBoostingClassifier\\nimport plotly.express as px\\nimport pickle\\nfrom sklearn.ensemble import GradientBoostingRegressor\\nfrom pathlib import Path\\nimport xgboost as xgb\\nimport seaborn as sns\\nfrom sklearn.ensemble import RandomForestRegressor\\nimport os\\nimport sklearn\\nimport plotly as py'); }\n",
       "    "
      ],
      "text/plain": [
       "<IPython.core.display.Javascript object>"
      ]
     },
     "metadata": {},
     "output_type": "display_data"
    },
    {
     "data": {
      "application/javascript": [
       "\n",
       "        if (window._pyforest_update_imports_cell) { window._pyforest_update_imports_cell('from openpyxl import load_workbook\\nimport matplotlib as mpl\\nfrom sklearn.preprocessing import OneHotEncoder\\nimport matplotlib.pyplot as plt\\nfrom sklearn.ensemble import RandomForestClassifier\\nimport lightgbm as lgb\\nimport pandas as pd\\nfrom sklearn.ensemble import GradientBoostingClassifier\\nimport plotly.express as px\\nimport pickle\\nfrom sklearn.ensemble import GradientBoostingRegressor\\nfrom pathlib import Path\\nimport xgboost as xgb\\nimport seaborn as sns\\nfrom sklearn.ensemble import RandomForestRegressor\\nimport os\\nimport sklearn\\nimport plotly as py'); }\n",
       "    "
      ],
      "text/plain": [
       "<IPython.core.display.Javascript object>"
      ]
     },
     "metadata": {},
     "output_type": "display_data"
    },
    {
     "data": {
      "application/javascript": [
       "\n",
       "        if (window._pyforest_update_imports_cell) { window._pyforest_update_imports_cell('from openpyxl import load_workbook\\nimport matplotlib as mpl\\nfrom sklearn.preprocessing import OneHotEncoder\\nimport matplotlib.pyplot as plt\\nfrom sklearn.ensemble import RandomForestClassifier\\nimport lightgbm as lgb\\nimport pandas as pd\\nfrom sklearn.ensemble import GradientBoostingClassifier\\nimport plotly.express as px\\nimport pickle\\nfrom sklearn.ensemble import GradientBoostingRegressor\\nfrom pathlib import Path\\nimport xgboost as xgb\\nimport seaborn as sns\\nfrom sklearn.ensemble import RandomForestRegressor\\nimport os\\nimport sklearn\\nimport plotly as py'); }\n",
       "    "
      ],
      "text/plain": [
       "<IPython.core.display.Javascript object>"
      ]
     },
     "metadata": {},
     "output_type": "display_data"
    },
    {
     "data": {
      "application/javascript": [
       "\n",
       "        if (window._pyforest_update_imports_cell) { window._pyforest_update_imports_cell('from openpyxl import load_workbook\\nimport matplotlib as mpl\\nfrom sklearn.preprocessing import OneHotEncoder\\nimport matplotlib.pyplot as plt\\nfrom sklearn.ensemble import RandomForestClassifier\\nimport lightgbm as lgb\\nimport pandas as pd\\nfrom sklearn.ensemble import GradientBoostingClassifier\\nimport plotly.express as px\\nimport pickle\\nfrom sklearn.ensemble import GradientBoostingRegressor\\nfrom pathlib import Path\\nimport xgboost as xgb\\nimport seaborn as sns\\nfrom sklearn.ensemble import RandomForestRegressor\\nimport os\\nimport sklearn\\nimport plotly as py'); }\n",
       "    "
      ],
      "text/plain": [
       "<IPython.core.display.Javascript object>"
      ]
     },
     "metadata": {},
     "output_type": "display_data"
    },
    {
     "data": {
      "application/javascript": [
       "\n",
       "        if (window._pyforest_update_imports_cell) { window._pyforest_update_imports_cell('from openpyxl import load_workbook\\nimport matplotlib as mpl\\nfrom sklearn.preprocessing import OneHotEncoder\\nimport matplotlib.pyplot as plt\\nfrom sklearn.ensemble import RandomForestClassifier\\nimport lightgbm as lgb\\nimport pandas as pd\\nfrom sklearn.ensemble import GradientBoostingClassifier\\nimport plotly.express as px\\nimport pickle\\nfrom sklearn.ensemble import GradientBoostingRegressor\\nfrom pathlib import Path\\nimport xgboost as xgb\\nimport seaborn as sns\\nfrom sklearn.ensemble import RandomForestRegressor\\nimport os\\nimport sklearn\\nimport plotly as py'); }\n",
       "    "
      ],
      "text/plain": [
       "<IPython.core.display.Javascript object>"
      ]
     },
     "metadata": {},
     "output_type": "display_data"
    },
    {
     "data": {
      "application/javascript": [
       "\n",
       "        if (window._pyforest_update_imports_cell) { window._pyforest_update_imports_cell('from openpyxl import load_workbook\\nimport matplotlib as mpl\\nfrom sklearn.preprocessing import OneHotEncoder\\nimport matplotlib.pyplot as plt\\nfrom sklearn.ensemble import RandomForestClassifier\\nimport lightgbm as lgb\\nimport pandas as pd\\nfrom sklearn.ensemble import GradientBoostingClassifier\\nimport plotly.express as px\\nimport pickle\\nfrom sklearn.ensemble import GradientBoostingRegressor\\nfrom pathlib import Path\\nimport xgboost as xgb\\nimport seaborn as sns\\nfrom sklearn.ensemble import RandomForestRegressor\\nimport os\\nimport sklearn\\nimport plotly as py'); }\n",
       "    "
      ],
      "text/plain": [
       "<IPython.core.display.Javascript object>"
      ]
     },
     "metadata": {},
     "output_type": "display_data"
    },
    {
     "data": {
      "application/javascript": [
       "\n",
       "        if (window._pyforest_update_imports_cell) { window._pyforest_update_imports_cell('from openpyxl import load_workbook\\nimport matplotlib as mpl\\nfrom sklearn.preprocessing import OneHotEncoder\\nimport matplotlib.pyplot as plt\\nfrom sklearn.ensemble import RandomForestClassifier\\nimport lightgbm as lgb\\nimport pandas as pd\\nfrom sklearn.ensemble import GradientBoostingClassifier\\nimport plotly.express as px\\nimport pickle\\nfrom sklearn.ensemble import GradientBoostingRegressor\\nfrom pathlib import Path\\nimport xgboost as xgb\\nimport seaborn as sns\\nfrom sklearn.ensemble import RandomForestRegressor\\nimport os\\nimport sklearn\\nimport plotly as py'); }\n",
       "    "
      ],
      "text/plain": [
       "<IPython.core.display.Javascript object>"
      ]
     },
     "metadata": {},
     "output_type": "display_data"
    },
    {
     "data": {
      "application/javascript": [
       "\n",
       "        if (window._pyforest_update_imports_cell) { window._pyforest_update_imports_cell('from openpyxl import load_workbook\\nimport matplotlib as mpl\\nfrom sklearn.preprocessing import OneHotEncoder\\nimport matplotlib.pyplot as plt\\nfrom sklearn.ensemble import RandomForestClassifier\\nimport lightgbm as lgb\\nimport pandas as pd\\nfrom sklearn.ensemble import GradientBoostingClassifier\\nimport plotly.express as px\\nimport pickle\\nfrom sklearn.ensemble import GradientBoostingRegressor\\nfrom pathlib import Path\\nimport xgboost as xgb\\nimport seaborn as sns\\nfrom sklearn.ensemble import RandomForestRegressor\\nimport os\\nimport sklearn\\nimport plotly as py'); }\n",
       "    "
      ],
      "text/plain": [
       "<IPython.core.display.Javascript object>"
      ]
     },
     "metadata": {},
     "output_type": "display_data"
    },
    {
     "data": {
      "application/javascript": [
       "\n",
       "        if (window._pyforest_update_imports_cell) { window._pyforest_update_imports_cell('from openpyxl import load_workbook\\nimport matplotlib as mpl\\nfrom sklearn.preprocessing import OneHotEncoder\\nimport matplotlib.pyplot as plt\\nfrom sklearn.ensemble import RandomForestClassifier\\nimport lightgbm as lgb\\nimport pandas as pd\\nfrom sklearn.ensemble import GradientBoostingClassifier\\nimport plotly.express as px\\nimport pickle\\nfrom sklearn.ensemble import GradientBoostingRegressor\\nfrom pathlib import Path\\nimport xgboost as xgb\\nimport seaborn as sns\\nfrom sklearn.ensemble import RandomForestRegressor\\nimport os\\nimport sklearn\\nimport plotly as py'); }\n",
       "    "
      ],
      "text/plain": [
       "<IPython.core.display.Javascript object>"
      ]
     },
     "metadata": {},
     "output_type": "display_data"
    },
    {
     "data": {
      "application/javascript": [
       "\n",
       "        if (window._pyforest_update_imports_cell) { window._pyforest_update_imports_cell('from openpyxl import load_workbook\\nimport matplotlib as mpl\\nfrom sklearn.preprocessing import OneHotEncoder\\nimport matplotlib.pyplot as plt\\nfrom sklearn.ensemble import RandomForestClassifier\\nimport lightgbm as lgb\\nimport pandas as pd\\nfrom sklearn.ensemble import GradientBoostingClassifier\\nimport plotly.express as px\\nimport pickle\\nfrom sklearn.ensemble import GradientBoostingRegressor\\nfrom pathlib import Path\\nimport xgboost as xgb\\nimport seaborn as sns\\nfrom sklearn.ensemble import RandomForestRegressor\\nimport os\\nimport sklearn\\nimport plotly as py'); }\n",
       "    "
      ],
      "text/plain": [
       "<IPython.core.display.Javascript object>"
      ]
     },
     "metadata": {},
     "output_type": "display_data"
    },
    {
     "data": {
      "application/javascript": [
       "\n",
       "        if (window._pyforest_update_imports_cell) { window._pyforest_update_imports_cell('from openpyxl import load_workbook\\nimport matplotlib as mpl\\nfrom sklearn.preprocessing import OneHotEncoder\\nimport matplotlib.pyplot as plt\\nfrom sklearn.ensemble import RandomForestClassifier\\nimport lightgbm as lgb\\nimport pandas as pd\\nfrom sklearn.ensemble import GradientBoostingClassifier\\nimport plotly.express as px\\nimport pickle\\nfrom sklearn.ensemble import GradientBoostingRegressor\\nfrom pathlib import Path\\nimport xgboost as xgb\\nimport seaborn as sns\\nfrom sklearn.ensemble import RandomForestRegressor\\nimport os\\nimport sklearn\\nimport plotly as py'); }\n",
       "    "
      ],
      "text/plain": [
       "<IPython.core.display.Javascript object>"
      ]
     },
     "metadata": {},
     "output_type": "display_data"
    },
    {
     "data": {
      "application/javascript": [
       "\n",
       "        if (window._pyforest_update_imports_cell) { window._pyforest_update_imports_cell('from openpyxl import load_workbook\\nimport matplotlib as mpl\\nfrom sklearn.preprocessing import OneHotEncoder\\nimport matplotlib.pyplot as plt\\nfrom sklearn.ensemble import RandomForestClassifier\\nimport lightgbm as lgb\\nimport pandas as pd\\nfrom sklearn.ensemble import GradientBoostingClassifier\\nimport plotly.express as px\\nimport pickle\\nfrom sklearn.ensemble import GradientBoostingRegressor\\nfrom pathlib import Path\\nimport xgboost as xgb\\nimport seaborn as sns\\nfrom sklearn.ensemble import RandomForestRegressor\\nimport os\\nimport sklearn\\nimport plotly as py'); }\n",
       "    "
      ],
      "text/plain": [
       "<IPython.core.display.Javascript object>"
      ]
     },
     "metadata": {},
     "output_type": "display_data"
    },
    {
     "data": {
      "application/javascript": [
       "\n",
       "        if (window._pyforest_update_imports_cell) { window._pyforest_update_imports_cell('from openpyxl import load_workbook\\nimport matplotlib as mpl\\nfrom sklearn.preprocessing import OneHotEncoder\\nimport matplotlib.pyplot as plt\\nfrom sklearn.ensemble import RandomForestClassifier\\nimport lightgbm as lgb\\nimport pandas as pd\\nfrom sklearn.ensemble import GradientBoostingClassifier\\nimport plotly.express as px\\nimport pickle\\nfrom sklearn.ensemble import GradientBoostingRegressor\\nfrom pathlib import Path\\nimport xgboost as xgb\\nimport seaborn as sns\\nfrom sklearn.ensemble import RandomForestRegressor\\nimport os\\nimport sklearn\\nimport plotly as py'); }\n",
       "    "
      ],
      "text/plain": [
       "<IPython.core.display.Javascript object>"
      ]
     },
     "metadata": {},
     "output_type": "display_data"
    },
    {
     "data": {
      "application/javascript": [
       "\n",
       "        if (window._pyforest_update_imports_cell) { window._pyforest_update_imports_cell('from openpyxl import load_workbook\\nimport matplotlib as mpl\\nfrom sklearn.preprocessing import OneHotEncoder\\nimport matplotlib.pyplot as plt\\nfrom sklearn.ensemble import RandomForestClassifier\\nimport lightgbm as lgb\\nimport pandas as pd\\nfrom sklearn.ensemble import GradientBoostingClassifier\\nimport plotly.express as px\\nimport pickle\\nfrom sklearn.ensemble import GradientBoostingRegressor\\nfrom pathlib import Path\\nimport xgboost as xgb\\nimport seaborn as sns\\nfrom sklearn.ensemble import RandomForestRegressor\\nimport os\\nimport sklearn\\nimport plotly as py'); }\n",
       "    "
      ],
      "text/plain": [
       "<IPython.core.display.Javascript object>"
      ]
     },
     "metadata": {},
     "output_type": "display_data"
    },
    {
     "data": {
      "application/javascript": [
       "\n",
       "        if (window._pyforest_update_imports_cell) { window._pyforest_update_imports_cell('from openpyxl import load_workbook\\nimport matplotlib as mpl\\nfrom sklearn.preprocessing import OneHotEncoder\\nimport matplotlib.pyplot as plt\\nfrom sklearn.ensemble import RandomForestClassifier\\nimport lightgbm as lgb\\nimport pandas as pd\\nfrom sklearn.ensemble import GradientBoostingClassifier\\nimport plotly.express as px\\nimport pickle\\nfrom sklearn.ensemble import GradientBoostingRegressor\\nfrom pathlib import Path\\nimport xgboost as xgb\\nimport seaborn as sns\\nfrom sklearn.ensemble import RandomForestRegressor\\nimport os\\nimport sklearn\\nimport plotly as py'); }\n",
       "    "
      ],
      "text/plain": [
       "<IPython.core.display.Javascript object>"
      ]
     },
     "metadata": {},
     "output_type": "display_data"
    },
    {
     "data": {
      "application/javascript": [
       "\n",
       "        if (window._pyforest_update_imports_cell) { window._pyforest_update_imports_cell('from openpyxl import load_workbook\\nimport matplotlib as mpl\\nfrom sklearn.preprocessing import OneHotEncoder\\nimport matplotlib.pyplot as plt\\nfrom sklearn.ensemble import RandomForestClassifier\\nimport lightgbm as lgb\\nimport pandas as pd\\nfrom sklearn.ensemble import GradientBoostingClassifier\\nimport plotly.express as px\\nimport pickle\\nfrom sklearn.ensemble import GradientBoostingRegressor\\nfrom pathlib import Path\\nimport xgboost as xgb\\nimport seaborn as sns\\nfrom sklearn.ensemble import RandomForestRegressor\\nimport os\\nimport sklearn\\nimport plotly as py'); }\n",
       "    "
      ],
      "text/plain": [
       "<IPython.core.display.Javascript object>"
      ]
     },
     "metadata": {},
     "output_type": "display_data"
    },
    {
     "data": {
      "application/javascript": [
       "\n",
       "        if (window._pyforest_update_imports_cell) { window._pyforest_update_imports_cell('from openpyxl import load_workbook\\nimport matplotlib as mpl\\nfrom sklearn.preprocessing import OneHotEncoder\\nimport matplotlib.pyplot as plt\\nfrom sklearn.ensemble import RandomForestClassifier\\nimport lightgbm as lgb\\nimport pandas as pd\\nfrom sklearn.ensemble import GradientBoostingClassifier\\nimport plotly.express as px\\nimport pickle\\nfrom sklearn.ensemble import GradientBoostingRegressor\\nfrom pathlib import Path\\nimport xgboost as xgb\\nimport seaborn as sns\\nfrom sklearn.ensemble import RandomForestRegressor\\nimport os\\nimport sklearn\\nimport plotly as py'); }\n",
       "    "
      ],
      "text/plain": [
       "<IPython.core.display.Javascript object>"
      ]
     },
     "metadata": {},
     "output_type": "display_data"
    },
    {
     "data": {
      "application/javascript": [
       "\n",
       "        if (window._pyforest_update_imports_cell) { window._pyforest_update_imports_cell('from openpyxl import load_workbook\\nimport matplotlib as mpl\\nfrom sklearn.preprocessing import OneHotEncoder\\nimport matplotlib.pyplot as plt\\nfrom sklearn.ensemble import RandomForestClassifier\\nimport lightgbm as lgb\\nimport pandas as pd\\nfrom sklearn.ensemble import GradientBoostingClassifier\\nimport plotly.express as px\\nimport pickle\\nfrom sklearn.ensemble import GradientBoostingRegressor\\nfrom pathlib import Path\\nimport xgboost as xgb\\nimport seaborn as sns\\nfrom sklearn.ensemble import RandomForestRegressor\\nimport os\\nimport sklearn\\nimport plotly as py'); }\n",
       "    "
      ],
      "text/plain": [
       "<IPython.core.display.Javascript object>"
      ]
     },
     "metadata": {},
     "output_type": "display_data"
    },
    {
     "data": {
      "application/javascript": [
       "\n",
       "        if (window._pyforest_update_imports_cell) { window._pyforest_update_imports_cell('from openpyxl import load_workbook\\nimport matplotlib as mpl\\nfrom sklearn.preprocessing import OneHotEncoder\\nimport matplotlib.pyplot as plt\\nfrom sklearn.ensemble import RandomForestClassifier\\nimport lightgbm as lgb\\nimport pandas as pd\\nfrom sklearn.ensemble import GradientBoostingClassifier\\nimport plotly.express as px\\nimport pickle\\nfrom sklearn.ensemble import GradientBoostingRegressor\\nfrom pathlib import Path\\nimport xgboost as xgb\\nimport seaborn as sns\\nfrom sklearn.ensemble import RandomForestRegressor\\nimport os\\nimport sklearn\\nimport plotly as py'); }\n",
       "    "
      ],
      "text/plain": [
       "<IPython.core.display.Javascript object>"
      ]
     },
     "metadata": {},
     "output_type": "display_data"
    },
    {
     "data": {
      "application/javascript": [
       "\n",
       "        if (window._pyforest_update_imports_cell) { window._pyforest_update_imports_cell('from openpyxl import load_workbook\\nimport matplotlib as mpl\\nfrom sklearn.preprocessing import OneHotEncoder\\nimport matplotlib.pyplot as plt\\nfrom sklearn.ensemble import RandomForestClassifier\\nimport lightgbm as lgb\\nimport pandas as pd\\nfrom sklearn.ensemble import GradientBoostingClassifier\\nimport plotly.express as px\\nimport pickle\\nfrom sklearn.ensemble import GradientBoostingRegressor\\nfrom pathlib import Path\\nimport xgboost as xgb\\nimport seaborn as sns\\nfrom sklearn.ensemble import RandomForestRegressor\\nimport os\\nimport sklearn\\nimport plotly as py'); }\n",
       "    "
      ],
      "text/plain": [
       "<IPython.core.display.Javascript object>"
      ]
     },
     "metadata": {},
     "output_type": "display_data"
    },
    {
     "data": {
      "application/javascript": [
       "\n",
       "        if (window._pyforest_update_imports_cell) { window._pyforest_update_imports_cell('from openpyxl import load_workbook\\nimport matplotlib as mpl\\nfrom sklearn.preprocessing import OneHotEncoder\\nimport matplotlib.pyplot as plt\\nfrom sklearn.ensemble import RandomForestClassifier\\nimport lightgbm as lgb\\nimport pandas as pd\\nfrom sklearn.ensemble import GradientBoostingClassifier\\nimport plotly.express as px\\nimport pickle\\nfrom sklearn.ensemble import GradientBoostingRegressor\\nfrom pathlib import Path\\nimport xgboost as xgb\\nimport seaborn as sns\\nfrom sklearn.ensemble import RandomForestRegressor\\nimport os\\nimport sklearn\\nimport plotly as py'); }\n",
       "    "
      ],
      "text/plain": [
       "<IPython.core.display.Javascript object>"
      ]
     },
     "metadata": {},
     "output_type": "display_data"
    },
    {
     "data": {
      "application/javascript": [
       "\n",
       "        if (window._pyforest_update_imports_cell) { window._pyforest_update_imports_cell('from openpyxl import load_workbook\\nimport matplotlib as mpl\\nfrom sklearn.preprocessing import OneHotEncoder\\nimport matplotlib.pyplot as plt\\nfrom sklearn.ensemble import RandomForestClassifier\\nimport lightgbm as lgb\\nimport pandas as pd\\nfrom sklearn.ensemble import GradientBoostingClassifier\\nimport plotly.express as px\\nimport pickle\\nfrom sklearn.ensemble import GradientBoostingRegressor\\nfrom pathlib import Path\\nimport xgboost as xgb\\nimport seaborn as sns\\nfrom sklearn.ensemble import RandomForestRegressor\\nimport os\\nimport sklearn\\nimport plotly as py'); }\n",
       "    "
      ],
      "text/plain": [
       "<IPython.core.display.Javascript object>"
      ]
     },
     "metadata": {},
     "output_type": "display_data"
    },
    {
     "data": {
      "application/javascript": [
       "\n",
       "        if (window._pyforest_update_imports_cell) { window._pyforest_update_imports_cell('from openpyxl import load_workbook\\nimport matplotlib as mpl\\nfrom sklearn.preprocessing import OneHotEncoder\\nimport matplotlib.pyplot as plt\\nfrom sklearn.ensemble import RandomForestClassifier\\nimport lightgbm as lgb\\nimport pandas as pd\\nfrom sklearn.ensemble import GradientBoostingClassifier\\nimport plotly.express as px\\nimport pickle\\nfrom sklearn.ensemble import GradientBoostingRegressor\\nfrom pathlib import Path\\nimport xgboost as xgb\\nimport seaborn as sns\\nfrom sklearn.ensemble import RandomForestRegressor\\nimport os\\nimport sklearn\\nimport plotly as py'); }\n",
       "    "
      ],
      "text/plain": [
       "<IPython.core.display.Javascript object>"
      ]
     },
     "metadata": {},
     "output_type": "display_data"
    },
    {
     "data": {
      "application/javascript": [
       "\n",
       "        if (window._pyforest_update_imports_cell) { window._pyforest_update_imports_cell('from openpyxl import load_workbook\\nimport matplotlib as mpl\\nfrom sklearn.preprocessing import OneHotEncoder\\nimport matplotlib.pyplot as plt\\nfrom sklearn.ensemble import RandomForestClassifier\\nimport lightgbm as lgb\\nimport pandas as pd\\nfrom sklearn.ensemble import GradientBoostingClassifier\\nimport plotly.express as px\\nimport pickle\\nfrom sklearn.ensemble import GradientBoostingRegressor\\nfrom pathlib import Path\\nimport xgboost as xgb\\nimport seaborn as sns\\nfrom sklearn.ensemble import RandomForestRegressor\\nimport os\\nimport sklearn\\nimport plotly as py'); }\n",
       "    "
      ],
      "text/plain": [
       "<IPython.core.display.Javascript object>"
      ]
     },
     "metadata": {},
     "output_type": "display_data"
    },
    {
     "data": {
      "application/javascript": [
       "\n",
       "        if (window._pyforest_update_imports_cell) { window._pyforest_update_imports_cell('from openpyxl import load_workbook\\nimport matplotlib as mpl\\nfrom sklearn.preprocessing import OneHotEncoder\\nimport matplotlib.pyplot as plt\\nfrom sklearn.ensemble import RandomForestClassifier\\nimport lightgbm as lgb\\nimport pandas as pd\\nfrom sklearn.ensemble import GradientBoostingClassifier\\nimport plotly.express as px\\nimport pickle\\nfrom sklearn.ensemble import GradientBoostingRegressor\\nfrom pathlib import Path\\nimport xgboost as xgb\\nimport seaborn as sns\\nfrom sklearn.ensemble import RandomForestRegressor\\nimport os\\nimport sklearn\\nimport plotly as py'); }\n",
       "    "
      ],
      "text/plain": [
       "<IPython.core.display.Javascript object>"
      ]
     },
     "metadata": {},
     "output_type": "display_data"
    },
    {
     "data": {
      "application/javascript": [
       "\n",
       "        if (window._pyforest_update_imports_cell) { window._pyforest_update_imports_cell('from openpyxl import load_workbook\\nimport matplotlib as mpl\\nfrom sklearn.preprocessing import OneHotEncoder\\nimport matplotlib.pyplot as plt\\nfrom sklearn.ensemble import RandomForestClassifier\\nimport lightgbm as lgb\\nimport pandas as pd\\nfrom sklearn.ensemble import GradientBoostingClassifier\\nimport plotly.express as px\\nimport pickle\\nfrom sklearn.ensemble import GradientBoostingRegressor\\nfrom pathlib import Path\\nimport xgboost as xgb\\nimport seaborn as sns\\nfrom sklearn.ensemble import RandomForestRegressor\\nimport os\\nimport sklearn\\nimport plotly as py'); }\n",
       "    "
      ],
      "text/plain": [
       "<IPython.core.display.Javascript object>"
      ]
     },
     "metadata": {},
     "output_type": "display_data"
    },
    {
     "data": {
      "application/javascript": [
       "\n",
       "        if (window._pyforest_update_imports_cell) { window._pyforest_update_imports_cell('from openpyxl import load_workbook\\nimport matplotlib as mpl\\nfrom sklearn.preprocessing import OneHotEncoder\\nimport matplotlib.pyplot as plt\\nfrom sklearn.ensemble import RandomForestClassifier\\nimport lightgbm as lgb\\nimport pandas as pd\\nfrom sklearn.ensemble import GradientBoostingClassifier\\nimport plotly.express as px\\nimport pickle\\nfrom sklearn.ensemble import GradientBoostingRegressor\\nfrom pathlib import Path\\nimport xgboost as xgb\\nimport seaborn as sns\\nfrom sklearn.ensemble import RandomForestRegressor\\nimport os\\nimport sklearn\\nimport plotly as py'); }\n",
       "    "
      ],
      "text/plain": [
       "<IPython.core.display.Javascript object>"
      ]
     },
     "metadata": {},
     "output_type": "display_data"
    },
    {
     "data": {
      "application/javascript": [
       "\n",
       "        if (window._pyforest_update_imports_cell) { window._pyforest_update_imports_cell('from openpyxl import load_workbook\\nimport matplotlib as mpl\\nfrom sklearn.preprocessing import OneHotEncoder\\nimport matplotlib.pyplot as plt\\nfrom sklearn.ensemble import RandomForestClassifier\\nimport lightgbm as lgb\\nimport pandas as pd\\nfrom sklearn.ensemble import GradientBoostingClassifier\\nimport plotly.express as px\\nimport pickle\\nfrom sklearn.ensemble import GradientBoostingRegressor\\nfrom pathlib import Path\\nimport xgboost as xgb\\nimport seaborn as sns\\nfrom sklearn.ensemble import RandomForestRegressor\\nimport os\\nimport sklearn\\nimport plotly as py'); }\n",
       "    "
      ],
      "text/plain": [
       "<IPython.core.display.Javascript object>"
      ]
     },
     "metadata": {},
     "output_type": "display_data"
    },
    {
     "data": {
      "application/javascript": [
       "\n",
       "        if (window._pyforest_update_imports_cell) { window._pyforest_update_imports_cell('from openpyxl import load_workbook\\nimport matplotlib as mpl\\nfrom sklearn.preprocessing import OneHotEncoder\\nimport matplotlib.pyplot as plt\\nfrom sklearn.ensemble import RandomForestClassifier\\nimport lightgbm as lgb\\nimport pandas as pd\\nfrom sklearn.ensemble import GradientBoostingClassifier\\nimport plotly.express as px\\nimport pickle\\nfrom sklearn.ensemble import GradientBoostingRegressor\\nfrom pathlib import Path\\nimport xgboost as xgb\\nimport seaborn as sns\\nfrom sklearn.ensemble import RandomForestRegressor\\nimport os\\nimport sklearn\\nimport plotly as py'); }\n",
       "    "
      ],
      "text/plain": [
       "<IPython.core.display.Javascript object>"
      ]
     },
     "metadata": {},
     "output_type": "display_data"
    },
    {
     "data": {
      "application/javascript": [
       "\n",
       "        if (window._pyforest_update_imports_cell) { window._pyforest_update_imports_cell('from openpyxl import load_workbook\\nimport matplotlib as mpl\\nfrom sklearn.preprocessing import OneHotEncoder\\nimport matplotlib.pyplot as plt\\nfrom sklearn.ensemble import RandomForestClassifier\\nimport lightgbm as lgb\\nimport pandas as pd\\nfrom sklearn.ensemble import GradientBoostingClassifier\\nimport plotly.express as px\\nimport pickle\\nfrom sklearn.ensemble import GradientBoostingRegressor\\nfrom pathlib import Path\\nimport xgboost as xgb\\nimport seaborn as sns\\nfrom sklearn.ensemble import RandomForestRegressor\\nimport os\\nimport sklearn\\nimport plotly as py'); }\n",
       "    "
      ],
      "text/plain": [
       "<IPython.core.display.Javascript object>"
      ]
     },
     "metadata": {},
     "output_type": "display_data"
    },
    {
     "data": {
      "application/javascript": [
       "\n",
       "        if (window._pyforest_update_imports_cell) { window._pyforest_update_imports_cell('from openpyxl import load_workbook\\nimport matplotlib as mpl\\nfrom sklearn.preprocessing import OneHotEncoder\\nimport matplotlib.pyplot as plt\\nfrom sklearn.ensemble import RandomForestClassifier\\nimport lightgbm as lgb\\nimport pandas as pd\\nfrom sklearn.ensemble import GradientBoostingClassifier\\nimport plotly.express as px\\nimport pickle\\nfrom sklearn.ensemble import GradientBoostingRegressor\\nfrom pathlib import Path\\nimport xgboost as xgb\\nimport seaborn as sns\\nfrom sklearn.ensemble import RandomForestRegressor\\nimport os\\nimport sklearn\\nimport plotly as py'); }\n",
       "    "
      ],
      "text/plain": [
       "<IPython.core.display.Javascript object>"
      ]
     },
     "metadata": {},
     "output_type": "display_data"
    },
    {
     "data": {
      "application/javascript": [
       "\n",
       "        if (window._pyforest_update_imports_cell) { window._pyforest_update_imports_cell('from openpyxl import load_workbook\\nimport matplotlib as mpl\\nfrom sklearn.preprocessing import OneHotEncoder\\nimport matplotlib.pyplot as plt\\nfrom sklearn.ensemble import RandomForestClassifier\\nimport lightgbm as lgb\\nimport pandas as pd\\nfrom sklearn.ensemble import GradientBoostingClassifier\\nimport plotly.express as px\\nimport pickle\\nfrom sklearn.ensemble import GradientBoostingRegressor\\nfrom pathlib import Path\\nimport xgboost as xgb\\nimport seaborn as sns\\nfrom sklearn.ensemble import RandomForestRegressor\\nimport os\\nimport sklearn\\nimport plotly as py'); }\n",
       "    "
      ],
      "text/plain": [
       "<IPython.core.display.Javascript object>"
      ]
     },
     "metadata": {},
     "output_type": "display_data"
    },
    {
     "data": {
      "application/javascript": [
       "\n",
       "        if (window._pyforest_update_imports_cell) { window._pyforest_update_imports_cell('from openpyxl import load_workbook\\nimport matplotlib as mpl\\nfrom sklearn.preprocessing import OneHotEncoder\\nimport matplotlib.pyplot as plt\\nfrom sklearn.ensemble import RandomForestClassifier\\nimport lightgbm as lgb\\nimport pandas as pd\\nfrom sklearn.ensemble import GradientBoostingClassifier\\nimport plotly.express as px\\nimport pickle\\nfrom sklearn.ensemble import GradientBoostingRegressor\\nfrom pathlib import Path\\nimport xgboost as xgb\\nimport seaborn as sns\\nfrom sklearn.ensemble import RandomForestRegressor\\nimport os\\nimport sklearn\\nimport plotly as py'); }\n",
       "    "
      ],
      "text/plain": [
       "<IPython.core.display.Javascript object>"
      ]
     },
     "metadata": {},
     "output_type": "display_data"
    },
    {
     "data": {
      "application/javascript": [
       "\n",
       "        if (window._pyforest_update_imports_cell) { window._pyforest_update_imports_cell('from openpyxl import load_workbook\\nimport matplotlib as mpl\\nfrom sklearn.preprocessing import OneHotEncoder\\nimport matplotlib.pyplot as plt\\nfrom sklearn.ensemble import RandomForestClassifier\\nimport lightgbm as lgb\\nimport pandas as pd\\nfrom sklearn.ensemble import GradientBoostingClassifier\\nimport plotly.express as px\\nimport pickle\\nfrom sklearn.ensemble import GradientBoostingRegressor\\nfrom pathlib import Path\\nimport xgboost as xgb\\nimport seaborn as sns\\nfrom sklearn.ensemble import RandomForestRegressor\\nimport os\\nimport sklearn\\nimport plotly as py'); }\n",
       "    "
      ],
      "text/plain": [
       "<IPython.core.display.Javascript object>"
      ]
     },
     "metadata": {},
     "output_type": "display_data"
    },
    {
     "data": {
      "application/javascript": [
       "\n",
       "        if (window._pyforest_update_imports_cell) { window._pyforest_update_imports_cell('from openpyxl import load_workbook\\nimport matplotlib as mpl\\nfrom sklearn.preprocessing import OneHotEncoder\\nimport matplotlib.pyplot as plt\\nfrom sklearn.ensemble import RandomForestClassifier\\nimport lightgbm as lgb\\nimport pandas as pd\\nfrom sklearn.ensemble import GradientBoostingClassifier\\nimport plotly.express as px\\nimport pickle\\nfrom sklearn.ensemble import GradientBoostingRegressor\\nfrom pathlib import Path\\nimport xgboost as xgb\\nimport seaborn as sns\\nfrom sklearn.ensemble import RandomForestRegressor\\nimport os\\nimport sklearn\\nimport plotly as py'); }\n",
       "    "
      ],
      "text/plain": [
       "<IPython.core.display.Javascript object>"
      ]
     },
     "metadata": {},
     "output_type": "display_data"
    },
    {
     "data": {
      "application/javascript": [
       "\n",
       "        if (window._pyforest_update_imports_cell) { window._pyforest_update_imports_cell('from openpyxl import load_workbook\\nimport matplotlib as mpl\\nfrom sklearn.preprocessing import OneHotEncoder\\nimport matplotlib.pyplot as plt\\nfrom sklearn.ensemble import RandomForestClassifier\\nimport lightgbm as lgb\\nimport pandas as pd\\nfrom sklearn.ensemble import GradientBoostingClassifier\\nimport plotly.express as px\\nimport pickle\\nfrom sklearn.ensemble import GradientBoostingRegressor\\nfrom pathlib import Path\\nimport xgboost as xgb\\nimport seaborn as sns\\nfrom sklearn.ensemble import RandomForestRegressor\\nimport os\\nimport sklearn\\nimport plotly as py'); }\n",
       "    "
      ],
      "text/plain": [
       "<IPython.core.display.Javascript object>"
      ]
     },
     "metadata": {},
     "output_type": "display_data"
    },
    {
     "data": {
      "application/javascript": [
       "\n",
       "        if (window._pyforest_update_imports_cell) { window._pyforest_update_imports_cell('from openpyxl import load_workbook\\nimport matplotlib as mpl\\nfrom sklearn.preprocessing import OneHotEncoder\\nimport matplotlib.pyplot as plt\\nfrom sklearn.ensemble import RandomForestClassifier\\nimport lightgbm as lgb\\nimport pandas as pd\\nfrom sklearn.ensemble import GradientBoostingClassifier\\nimport plotly.express as px\\nimport pickle\\nfrom sklearn.ensemble import GradientBoostingRegressor\\nfrom pathlib import Path\\nimport xgboost as xgb\\nimport seaborn as sns\\nfrom sklearn.ensemble import RandomForestRegressor\\nimport os\\nimport sklearn\\nimport plotly as py'); }\n",
       "    "
      ],
      "text/plain": [
       "<IPython.core.display.Javascript object>"
      ]
     },
     "metadata": {},
     "output_type": "display_data"
    },
    {
     "data": {
      "application/javascript": [
       "\n",
       "        if (window._pyforest_update_imports_cell) { window._pyforest_update_imports_cell('from openpyxl import load_workbook\\nimport matplotlib as mpl\\nfrom sklearn.preprocessing import OneHotEncoder\\nimport matplotlib.pyplot as plt\\nfrom sklearn.ensemble import RandomForestClassifier\\nimport lightgbm as lgb\\nimport pandas as pd\\nfrom sklearn.ensemble import GradientBoostingClassifier\\nimport plotly.express as px\\nimport pickle\\nfrom sklearn.ensemble import GradientBoostingRegressor\\nfrom pathlib import Path\\nimport xgboost as xgb\\nimport seaborn as sns\\nfrom sklearn.ensemble import RandomForestRegressor\\nimport os\\nimport sklearn\\nimport plotly as py'); }\n",
       "    "
      ],
      "text/plain": [
       "<IPython.core.display.Javascript object>"
      ]
     },
     "metadata": {},
     "output_type": "display_data"
    },
    {
     "data": {
      "application/javascript": [
       "\n",
       "        if (window._pyforest_update_imports_cell) { window._pyforest_update_imports_cell('from openpyxl import load_workbook\\nimport matplotlib as mpl\\nfrom sklearn.preprocessing import OneHotEncoder\\nimport matplotlib.pyplot as plt\\nfrom sklearn.ensemble import RandomForestClassifier\\nimport lightgbm as lgb\\nimport pandas as pd\\nfrom sklearn.ensemble import GradientBoostingClassifier\\nimport plotly.express as px\\nimport pickle\\nfrom sklearn.ensemble import GradientBoostingRegressor\\nfrom pathlib import Path\\nimport xgboost as xgb\\nimport seaborn as sns\\nfrom sklearn.ensemble import RandomForestRegressor\\nimport os\\nimport sklearn\\nimport plotly as py'); }\n",
       "    "
      ],
      "text/plain": [
       "<IPython.core.display.Javascript object>"
      ]
     },
     "metadata": {},
     "output_type": "display_data"
    },
    {
     "data": {
      "application/javascript": [
       "\n",
       "        if (window._pyforest_update_imports_cell) { window._pyforest_update_imports_cell('from openpyxl import load_workbook\\nimport matplotlib as mpl\\nfrom sklearn.preprocessing import OneHotEncoder\\nimport matplotlib.pyplot as plt\\nfrom sklearn.ensemble import RandomForestClassifier\\nimport lightgbm as lgb\\nimport pandas as pd\\nfrom sklearn.ensemble import GradientBoostingClassifier\\nimport plotly.express as px\\nimport pickle\\nfrom sklearn.ensemble import GradientBoostingRegressor\\nfrom pathlib import Path\\nimport xgboost as xgb\\nimport seaborn as sns\\nfrom sklearn.ensemble import RandomForestRegressor\\nimport os\\nimport sklearn\\nimport plotly as py'); }\n",
       "    "
      ],
      "text/plain": [
       "<IPython.core.display.Javascript object>"
      ]
     },
     "metadata": {},
     "output_type": "display_data"
    },
    {
     "data": {
      "application/javascript": [
       "\n",
       "        if (window._pyforest_update_imports_cell) { window._pyforest_update_imports_cell('from openpyxl import load_workbook\\nimport matplotlib as mpl\\nfrom sklearn.preprocessing import OneHotEncoder\\nimport matplotlib.pyplot as plt\\nfrom sklearn.ensemble import RandomForestClassifier\\nimport lightgbm as lgb\\nimport pandas as pd\\nfrom sklearn.ensemble import GradientBoostingClassifier\\nimport plotly.express as px\\nimport pickle\\nfrom sklearn.ensemble import GradientBoostingRegressor\\nfrom pathlib import Path\\nimport xgboost as xgb\\nimport seaborn as sns\\nfrom sklearn.ensemble import RandomForestRegressor\\nimport os\\nimport sklearn\\nimport plotly as py'); }\n",
       "    "
      ],
      "text/plain": [
       "<IPython.core.display.Javascript object>"
      ]
     },
     "metadata": {},
     "output_type": "display_data"
    },
    {
     "data": {
      "application/javascript": [
       "\n",
       "        if (window._pyforest_update_imports_cell) { window._pyforest_update_imports_cell('from openpyxl import load_workbook\\nimport matplotlib as mpl\\nfrom sklearn.preprocessing import OneHotEncoder\\nimport matplotlib.pyplot as plt\\nfrom sklearn.ensemble import RandomForestClassifier\\nimport lightgbm as lgb\\nimport pandas as pd\\nfrom sklearn.ensemble import GradientBoostingClassifier\\nimport plotly.express as px\\nimport pickle\\nfrom sklearn.ensemble import GradientBoostingRegressor\\nfrom pathlib import Path\\nimport xgboost as xgb\\nimport seaborn as sns\\nfrom sklearn.ensemble import RandomForestRegressor\\nimport os\\nimport sklearn\\nimport plotly as py'); }\n",
       "    "
      ],
      "text/plain": [
       "<IPython.core.display.Javascript object>"
      ]
     },
     "metadata": {},
     "output_type": "display_data"
    },
    {
     "data": {
      "application/javascript": [
       "\n",
       "        if (window._pyforest_update_imports_cell) { window._pyforest_update_imports_cell('from openpyxl import load_workbook\\nimport matplotlib as mpl\\nfrom sklearn.preprocessing import OneHotEncoder\\nimport matplotlib.pyplot as plt\\nfrom sklearn.ensemble import RandomForestClassifier\\nimport lightgbm as lgb\\nimport pandas as pd\\nfrom sklearn.ensemble import GradientBoostingClassifier\\nimport plotly.express as px\\nimport pickle\\nfrom sklearn.ensemble import GradientBoostingRegressor\\nfrom pathlib import Path\\nimport xgboost as xgb\\nimport seaborn as sns\\nfrom sklearn.ensemble import RandomForestRegressor\\nimport os\\nimport sklearn\\nimport plotly as py'); }\n",
       "    "
      ],
      "text/plain": [
       "<IPython.core.display.Javascript object>"
      ]
     },
     "metadata": {},
     "output_type": "display_data"
    },
    {
     "data": {
      "application/javascript": [
       "\n",
       "        if (window._pyforest_update_imports_cell) { window._pyforest_update_imports_cell('from openpyxl import load_workbook\\nimport matplotlib as mpl\\nfrom sklearn.preprocessing import OneHotEncoder\\nimport matplotlib.pyplot as plt\\nfrom sklearn.ensemble import RandomForestClassifier\\nimport lightgbm as lgb\\nimport pandas as pd\\nfrom sklearn.ensemble import GradientBoostingClassifier\\nimport plotly.express as px\\nimport pickle\\nfrom sklearn.ensemble import GradientBoostingRegressor\\nfrom pathlib import Path\\nimport xgboost as xgb\\nimport seaborn as sns\\nfrom sklearn.ensemble import RandomForestRegressor\\nimport os\\nimport sklearn\\nimport plotly as py'); }\n",
       "    "
      ],
      "text/plain": [
       "<IPython.core.display.Javascript object>"
      ]
     },
     "metadata": {},
     "output_type": "display_data"
    },
    {
     "data": {
      "application/javascript": [
       "\n",
       "        if (window._pyforest_update_imports_cell) { window._pyforest_update_imports_cell('from openpyxl import load_workbook\\nimport matplotlib as mpl\\nfrom sklearn.preprocessing import OneHotEncoder\\nimport matplotlib.pyplot as plt\\nfrom sklearn.ensemble import RandomForestClassifier\\nimport lightgbm as lgb\\nimport pandas as pd\\nfrom sklearn.ensemble import GradientBoostingClassifier\\nimport plotly.express as px\\nimport pickle\\nfrom sklearn.ensemble import GradientBoostingRegressor\\nfrom pathlib import Path\\nimport xgboost as xgb\\nimport seaborn as sns\\nfrom sklearn.ensemble import RandomForestRegressor\\nimport os\\nimport sklearn\\nimport plotly as py'); }\n",
       "    "
      ],
      "text/plain": [
       "<IPython.core.display.Javascript object>"
      ]
     },
     "metadata": {},
     "output_type": "display_data"
    },
    {
     "data": {
      "application/javascript": [
       "\n",
       "        if (window._pyforest_update_imports_cell) { window._pyforest_update_imports_cell('from openpyxl import load_workbook\\nimport matplotlib as mpl\\nfrom sklearn.preprocessing import OneHotEncoder\\nimport matplotlib.pyplot as plt\\nfrom sklearn.ensemble import RandomForestClassifier\\nimport lightgbm as lgb\\nimport pandas as pd\\nfrom sklearn.ensemble import GradientBoostingClassifier\\nimport plotly.express as px\\nimport pickle\\nfrom sklearn.ensemble import GradientBoostingRegressor\\nfrom pathlib import Path\\nimport xgboost as xgb\\nimport seaborn as sns\\nfrom sklearn.ensemble import RandomForestRegressor\\nimport os\\nimport sklearn\\nimport plotly as py'); }\n",
       "    "
      ],
      "text/plain": [
       "<IPython.core.display.Javascript object>"
      ]
     },
     "metadata": {},
     "output_type": "display_data"
    },
    {
     "data": {
      "application/javascript": [
       "\n",
       "        if (window._pyforest_update_imports_cell) { window._pyforest_update_imports_cell('from openpyxl import load_workbook\\nimport matplotlib as mpl\\nfrom sklearn.preprocessing import OneHotEncoder\\nimport matplotlib.pyplot as plt\\nfrom sklearn.ensemble import RandomForestClassifier\\nimport lightgbm as lgb\\nimport pandas as pd\\nfrom sklearn.ensemble import GradientBoostingClassifier\\nimport plotly.express as px\\nimport pickle\\nfrom sklearn.ensemble import GradientBoostingRegressor\\nfrom pathlib import Path\\nimport xgboost as xgb\\nimport seaborn as sns\\nfrom sklearn.ensemble import RandomForestRegressor\\nimport os\\nimport sklearn\\nimport plotly as py'); }\n",
       "    "
      ],
      "text/plain": [
       "<IPython.core.display.Javascript object>"
      ]
     },
     "metadata": {},
     "output_type": "display_data"
    },
    {
     "data": {
      "application/javascript": [
       "\n",
       "        if (window._pyforest_update_imports_cell) { window._pyforest_update_imports_cell('from openpyxl import load_workbook\\nimport matplotlib as mpl\\nfrom sklearn.preprocessing import OneHotEncoder\\nimport matplotlib.pyplot as plt\\nfrom sklearn.ensemble import RandomForestClassifier\\nimport lightgbm as lgb\\nimport pandas as pd\\nfrom sklearn.ensemble import GradientBoostingClassifier\\nimport plotly.express as px\\nimport pickle\\nfrom sklearn.ensemble import GradientBoostingRegressor\\nfrom pathlib import Path\\nimport xgboost as xgb\\nimport seaborn as sns\\nfrom sklearn.ensemble import RandomForestRegressor\\nimport os\\nimport sklearn\\nimport plotly as py'); }\n",
       "    "
      ],
      "text/plain": [
       "<IPython.core.display.Javascript object>"
      ]
     },
     "metadata": {},
     "output_type": "display_data"
    },
    {
     "data": {
      "application/javascript": [
       "\n",
       "        if (window._pyforest_update_imports_cell) { window._pyforest_update_imports_cell('from openpyxl import load_workbook\\nimport matplotlib as mpl\\nfrom sklearn.preprocessing import OneHotEncoder\\nimport matplotlib.pyplot as plt\\nfrom sklearn.ensemble import RandomForestClassifier\\nimport lightgbm as lgb\\nimport pandas as pd\\nfrom sklearn.ensemble import GradientBoostingClassifier\\nimport plotly.express as px\\nimport pickle\\nfrom sklearn.ensemble import GradientBoostingRegressor\\nfrom pathlib import Path\\nimport xgboost as xgb\\nimport seaborn as sns\\nfrom sklearn.ensemble import RandomForestRegressor\\nimport os\\nimport sklearn\\nimport plotly as py'); }\n",
       "    "
      ],
      "text/plain": [
       "<IPython.core.display.Javascript object>"
      ]
     },
     "metadata": {},
     "output_type": "display_data"
    },
    {
     "data": {
      "application/javascript": [
       "\n",
       "        if (window._pyforest_update_imports_cell) { window._pyforest_update_imports_cell('from openpyxl import load_workbook\\nimport matplotlib as mpl\\nfrom sklearn.preprocessing import OneHotEncoder\\nimport matplotlib.pyplot as plt\\nfrom sklearn.ensemble import RandomForestClassifier\\nimport lightgbm as lgb\\nimport pandas as pd\\nfrom sklearn.ensemble import GradientBoostingClassifier\\nimport plotly.express as px\\nimport pickle\\nfrom sklearn.ensemble import GradientBoostingRegressor\\nfrom pathlib import Path\\nimport xgboost as xgb\\nimport seaborn as sns\\nfrom sklearn.ensemble import RandomForestRegressor\\nimport os\\nimport sklearn\\nimport plotly as py'); }\n",
       "    "
      ],
      "text/plain": [
       "<IPython.core.display.Javascript object>"
      ]
     },
     "metadata": {},
     "output_type": "display_data"
    },
    {
     "data": {
      "application/javascript": [
       "\n",
       "        if (window._pyforest_update_imports_cell) { window._pyforest_update_imports_cell('from openpyxl import load_workbook\\nimport matplotlib as mpl\\nfrom sklearn.preprocessing import OneHotEncoder\\nimport matplotlib.pyplot as plt\\nfrom sklearn.ensemble import RandomForestClassifier\\nimport lightgbm as lgb\\nimport pandas as pd\\nfrom sklearn.ensemble import GradientBoostingClassifier\\nimport plotly.express as px\\nimport pickle\\nfrom sklearn.ensemble import GradientBoostingRegressor\\nfrom pathlib import Path\\nimport xgboost as xgb\\nimport seaborn as sns\\nfrom sklearn.ensemble import RandomForestRegressor\\nimport os\\nimport sklearn\\nimport plotly as py'); }\n",
       "    "
      ],
      "text/plain": [
       "<IPython.core.display.Javascript object>"
      ]
     },
     "metadata": {},
     "output_type": "display_data"
    },
    {
     "data": {
      "application/javascript": [
       "\n",
       "        if (window._pyforest_update_imports_cell) { window._pyforest_update_imports_cell('from openpyxl import load_workbook\\nimport matplotlib as mpl\\nfrom sklearn.preprocessing import OneHotEncoder\\nimport matplotlib.pyplot as plt\\nfrom sklearn.ensemble import RandomForestClassifier\\nimport lightgbm as lgb\\nimport pandas as pd\\nfrom sklearn.ensemble import GradientBoostingClassifier\\nimport plotly.express as px\\nimport pickle\\nfrom sklearn.ensemble import GradientBoostingRegressor\\nfrom pathlib import Path\\nimport xgboost as xgb\\nimport seaborn as sns\\nfrom sklearn.ensemble import RandomForestRegressor\\nimport os\\nimport sklearn\\nimport plotly as py'); }\n",
       "    "
      ],
      "text/plain": [
       "<IPython.core.display.Javascript object>"
      ]
     },
     "metadata": {},
     "output_type": "display_data"
    },
    {
     "data": {
      "application/javascript": [
       "\n",
       "        if (window._pyforest_update_imports_cell) { window._pyforest_update_imports_cell('from openpyxl import load_workbook\\nimport matplotlib as mpl\\nfrom sklearn.preprocessing import OneHotEncoder\\nimport matplotlib.pyplot as plt\\nfrom sklearn.ensemble import RandomForestClassifier\\nimport lightgbm as lgb\\nimport pandas as pd\\nfrom sklearn.ensemble import GradientBoostingClassifier\\nimport plotly.express as px\\nimport pickle\\nfrom sklearn.ensemble import GradientBoostingRegressor\\nfrom pathlib import Path\\nimport xgboost as xgb\\nimport seaborn as sns\\nfrom sklearn.ensemble import RandomForestRegressor\\nimport os\\nimport sklearn\\nimport plotly as py'); }\n",
       "    "
      ],
      "text/plain": [
       "<IPython.core.display.Javascript object>"
      ]
     },
     "metadata": {},
     "output_type": "display_data"
    },
    {
     "data": {
      "application/javascript": [
       "\n",
       "        if (window._pyforest_update_imports_cell) { window._pyforest_update_imports_cell('from openpyxl import load_workbook\\nimport matplotlib as mpl\\nfrom sklearn.preprocessing import OneHotEncoder\\nimport matplotlib.pyplot as plt\\nfrom sklearn.ensemble import RandomForestClassifier\\nimport lightgbm as lgb\\nimport pandas as pd\\nfrom sklearn.ensemble import GradientBoostingClassifier\\nimport plotly.express as px\\nimport pickle\\nfrom sklearn.ensemble import GradientBoostingRegressor\\nfrom pathlib import Path\\nimport xgboost as xgb\\nimport seaborn as sns\\nfrom sklearn.ensemble import RandomForestRegressor\\nimport os\\nimport sklearn\\nimport plotly as py'); }\n",
       "    "
      ],
      "text/plain": [
       "<IPython.core.display.Javascript object>"
      ]
     },
     "metadata": {},
     "output_type": "display_data"
    },
    {
     "data": {
      "application/javascript": [
       "\n",
       "        if (window._pyforest_update_imports_cell) { window._pyforest_update_imports_cell('from openpyxl import load_workbook\\nimport matplotlib as mpl\\nfrom sklearn.preprocessing import OneHotEncoder\\nimport matplotlib.pyplot as plt\\nfrom sklearn.ensemble import RandomForestClassifier\\nimport lightgbm as lgb\\nimport pandas as pd\\nfrom sklearn.ensemble import GradientBoostingClassifier\\nimport plotly.express as px\\nimport pickle\\nfrom sklearn.ensemble import GradientBoostingRegressor\\nfrom pathlib import Path\\nimport xgboost as xgb\\nimport seaborn as sns\\nfrom sklearn.ensemble import RandomForestRegressor\\nimport os\\nimport sklearn\\nimport plotly as py'); }\n",
       "    "
      ],
      "text/plain": [
       "<IPython.core.display.Javascript object>"
      ]
     },
     "metadata": {},
     "output_type": "display_data"
    },
    {
     "data": {
      "application/javascript": [
       "\n",
       "        if (window._pyforest_update_imports_cell) { window._pyforest_update_imports_cell('from openpyxl import load_workbook\\nimport matplotlib as mpl\\nfrom sklearn.preprocessing import OneHotEncoder\\nimport matplotlib.pyplot as plt\\nfrom sklearn.ensemble import RandomForestClassifier\\nimport lightgbm as lgb\\nimport pandas as pd\\nfrom sklearn.ensemble import GradientBoostingClassifier\\nimport plotly.express as px\\nimport pickle\\nfrom sklearn.ensemble import GradientBoostingRegressor\\nfrom pathlib import Path\\nimport xgboost as xgb\\nimport seaborn as sns\\nfrom sklearn.ensemble import RandomForestRegressor\\nimport os\\nimport sklearn\\nimport plotly as py'); }\n",
       "    "
      ],
      "text/plain": [
       "<IPython.core.display.Javascript object>"
      ]
     },
     "metadata": {},
     "output_type": "display_data"
    },
    {
     "data": {
      "application/javascript": [
       "\n",
       "        if (window._pyforest_update_imports_cell) { window._pyforest_update_imports_cell('from openpyxl import load_workbook\\nimport matplotlib as mpl\\nfrom sklearn.preprocessing import OneHotEncoder\\nimport matplotlib.pyplot as plt\\nfrom sklearn.ensemble import RandomForestClassifier\\nimport lightgbm as lgb\\nimport pandas as pd\\nfrom sklearn.ensemble import GradientBoostingClassifier\\nimport plotly.express as px\\nimport pickle\\nfrom sklearn.ensemble import GradientBoostingRegressor\\nfrom pathlib import Path\\nimport xgboost as xgb\\nimport seaborn as sns\\nfrom sklearn.ensemble import RandomForestRegressor\\nimport os\\nimport sklearn\\nimport plotly as py'); }\n",
       "    "
      ],
      "text/plain": [
       "<IPython.core.display.Javascript object>"
      ]
     },
     "metadata": {},
     "output_type": "display_data"
    },
    {
     "data": {
      "application/javascript": [
       "\n",
       "        if (window._pyforest_update_imports_cell) { window._pyforest_update_imports_cell('from openpyxl import load_workbook\\nimport matplotlib as mpl\\nfrom sklearn.preprocessing import OneHotEncoder\\nimport matplotlib.pyplot as plt\\nfrom sklearn.ensemble import RandomForestClassifier\\nimport lightgbm as lgb\\nimport pandas as pd\\nfrom sklearn.ensemble import GradientBoostingClassifier\\nimport plotly.express as px\\nimport pickle\\nfrom sklearn.ensemble import GradientBoostingRegressor\\nfrom pathlib import Path\\nimport xgboost as xgb\\nimport seaborn as sns\\nfrom sklearn.ensemble import RandomForestRegressor\\nimport os\\nimport sklearn\\nimport plotly as py'); }\n",
       "    "
      ],
      "text/plain": [
       "<IPython.core.display.Javascript object>"
      ]
     },
     "metadata": {},
     "output_type": "display_data"
    },
    {
     "data": {
      "application/javascript": [
       "\n",
       "        if (window._pyforest_update_imports_cell) { window._pyforest_update_imports_cell('from openpyxl import load_workbook\\nimport matplotlib as mpl\\nfrom sklearn.preprocessing import OneHotEncoder\\nimport matplotlib.pyplot as plt\\nfrom sklearn.ensemble import RandomForestClassifier\\nimport lightgbm as lgb\\nimport pandas as pd\\nfrom sklearn.ensemble import GradientBoostingClassifier\\nimport plotly.express as px\\nimport pickle\\nfrom sklearn.ensemble import GradientBoostingRegressor\\nfrom pathlib import Path\\nimport xgboost as xgb\\nimport seaborn as sns\\nfrom sklearn.ensemble import RandomForestRegressor\\nimport os\\nimport sklearn\\nimport plotly as py'); }\n",
       "    "
      ],
      "text/plain": [
       "<IPython.core.display.Javascript object>"
      ]
     },
     "metadata": {},
     "output_type": "display_data"
    },
    {
     "data": {
      "application/javascript": [
       "\n",
       "        if (window._pyforest_update_imports_cell) { window._pyforest_update_imports_cell('from openpyxl import load_workbook\\nimport matplotlib as mpl\\nfrom sklearn.preprocessing import OneHotEncoder\\nimport matplotlib.pyplot as plt\\nfrom sklearn.ensemble import RandomForestClassifier\\nimport lightgbm as lgb\\nimport pandas as pd\\nfrom sklearn.ensemble import GradientBoostingClassifier\\nimport plotly.express as px\\nimport pickle\\nfrom sklearn.ensemble import GradientBoostingRegressor\\nfrom pathlib import Path\\nimport xgboost as xgb\\nimport seaborn as sns\\nfrom sklearn.ensemble import RandomForestRegressor\\nimport os\\nimport sklearn\\nimport plotly as py'); }\n",
       "    "
      ],
      "text/plain": [
       "<IPython.core.display.Javascript object>"
      ]
     },
     "metadata": {},
     "output_type": "display_data"
    },
    {
     "data": {
      "application/javascript": [
       "\n",
       "        if (window._pyforest_update_imports_cell) { window._pyforest_update_imports_cell('from openpyxl import load_workbook\\nimport matplotlib as mpl\\nfrom sklearn.preprocessing import OneHotEncoder\\nimport matplotlib.pyplot as plt\\nfrom sklearn.ensemble import RandomForestClassifier\\nimport lightgbm as lgb\\nimport pandas as pd\\nfrom sklearn.ensemble import GradientBoostingClassifier\\nimport plotly.express as px\\nimport pickle\\nfrom sklearn.ensemble import GradientBoostingRegressor\\nfrom pathlib import Path\\nimport xgboost as xgb\\nimport seaborn as sns\\nfrom sklearn.ensemble import RandomForestRegressor\\nimport os\\nimport sklearn\\nimport plotly as py'); }\n",
       "    "
      ],
      "text/plain": [
       "<IPython.core.display.Javascript object>"
      ]
     },
     "metadata": {},
     "output_type": "display_data"
    },
    {
     "data": {
      "application/javascript": [
       "\n",
       "        if (window._pyforest_update_imports_cell) { window._pyforest_update_imports_cell('from openpyxl import load_workbook\\nimport matplotlib as mpl\\nfrom sklearn.preprocessing import OneHotEncoder\\nimport matplotlib.pyplot as plt\\nfrom sklearn.ensemble import RandomForestClassifier\\nimport lightgbm as lgb\\nimport pandas as pd\\nfrom sklearn.ensemble import GradientBoostingClassifier\\nimport plotly.express as px\\nimport pickle\\nfrom sklearn.ensemble import GradientBoostingRegressor\\nfrom pathlib import Path\\nimport xgboost as xgb\\nimport seaborn as sns\\nfrom sklearn.ensemble import RandomForestRegressor\\nimport os\\nimport sklearn\\nimport plotly as py'); }\n",
       "    "
      ],
      "text/plain": [
       "<IPython.core.display.Javascript object>"
      ]
     },
     "metadata": {},
     "output_type": "display_data"
    },
    {
     "data": {
      "application/javascript": [
       "\n",
       "        if (window._pyforest_update_imports_cell) { window._pyforest_update_imports_cell('from openpyxl import load_workbook\\nimport matplotlib as mpl\\nfrom sklearn.preprocessing import OneHotEncoder\\nimport matplotlib.pyplot as plt\\nfrom sklearn.ensemble import RandomForestClassifier\\nimport lightgbm as lgb\\nimport pandas as pd\\nfrom sklearn.ensemble import GradientBoostingClassifier\\nimport plotly.express as px\\nimport pickle\\nfrom sklearn.ensemble import GradientBoostingRegressor\\nfrom pathlib import Path\\nimport xgboost as xgb\\nimport seaborn as sns\\nfrom sklearn.ensemble import RandomForestRegressor\\nimport os\\nimport sklearn\\nimport plotly as py'); }\n",
       "    "
      ],
      "text/plain": [
       "<IPython.core.display.Javascript object>"
      ]
     },
     "metadata": {},
     "output_type": "display_data"
    },
    {
     "data": {
      "application/javascript": [
       "\n",
       "        if (window._pyforest_update_imports_cell) { window._pyforest_update_imports_cell('from openpyxl import load_workbook\\nimport matplotlib as mpl\\nfrom sklearn.preprocessing import OneHotEncoder\\nimport matplotlib.pyplot as plt\\nfrom sklearn.ensemble import RandomForestClassifier\\nimport lightgbm as lgb\\nimport pandas as pd\\nfrom sklearn.ensemble import GradientBoostingClassifier\\nimport plotly.express as px\\nimport pickle\\nfrom sklearn.ensemble import GradientBoostingRegressor\\nfrom pathlib import Path\\nimport xgboost as xgb\\nimport seaborn as sns\\nfrom sklearn.ensemble import RandomForestRegressor\\nimport os\\nimport sklearn\\nimport plotly as py'); }\n",
       "    "
      ],
      "text/plain": [
       "<IPython.core.display.Javascript object>"
      ]
     },
     "metadata": {},
     "output_type": "display_data"
    },
    {
     "data": {
      "application/javascript": [
       "\n",
       "        if (window._pyforest_update_imports_cell) { window._pyforest_update_imports_cell('from openpyxl import load_workbook\\nimport matplotlib as mpl\\nfrom sklearn.preprocessing import OneHotEncoder\\nimport matplotlib.pyplot as plt\\nfrom sklearn.ensemble import RandomForestClassifier\\nimport lightgbm as lgb\\nimport pandas as pd\\nfrom sklearn.ensemble import GradientBoostingClassifier\\nimport plotly.express as px\\nimport pickle\\nfrom sklearn.ensemble import GradientBoostingRegressor\\nfrom pathlib import Path\\nimport xgboost as xgb\\nimport seaborn as sns\\nfrom sklearn.ensemble import RandomForestRegressor\\nimport os\\nimport sklearn\\nimport plotly as py'); }\n",
       "    "
      ],
      "text/plain": [
       "<IPython.core.display.Javascript object>"
      ]
     },
     "metadata": {},
     "output_type": "display_data"
    },
    {
     "data": {
      "application/javascript": [
       "\n",
       "        if (window._pyforest_update_imports_cell) { window._pyforest_update_imports_cell('from openpyxl import load_workbook\\nimport matplotlib as mpl\\nfrom sklearn.preprocessing import OneHotEncoder\\nimport matplotlib.pyplot as plt\\nfrom sklearn.ensemble import RandomForestClassifier\\nimport lightgbm as lgb\\nimport pandas as pd\\nfrom sklearn.ensemble import GradientBoostingClassifier\\nimport plotly.express as px\\nimport pickle\\nfrom sklearn.ensemble import GradientBoostingRegressor\\nfrom pathlib import Path\\nimport xgboost as xgb\\nimport seaborn as sns\\nfrom sklearn.ensemble import RandomForestRegressor\\nimport os\\nimport sklearn\\nimport plotly as py'); }\n",
       "    "
      ],
      "text/plain": [
       "<IPython.core.display.Javascript object>"
      ]
     },
     "metadata": {},
     "output_type": "display_data"
    },
    {
     "data": {
      "application/javascript": [
       "\n",
       "        if (window._pyforest_update_imports_cell) { window._pyforest_update_imports_cell('from openpyxl import load_workbook\\nimport matplotlib as mpl\\nfrom sklearn.preprocessing import OneHotEncoder\\nimport matplotlib.pyplot as plt\\nfrom sklearn.ensemble import RandomForestClassifier\\nimport lightgbm as lgb\\nimport pandas as pd\\nfrom sklearn.ensemble import GradientBoostingClassifier\\nimport plotly.express as px\\nimport pickle\\nfrom sklearn.ensemble import GradientBoostingRegressor\\nfrom pathlib import Path\\nimport xgboost as xgb\\nimport seaborn as sns\\nfrom sklearn.ensemble import RandomForestRegressor\\nimport os\\nimport sklearn\\nimport plotly as py'); }\n",
       "    "
      ],
      "text/plain": [
       "<IPython.core.display.Javascript object>"
      ]
     },
     "metadata": {},
     "output_type": "display_data"
    },
    {
     "data": {
      "application/javascript": [
       "\n",
       "        if (window._pyforest_update_imports_cell) { window._pyforest_update_imports_cell('from openpyxl import load_workbook\\nimport matplotlib as mpl\\nfrom sklearn.preprocessing import OneHotEncoder\\nimport matplotlib.pyplot as plt\\nfrom sklearn.ensemble import RandomForestClassifier\\nimport lightgbm as lgb\\nimport pandas as pd\\nfrom sklearn.ensemble import GradientBoostingClassifier\\nimport plotly.express as px\\nimport pickle\\nfrom sklearn.ensemble import GradientBoostingRegressor\\nfrom pathlib import Path\\nimport xgboost as xgb\\nimport seaborn as sns\\nfrom sklearn.ensemble import RandomForestRegressor\\nimport os\\nimport sklearn\\nimport plotly as py'); }\n",
       "    "
      ],
      "text/plain": [
       "<IPython.core.display.Javascript object>"
      ]
     },
     "metadata": {},
     "output_type": "display_data"
    },
    {
     "data": {
      "application/javascript": [
       "\n",
       "        if (window._pyforest_update_imports_cell) { window._pyforest_update_imports_cell('from openpyxl import load_workbook\\nimport matplotlib as mpl\\nfrom sklearn.preprocessing import OneHotEncoder\\nimport matplotlib.pyplot as plt\\nfrom sklearn.ensemble import RandomForestClassifier\\nimport lightgbm as lgb\\nimport pandas as pd\\nfrom sklearn.ensemble import GradientBoostingClassifier\\nimport plotly.express as px\\nimport pickle\\nfrom sklearn.ensemble import GradientBoostingRegressor\\nfrom pathlib import Path\\nimport xgboost as xgb\\nimport seaborn as sns\\nfrom sklearn.ensemble import RandomForestRegressor\\nimport os\\nimport sklearn\\nimport plotly as py'); }\n",
       "    "
      ],
      "text/plain": [
       "<IPython.core.display.Javascript object>"
      ]
     },
     "metadata": {},
     "output_type": "display_data"
    },
    {
     "data": {
      "application/javascript": [
       "\n",
       "        if (window._pyforest_update_imports_cell) { window._pyforest_update_imports_cell('from openpyxl import load_workbook\\nimport matplotlib as mpl\\nfrom sklearn.preprocessing import OneHotEncoder\\nimport matplotlib.pyplot as plt\\nfrom sklearn.ensemble import RandomForestClassifier\\nimport lightgbm as lgb\\nimport pandas as pd\\nfrom sklearn.ensemble import GradientBoostingClassifier\\nimport plotly.express as px\\nimport pickle\\nfrom sklearn.ensemble import GradientBoostingRegressor\\nfrom pathlib import Path\\nimport xgboost as xgb\\nimport seaborn as sns\\nfrom sklearn.ensemble import RandomForestRegressor\\nimport os\\nimport sklearn\\nimport plotly as py'); }\n",
       "    "
      ],
      "text/plain": [
       "<IPython.core.display.Javascript object>"
      ]
     },
     "metadata": {},
     "output_type": "display_data"
    },
    {
     "data": {
      "application/javascript": [
       "\n",
       "        if (window._pyforest_update_imports_cell) { window._pyforest_update_imports_cell('from openpyxl import load_workbook\\nimport matplotlib as mpl\\nfrom sklearn.preprocessing import OneHotEncoder\\nimport matplotlib.pyplot as plt\\nfrom sklearn.ensemble import RandomForestClassifier\\nimport lightgbm as lgb\\nimport pandas as pd\\nfrom sklearn.ensemble import GradientBoostingClassifier\\nimport plotly.express as px\\nimport pickle\\nfrom sklearn.ensemble import GradientBoostingRegressor\\nfrom pathlib import Path\\nimport xgboost as xgb\\nimport seaborn as sns\\nfrom sklearn.ensemble import RandomForestRegressor\\nimport os\\nimport sklearn\\nimport plotly as py'); }\n",
       "    "
      ],
      "text/plain": [
       "<IPython.core.display.Javascript object>"
      ]
     },
     "metadata": {},
     "output_type": "display_data"
    },
    {
     "data": {
      "application/javascript": [
       "\n",
       "        if (window._pyforest_update_imports_cell) { window._pyforest_update_imports_cell('from openpyxl import load_workbook\\nimport matplotlib as mpl\\nfrom sklearn.preprocessing import OneHotEncoder\\nimport matplotlib.pyplot as plt\\nfrom sklearn.ensemble import RandomForestClassifier\\nimport lightgbm as lgb\\nimport pandas as pd\\nfrom sklearn.ensemble import GradientBoostingClassifier\\nimport plotly.express as px\\nimport pickle\\nfrom sklearn.ensemble import GradientBoostingRegressor\\nfrom pathlib import Path\\nimport xgboost as xgb\\nimport seaborn as sns\\nfrom sklearn.ensemble import RandomForestRegressor\\nimport os\\nimport sklearn\\nimport plotly as py'); }\n",
       "    "
      ],
      "text/plain": [
       "<IPython.core.display.Javascript object>"
      ]
     },
     "metadata": {},
     "output_type": "display_data"
    },
    {
     "data": {
      "application/javascript": [
       "\n",
       "        if (window._pyforest_update_imports_cell) { window._pyforest_update_imports_cell('from openpyxl import load_workbook\\nimport matplotlib as mpl\\nfrom sklearn.preprocessing import OneHotEncoder\\nimport matplotlib.pyplot as plt\\nfrom sklearn.ensemble import RandomForestClassifier\\nimport lightgbm as lgb\\nimport pandas as pd\\nfrom sklearn.ensemble import GradientBoostingClassifier\\nimport plotly.express as px\\nimport pickle\\nfrom sklearn.ensemble import GradientBoostingRegressor\\nfrom pathlib import Path\\nimport xgboost as xgb\\nimport seaborn as sns\\nfrom sklearn.ensemble import RandomForestRegressor\\nimport os\\nimport sklearn\\nimport plotly as py'); }\n",
       "    "
      ],
      "text/plain": [
       "<IPython.core.display.Javascript object>"
      ]
     },
     "metadata": {},
     "output_type": "display_data"
    },
    {
     "data": {
      "application/javascript": [
       "\n",
       "        if (window._pyforest_update_imports_cell) { window._pyforest_update_imports_cell('from openpyxl import load_workbook\\nimport matplotlib as mpl\\nfrom sklearn.preprocessing import OneHotEncoder\\nimport matplotlib.pyplot as plt\\nfrom sklearn.ensemble import RandomForestClassifier\\nimport lightgbm as lgb\\nimport pandas as pd\\nfrom sklearn.ensemble import GradientBoostingClassifier\\nimport plotly.express as px\\nimport pickle\\nfrom sklearn.ensemble import GradientBoostingRegressor\\nfrom pathlib import Path\\nimport xgboost as xgb\\nimport seaborn as sns\\nfrom sklearn.ensemble import RandomForestRegressor\\nimport os\\nimport sklearn\\nimport plotly as py'); }\n",
       "    "
      ],
      "text/plain": [
       "<IPython.core.display.Javascript object>"
      ]
     },
     "metadata": {},
     "output_type": "display_data"
    },
    {
     "data": {
      "application/javascript": [
       "\n",
       "        if (window._pyforest_update_imports_cell) { window._pyforest_update_imports_cell('from openpyxl import load_workbook\\nimport matplotlib as mpl\\nfrom sklearn.preprocessing import OneHotEncoder\\nimport matplotlib.pyplot as plt\\nfrom sklearn.ensemble import RandomForestClassifier\\nimport lightgbm as lgb\\nimport pandas as pd\\nfrom sklearn.ensemble import GradientBoostingClassifier\\nimport plotly.express as px\\nimport pickle\\nfrom sklearn.ensemble import GradientBoostingRegressor\\nfrom pathlib import Path\\nimport xgboost as xgb\\nimport seaborn as sns\\nfrom sklearn.ensemble import RandomForestRegressor\\nimport os\\nimport sklearn\\nimport plotly as py'); }\n",
       "    "
      ],
      "text/plain": [
       "<IPython.core.display.Javascript object>"
      ]
     },
     "metadata": {},
     "output_type": "display_data"
    },
    {
     "data": {
      "application/javascript": [
       "\n",
       "        if (window._pyforest_update_imports_cell) { window._pyforest_update_imports_cell('from openpyxl import load_workbook\\nimport matplotlib as mpl\\nfrom sklearn.preprocessing import OneHotEncoder\\nimport matplotlib.pyplot as plt\\nfrom sklearn.ensemble import RandomForestClassifier\\nimport lightgbm as lgb\\nimport pandas as pd\\nfrom sklearn.ensemble import GradientBoostingClassifier\\nimport plotly.express as px\\nimport pickle\\nfrom sklearn.ensemble import GradientBoostingRegressor\\nfrom pathlib import Path\\nimport xgboost as xgb\\nimport seaborn as sns\\nfrom sklearn.ensemble import RandomForestRegressor\\nimport os\\nimport sklearn\\nimport plotly as py'); }\n",
       "    "
      ],
      "text/plain": [
       "<IPython.core.display.Javascript object>"
      ]
     },
     "metadata": {},
     "output_type": "display_data"
    },
    {
     "data": {
      "application/javascript": [
       "\n",
       "        if (window._pyforest_update_imports_cell) { window._pyforest_update_imports_cell('from openpyxl import load_workbook\\nimport matplotlib as mpl\\nfrom sklearn.preprocessing import OneHotEncoder\\nimport matplotlib.pyplot as plt\\nfrom sklearn.ensemble import RandomForestClassifier\\nimport lightgbm as lgb\\nimport pandas as pd\\nfrom sklearn.ensemble import GradientBoostingClassifier\\nimport plotly.express as px\\nimport pickle\\nfrom sklearn.ensemble import GradientBoostingRegressor\\nfrom pathlib import Path\\nimport xgboost as xgb\\nimport seaborn as sns\\nfrom sklearn.ensemble import RandomForestRegressor\\nimport os\\nimport sklearn\\nimport plotly as py'); }\n",
       "    "
      ],
      "text/plain": [
       "<IPython.core.display.Javascript object>"
      ]
     },
     "metadata": {},
     "output_type": "display_data"
    },
    {
     "data": {
      "application/javascript": [
       "\n",
       "        if (window._pyforest_update_imports_cell) { window._pyforest_update_imports_cell('from openpyxl import load_workbook\\nimport matplotlib as mpl\\nfrom sklearn.preprocessing import OneHotEncoder\\nimport matplotlib.pyplot as plt\\nfrom sklearn.ensemble import RandomForestClassifier\\nimport lightgbm as lgb\\nimport pandas as pd\\nfrom sklearn.ensemble import GradientBoostingClassifier\\nimport plotly.express as px\\nimport pickle\\nfrom sklearn.ensemble import GradientBoostingRegressor\\nfrom pathlib import Path\\nimport xgboost as xgb\\nimport seaborn as sns\\nfrom sklearn.ensemble import RandomForestRegressor\\nimport os\\nimport sklearn\\nimport plotly as py'); }\n",
       "    "
      ],
      "text/plain": [
       "<IPython.core.display.Javascript object>"
      ]
     },
     "metadata": {},
     "output_type": "display_data"
    },
    {
     "data": {
      "application/javascript": [
       "\n",
       "        if (window._pyforest_update_imports_cell) { window._pyforest_update_imports_cell('from openpyxl import load_workbook\\nimport matplotlib as mpl\\nfrom sklearn.preprocessing import OneHotEncoder\\nimport matplotlib.pyplot as plt\\nfrom sklearn.ensemble import RandomForestClassifier\\nimport lightgbm as lgb\\nimport pandas as pd\\nfrom sklearn.ensemble import GradientBoostingClassifier\\nimport plotly.express as px\\nimport pickle\\nfrom sklearn.ensemble import GradientBoostingRegressor\\nfrom pathlib import Path\\nimport xgboost as xgb\\nimport seaborn as sns\\nfrom sklearn.ensemble import RandomForestRegressor\\nimport os\\nimport sklearn\\nimport plotly as py'); }\n",
       "    "
      ],
      "text/plain": [
       "<IPython.core.display.Javascript object>"
      ]
     },
     "metadata": {},
     "output_type": "display_data"
    },
    {
     "data": {
      "application/javascript": [
       "\n",
       "        if (window._pyforest_update_imports_cell) { window._pyforest_update_imports_cell('from openpyxl import load_workbook\\nimport matplotlib as mpl\\nfrom sklearn.preprocessing import OneHotEncoder\\nimport matplotlib.pyplot as plt\\nfrom sklearn.ensemble import RandomForestClassifier\\nimport lightgbm as lgb\\nimport pandas as pd\\nfrom sklearn.ensemble import GradientBoostingClassifier\\nimport plotly.express as px\\nimport pickle\\nfrom sklearn.ensemble import GradientBoostingRegressor\\nfrom pathlib import Path\\nimport xgboost as xgb\\nimport seaborn as sns\\nfrom sklearn.ensemble import RandomForestRegressor\\nimport os\\nimport sklearn\\nimport plotly as py'); }\n",
       "    "
      ],
      "text/plain": [
       "<IPython.core.display.Javascript object>"
      ]
     },
     "metadata": {},
     "output_type": "display_data"
    },
    {
     "data": {
      "application/javascript": [
       "\n",
       "        if (window._pyforest_update_imports_cell) { window._pyforest_update_imports_cell('from openpyxl import load_workbook\\nimport matplotlib as mpl\\nfrom sklearn.preprocessing import OneHotEncoder\\nimport matplotlib.pyplot as plt\\nfrom sklearn.ensemble import RandomForestClassifier\\nimport lightgbm as lgb\\nimport pandas as pd\\nfrom sklearn.ensemble import GradientBoostingClassifier\\nimport plotly.express as px\\nimport pickle\\nfrom sklearn.ensemble import GradientBoostingRegressor\\nfrom pathlib import Path\\nimport xgboost as xgb\\nimport seaborn as sns\\nfrom sklearn.ensemble import RandomForestRegressor\\nimport os\\nimport sklearn\\nimport plotly as py'); }\n",
       "    "
      ],
      "text/plain": [
       "<IPython.core.display.Javascript object>"
      ]
     },
     "metadata": {},
     "output_type": "display_data"
    },
    {
     "data": {
      "application/javascript": [
       "\n",
       "        if (window._pyforest_update_imports_cell) { window._pyforest_update_imports_cell('from openpyxl import load_workbook\\nimport matplotlib as mpl\\nfrom sklearn.preprocessing import OneHotEncoder\\nimport matplotlib.pyplot as plt\\nfrom sklearn.ensemble import RandomForestClassifier\\nimport lightgbm as lgb\\nimport pandas as pd\\nfrom sklearn.ensemble import GradientBoostingClassifier\\nimport plotly.express as px\\nimport pickle\\nfrom sklearn.ensemble import GradientBoostingRegressor\\nfrom pathlib import Path\\nimport xgboost as xgb\\nimport seaborn as sns\\nfrom sklearn.ensemble import RandomForestRegressor\\nimport os\\nimport sklearn\\nimport plotly as py'); }\n",
       "    "
      ],
      "text/plain": [
       "<IPython.core.display.Javascript object>"
      ]
     },
     "metadata": {},
     "output_type": "display_data"
    },
    {
     "data": {
      "application/javascript": [
       "\n",
       "        if (window._pyforest_update_imports_cell) { window._pyforest_update_imports_cell('from openpyxl import load_workbook\\nimport matplotlib as mpl\\nfrom sklearn.preprocessing import OneHotEncoder\\nimport matplotlib.pyplot as plt\\nfrom sklearn.ensemble import RandomForestClassifier\\nimport lightgbm as lgb\\nimport pandas as pd\\nfrom sklearn.ensemble import GradientBoostingClassifier\\nimport plotly.express as px\\nimport pickle\\nfrom sklearn.ensemble import GradientBoostingRegressor\\nfrom pathlib import Path\\nimport xgboost as xgb\\nimport seaborn as sns\\nfrom sklearn.ensemble import RandomForestRegressor\\nimport os\\nimport sklearn\\nimport plotly as py'); }\n",
       "    "
      ],
      "text/plain": [
       "<IPython.core.display.Javascript object>"
      ]
     },
     "metadata": {},
     "output_type": "display_data"
    },
    {
     "data": {
      "application/javascript": [
       "\n",
       "        if (window._pyforest_update_imports_cell) { window._pyforest_update_imports_cell('from openpyxl import load_workbook\\nimport matplotlib as mpl\\nfrom sklearn.preprocessing import OneHotEncoder\\nimport matplotlib.pyplot as plt\\nfrom sklearn.ensemble import RandomForestClassifier\\nimport lightgbm as lgb\\nimport pandas as pd\\nfrom sklearn.ensemble import GradientBoostingClassifier\\nimport plotly.express as px\\nimport pickle\\nfrom sklearn.ensemble import GradientBoostingRegressor\\nfrom pathlib import Path\\nimport xgboost as xgb\\nimport seaborn as sns\\nfrom sklearn.ensemble import RandomForestRegressor\\nimport os\\nimport sklearn\\nimport plotly as py'); }\n",
       "    "
      ],
      "text/plain": [
       "<IPython.core.display.Javascript object>"
      ]
     },
     "metadata": {},
     "output_type": "display_data"
    },
    {
     "data": {
      "application/javascript": [
       "\n",
       "        if (window._pyforest_update_imports_cell) { window._pyforest_update_imports_cell('from openpyxl import load_workbook\\nimport matplotlib as mpl\\nfrom sklearn.preprocessing import OneHotEncoder\\nimport matplotlib.pyplot as plt\\nfrom sklearn.ensemble import RandomForestClassifier\\nimport lightgbm as lgb\\nimport pandas as pd\\nfrom sklearn.ensemble import GradientBoostingClassifier\\nimport plotly.express as px\\nimport pickle\\nfrom sklearn.ensemble import GradientBoostingRegressor\\nfrom pathlib import Path\\nimport xgboost as xgb\\nimport seaborn as sns\\nfrom sklearn.ensemble import RandomForestRegressor\\nimport os\\nimport sklearn\\nimport plotly as py'); }\n",
       "    "
      ],
      "text/plain": [
       "<IPython.core.display.Javascript object>"
      ]
     },
     "metadata": {},
     "output_type": "display_data"
    },
    {
     "data": {
      "application/javascript": [
       "\n",
       "        if (window._pyforest_update_imports_cell) { window._pyforest_update_imports_cell('from openpyxl import load_workbook\\nimport matplotlib as mpl\\nfrom sklearn.preprocessing import OneHotEncoder\\nimport matplotlib.pyplot as plt\\nfrom sklearn.ensemble import RandomForestClassifier\\nimport lightgbm as lgb\\nimport pandas as pd\\nfrom sklearn.ensemble import GradientBoostingClassifier\\nimport plotly.express as px\\nimport pickle\\nfrom sklearn.ensemble import GradientBoostingRegressor\\nfrom pathlib import Path\\nimport xgboost as xgb\\nimport seaborn as sns\\nfrom sklearn.ensemble import RandomForestRegressor\\nimport os\\nimport sklearn\\nimport plotly as py'); }\n",
       "    "
      ],
      "text/plain": [
       "<IPython.core.display.Javascript object>"
      ]
     },
     "metadata": {},
     "output_type": "display_data"
    },
    {
     "data": {
      "application/javascript": [
       "\n",
       "        if (window._pyforest_update_imports_cell) { window._pyforest_update_imports_cell('from openpyxl import load_workbook\\nimport matplotlib as mpl\\nfrom sklearn.preprocessing import OneHotEncoder\\nimport matplotlib.pyplot as plt\\nfrom sklearn.ensemble import RandomForestClassifier\\nimport lightgbm as lgb\\nimport pandas as pd\\nfrom sklearn.ensemble import GradientBoostingClassifier\\nimport plotly.express as px\\nimport pickle\\nfrom sklearn.ensemble import GradientBoostingRegressor\\nfrom pathlib import Path\\nimport xgboost as xgb\\nimport seaborn as sns\\nfrom sklearn.ensemble import RandomForestRegressor\\nimport os\\nimport sklearn\\nimport plotly as py'); }\n",
       "    "
      ],
      "text/plain": [
       "<IPython.core.display.Javascript object>"
      ]
     },
     "metadata": {},
     "output_type": "display_data"
    },
    {
     "data": {
      "application/javascript": [
       "\n",
       "        if (window._pyforest_update_imports_cell) { window._pyforest_update_imports_cell('from openpyxl import load_workbook\\nimport matplotlib as mpl\\nfrom sklearn.preprocessing import OneHotEncoder\\nimport matplotlib.pyplot as plt\\nfrom sklearn.ensemble import RandomForestClassifier\\nimport lightgbm as lgb\\nimport pandas as pd\\nfrom sklearn.ensemble import GradientBoostingClassifier\\nimport plotly.express as px\\nimport pickle\\nfrom sklearn.ensemble import GradientBoostingRegressor\\nfrom pathlib import Path\\nimport xgboost as xgb\\nimport seaborn as sns\\nfrom sklearn.ensemble import RandomForestRegressor\\nimport os\\nimport sklearn\\nimport plotly as py'); }\n",
       "    "
      ],
      "text/plain": [
       "<IPython.core.display.Javascript object>"
      ]
     },
     "metadata": {},
     "output_type": "display_data"
    },
    {
     "data": {
      "application/javascript": [
       "\n",
       "        if (window._pyforest_update_imports_cell) { window._pyforest_update_imports_cell('from openpyxl import load_workbook\\nimport matplotlib as mpl\\nfrom sklearn.preprocessing import OneHotEncoder\\nimport matplotlib.pyplot as plt\\nfrom sklearn.ensemble import RandomForestClassifier\\nimport lightgbm as lgb\\nimport pandas as pd\\nfrom sklearn.ensemble import GradientBoostingClassifier\\nimport plotly.express as px\\nimport pickle\\nfrom sklearn.ensemble import GradientBoostingRegressor\\nfrom pathlib import Path\\nimport xgboost as xgb\\nimport seaborn as sns\\nfrom sklearn.ensemble import RandomForestRegressor\\nimport os\\nimport sklearn\\nimport plotly as py'); }\n",
       "    "
      ],
      "text/plain": [
       "<IPython.core.display.Javascript object>"
      ]
     },
     "metadata": {},
     "output_type": "display_data"
    },
    {
     "data": {
      "application/javascript": [
       "\n",
       "        if (window._pyforest_update_imports_cell) { window._pyforest_update_imports_cell('from openpyxl import load_workbook\\nimport matplotlib as mpl\\nfrom sklearn.preprocessing import OneHotEncoder\\nimport matplotlib.pyplot as plt\\nfrom sklearn.ensemble import RandomForestClassifier\\nimport lightgbm as lgb\\nimport pandas as pd\\nfrom sklearn.ensemble import GradientBoostingClassifier\\nimport plotly.express as px\\nimport pickle\\nfrom sklearn.ensemble import GradientBoostingRegressor\\nfrom pathlib import Path\\nimport xgboost as xgb\\nimport seaborn as sns\\nfrom sklearn.ensemble import RandomForestRegressor\\nimport os\\nimport sklearn\\nimport plotly as py'); }\n",
       "    "
      ],
      "text/plain": [
       "<IPython.core.display.Javascript object>"
      ]
     },
     "metadata": {},
     "output_type": "display_data"
    },
    {
     "data": {
      "application/javascript": [
       "\n",
       "        if (window._pyforest_update_imports_cell) { window._pyforest_update_imports_cell('from openpyxl import load_workbook\\nimport matplotlib as mpl\\nfrom sklearn.preprocessing import OneHotEncoder\\nimport matplotlib.pyplot as plt\\nfrom sklearn.ensemble import RandomForestClassifier\\nimport lightgbm as lgb\\nimport pandas as pd\\nfrom sklearn.ensemble import GradientBoostingClassifier\\nimport plotly.express as px\\nimport pickle\\nfrom sklearn.ensemble import GradientBoostingRegressor\\nfrom pathlib import Path\\nimport xgboost as xgb\\nimport seaborn as sns\\nfrom sklearn.ensemble import RandomForestRegressor\\nimport os\\nimport sklearn\\nimport plotly as py'); }\n",
       "    "
      ],
      "text/plain": [
       "<IPython.core.display.Javascript object>"
      ]
     },
     "metadata": {},
     "output_type": "display_data"
    },
    {
     "data": {
      "application/javascript": [
       "\n",
       "        if (window._pyforest_update_imports_cell) { window._pyforest_update_imports_cell('from openpyxl import load_workbook\\nimport matplotlib as mpl\\nfrom sklearn.preprocessing import OneHotEncoder\\nimport matplotlib.pyplot as plt\\nfrom sklearn.ensemble import RandomForestClassifier\\nimport lightgbm as lgb\\nimport pandas as pd\\nfrom sklearn.ensemble import GradientBoostingClassifier\\nimport plotly.express as px\\nimport pickle\\nfrom sklearn.ensemble import GradientBoostingRegressor\\nfrom pathlib import Path\\nimport xgboost as xgb\\nimport seaborn as sns\\nfrom sklearn.ensemble import RandomForestRegressor\\nimport os\\nimport sklearn\\nimport plotly as py'); }\n",
       "    "
      ],
      "text/plain": [
       "<IPython.core.display.Javascript object>"
      ]
     },
     "metadata": {},
     "output_type": "display_data"
    },
    {
     "data": {
      "application/javascript": [
       "\n",
       "        if (window._pyforest_update_imports_cell) { window._pyforest_update_imports_cell('from openpyxl import load_workbook\\nimport matplotlib as mpl\\nfrom sklearn.preprocessing import OneHotEncoder\\nimport matplotlib.pyplot as plt\\nfrom sklearn.ensemble import RandomForestClassifier\\nimport lightgbm as lgb\\nimport pandas as pd\\nfrom sklearn.ensemble import GradientBoostingClassifier\\nimport plotly.express as px\\nimport pickle\\nfrom sklearn.ensemble import GradientBoostingRegressor\\nfrom pathlib import Path\\nimport xgboost as xgb\\nimport seaborn as sns\\nfrom sklearn.ensemble import RandomForestRegressor\\nimport os\\nimport sklearn\\nimport plotly as py'); }\n",
       "    "
      ],
      "text/plain": [
       "<IPython.core.display.Javascript object>"
      ]
     },
     "metadata": {},
     "output_type": "display_data"
    },
    {
     "data": {
      "application/javascript": [
       "\n",
       "        if (window._pyforest_update_imports_cell) { window._pyforest_update_imports_cell('from openpyxl import load_workbook\\nimport matplotlib as mpl\\nfrom sklearn.preprocessing import OneHotEncoder\\nimport matplotlib.pyplot as plt\\nfrom sklearn.ensemble import RandomForestClassifier\\nimport lightgbm as lgb\\nimport pandas as pd\\nfrom sklearn.ensemble import GradientBoostingClassifier\\nimport plotly.express as px\\nimport pickle\\nfrom sklearn.ensemble import GradientBoostingRegressor\\nfrom pathlib import Path\\nimport xgboost as xgb\\nimport seaborn as sns\\nfrom sklearn.ensemble import RandomForestRegressor\\nimport os\\nimport sklearn\\nimport plotly as py'); }\n",
       "    "
      ],
      "text/plain": [
       "<IPython.core.display.Javascript object>"
      ]
     },
     "metadata": {},
     "output_type": "display_data"
    },
    {
     "data": {
      "application/javascript": [
       "\n",
       "        if (window._pyforest_update_imports_cell) { window._pyforest_update_imports_cell('from openpyxl import load_workbook\\nimport matplotlib as mpl\\nfrom sklearn.preprocessing import OneHotEncoder\\nimport matplotlib.pyplot as plt\\nfrom sklearn.ensemble import RandomForestClassifier\\nimport lightgbm as lgb\\nimport pandas as pd\\nfrom sklearn.ensemble import GradientBoostingClassifier\\nimport plotly.express as px\\nimport pickle\\nfrom sklearn.ensemble import GradientBoostingRegressor\\nfrom pathlib import Path\\nimport xgboost as xgb\\nimport seaborn as sns\\nfrom sklearn.ensemble import RandomForestRegressor\\nimport os\\nimport sklearn\\nimport plotly as py'); }\n",
       "    "
      ],
      "text/plain": [
       "<IPython.core.display.Javascript object>"
      ]
     },
     "metadata": {},
     "output_type": "display_data"
    },
    {
     "data": {
      "application/javascript": [
       "\n",
       "        if (window._pyforest_update_imports_cell) { window._pyforest_update_imports_cell('from openpyxl import load_workbook\\nimport matplotlib as mpl\\nfrom sklearn.preprocessing import OneHotEncoder\\nimport matplotlib.pyplot as plt\\nfrom sklearn.ensemble import RandomForestClassifier\\nimport lightgbm as lgb\\nimport pandas as pd\\nfrom sklearn.ensemble import GradientBoostingClassifier\\nimport plotly.express as px\\nimport pickle\\nfrom sklearn.ensemble import GradientBoostingRegressor\\nfrom pathlib import Path\\nimport xgboost as xgb\\nimport seaborn as sns\\nfrom sklearn.ensemble import RandomForestRegressor\\nimport os\\nimport sklearn\\nimport plotly as py'); }\n",
       "    "
      ],
      "text/plain": [
       "<IPython.core.display.Javascript object>"
      ]
     },
     "metadata": {},
     "output_type": "display_data"
    },
    {
     "data": {
      "application/javascript": [
       "\n",
       "        if (window._pyforest_update_imports_cell) { window._pyforest_update_imports_cell('from openpyxl import load_workbook\\nimport matplotlib as mpl\\nfrom sklearn.preprocessing import OneHotEncoder\\nimport matplotlib.pyplot as plt\\nfrom sklearn.ensemble import RandomForestClassifier\\nimport lightgbm as lgb\\nimport pandas as pd\\nfrom sklearn.ensemble import GradientBoostingClassifier\\nimport plotly.express as px\\nimport pickle\\nfrom sklearn.ensemble import GradientBoostingRegressor\\nfrom pathlib import Path\\nimport xgboost as xgb\\nimport seaborn as sns\\nfrom sklearn.ensemble import RandomForestRegressor\\nimport os\\nimport sklearn\\nimport plotly as py'); }\n",
       "    "
      ],
      "text/plain": [
       "<IPython.core.display.Javascript object>"
      ]
     },
     "metadata": {},
     "output_type": "display_data"
    },
    {
     "data": {
      "application/javascript": [
       "\n",
       "        if (window._pyforest_update_imports_cell) { window._pyforest_update_imports_cell('from openpyxl import load_workbook\\nimport matplotlib as mpl\\nfrom sklearn.preprocessing import OneHotEncoder\\nimport matplotlib.pyplot as plt\\nfrom sklearn.ensemble import RandomForestClassifier\\nimport lightgbm as lgb\\nimport pandas as pd\\nfrom sklearn.ensemble import GradientBoostingClassifier\\nimport plotly.express as px\\nimport pickle\\nfrom sklearn.ensemble import GradientBoostingRegressor\\nfrom pathlib import Path\\nimport xgboost as xgb\\nimport seaborn as sns\\nfrom sklearn.ensemble import RandomForestRegressor\\nimport os\\nimport sklearn\\nimport plotly as py'); }\n",
       "    "
      ],
      "text/plain": [
       "<IPython.core.display.Javascript object>"
      ]
     },
     "metadata": {},
     "output_type": "display_data"
    },
    {
     "data": {
      "application/javascript": [
       "\n",
       "        if (window._pyforest_update_imports_cell) { window._pyforest_update_imports_cell('from openpyxl import load_workbook\\nimport matplotlib as mpl\\nfrom sklearn.preprocessing import OneHotEncoder\\nimport matplotlib.pyplot as plt\\nfrom sklearn.ensemble import RandomForestClassifier\\nimport lightgbm as lgb\\nimport pandas as pd\\nfrom sklearn.ensemble import GradientBoostingClassifier\\nimport plotly.express as px\\nimport pickle\\nfrom sklearn.ensemble import GradientBoostingRegressor\\nfrom pathlib import Path\\nimport xgboost as xgb\\nimport seaborn as sns\\nfrom sklearn.ensemble import RandomForestRegressor\\nimport os\\nimport sklearn\\nimport plotly as py'); }\n",
       "    "
      ],
      "text/plain": [
       "<IPython.core.display.Javascript object>"
      ]
     },
     "metadata": {},
     "output_type": "display_data"
    },
    {
     "data": {
      "application/javascript": [
       "\n",
       "        if (window._pyforest_update_imports_cell) { window._pyforest_update_imports_cell('from openpyxl import load_workbook\\nimport matplotlib as mpl\\nfrom sklearn.preprocessing import OneHotEncoder\\nimport matplotlib.pyplot as plt\\nfrom sklearn.ensemble import RandomForestClassifier\\nimport lightgbm as lgb\\nimport pandas as pd\\nfrom sklearn.ensemble import GradientBoostingClassifier\\nimport plotly.express as px\\nimport pickle\\nfrom sklearn.ensemble import GradientBoostingRegressor\\nfrom pathlib import Path\\nimport xgboost as xgb\\nimport seaborn as sns\\nfrom sklearn.ensemble import RandomForestRegressor\\nimport os\\nimport sklearn\\nimport plotly as py'); }\n",
       "    "
      ],
      "text/plain": [
       "<IPython.core.display.Javascript object>"
      ]
     },
     "metadata": {},
     "output_type": "display_data"
    },
    {
     "data": {
      "application/javascript": [
       "\n",
       "        if (window._pyforest_update_imports_cell) { window._pyforest_update_imports_cell('from openpyxl import load_workbook\\nimport matplotlib as mpl\\nfrom sklearn.preprocessing import OneHotEncoder\\nimport matplotlib.pyplot as plt\\nfrom sklearn.ensemble import RandomForestClassifier\\nimport lightgbm as lgb\\nimport pandas as pd\\nfrom sklearn.ensemble import GradientBoostingClassifier\\nimport plotly.express as px\\nimport pickle\\nfrom sklearn.ensemble import GradientBoostingRegressor\\nfrom pathlib import Path\\nimport xgboost as xgb\\nimport seaborn as sns\\nfrom sklearn.ensemble import RandomForestRegressor\\nimport os\\nimport sklearn\\nimport plotly as py'); }\n",
       "    "
      ],
      "text/plain": [
       "<IPython.core.display.Javascript object>"
      ]
     },
     "metadata": {},
     "output_type": "display_data"
    },
    {
     "data": {
      "application/javascript": [
       "\n",
       "        if (window._pyforest_update_imports_cell) { window._pyforest_update_imports_cell('from openpyxl import load_workbook\\nimport matplotlib as mpl\\nfrom sklearn.preprocessing import OneHotEncoder\\nimport matplotlib.pyplot as plt\\nfrom sklearn.ensemble import RandomForestClassifier\\nimport lightgbm as lgb\\nimport pandas as pd\\nfrom sklearn.ensemble import GradientBoostingClassifier\\nimport plotly.express as px\\nimport pickle\\nfrom sklearn.ensemble import GradientBoostingRegressor\\nfrom pathlib import Path\\nimport xgboost as xgb\\nimport seaborn as sns\\nfrom sklearn.ensemble import RandomForestRegressor\\nimport os\\nimport sklearn\\nimport plotly as py'); }\n",
       "    "
      ],
      "text/plain": [
       "<IPython.core.display.Javascript object>"
      ]
     },
     "metadata": {},
     "output_type": "display_data"
    },
    {
     "data": {
      "application/javascript": [
       "\n",
       "        if (window._pyforest_update_imports_cell) { window._pyforest_update_imports_cell('from openpyxl import load_workbook\\nimport matplotlib as mpl\\nfrom sklearn.preprocessing import OneHotEncoder\\nimport matplotlib.pyplot as plt\\nfrom sklearn.ensemble import RandomForestClassifier\\nimport lightgbm as lgb\\nimport pandas as pd\\nfrom sklearn.ensemble import GradientBoostingClassifier\\nimport plotly.express as px\\nimport pickle\\nfrom sklearn.ensemble import GradientBoostingRegressor\\nfrom pathlib import Path\\nimport xgboost as xgb\\nimport seaborn as sns\\nfrom sklearn.ensemble import RandomForestRegressor\\nimport os\\nimport sklearn\\nimport plotly as py'); }\n",
       "    "
      ],
      "text/plain": [
       "<IPython.core.display.Javascript object>"
      ]
     },
     "metadata": {},
     "output_type": "display_data"
    },
    {
     "data": {
      "application/javascript": [
       "\n",
       "        if (window._pyforest_update_imports_cell) { window._pyforest_update_imports_cell('from openpyxl import load_workbook\\nimport matplotlib as mpl\\nfrom sklearn.preprocessing import OneHotEncoder\\nimport matplotlib.pyplot as plt\\nfrom sklearn.ensemble import RandomForestClassifier\\nimport lightgbm as lgb\\nimport pandas as pd\\nfrom sklearn.ensemble import GradientBoostingClassifier\\nimport plotly.express as px\\nimport pickle\\nfrom sklearn.ensemble import GradientBoostingRegressor\\nfrom pathlib import Path\\nimport xgboost as xgb\\nimport seaborn as sns\\nfrom sklearn.ensemble import RandomForestRegressor\\nimport os\\nimport sklearn\\nimport plotly as py'); }\n",
       "    "
      ],
      "text/plain": [
       "<IPython.core.display.Javascript object>"
      ]
     },
     "metadata": {},
     "output_type": "display_data"
    },
    {
     "data": {
      "application/javascript": [
       "\n",
       "        if (window._pyforest_update_imports_cell) { window._pyforest_update_imports_cell('from openpyxl import load_workbook\\nimport matplotlib as mpl\\nfrom sklearn.preprocessing import OneHotEncoder\\nimport matplotlib.pyplot as plt\\nfrom sklearn.ensemble import RandomForestClassifier\\nimport lightgbm as lgb\\nimport pandas as pd\\nfrom sklearn.ensemble import GradientBoostingClassifier\\nimport plotly.express as px\\nimport pickle\\nfrom sklearn.ensemble import GradientBoostingRegressor\\nfrom pathlib import Path\\nimport xgboost as xgb\\nimport seaborn as sns\\nfrom sklearn.ensemble import RandomForestRegressor\\nimport os\\nimport sklearn\\nimport plotly as py'); }\n",
       "    "
      ],
      "text/plain": [
       "<IPython.core.display.Javascript object>"
      ]
     },
     "metadata": {},
     "output_type": "display_data"
    },
    {
     "data": {
      "application/javascript": [
       "\n",
       "        if (window._pyforest_update_imports_cell) { window._pyforest_update_imports_cell('from openpyxl import load_workbook\\nimport matplotlib as mpl\\nfrom sklearn.preprocessing import OneHotEncoder\\nimport matplotlib.pyplot as plt\\nfrom sklearn.ensemble import RandomForestClassifier\\nimport lightgbm as lgb\\nimport pandas as pd\\nfrom sklearn.ensemble import GradientBoostingClassifier\\nimport plotly.express as px\\nimport pickle\\nfrom sklearn.ensemble import GradientBoostingRegressor\\nfrom pathlib import Path\\nimport xgboost as xgb\\nimport seaborn as sns\\nfrom sklearn.ensemble import RandomForestRegressor\\nimport os\\nimport sklearn\\nimport plotly as py'); }\n",
       "    "
      ],
      "text/plain": [
       "<IPython.core.display.Javascript object>"
      ]
     },
     "metadata": {},
     "output_type": "display_data"
    },
    {
     "data": {
      "application/javascript": [
       "\n",
       "        if (window._pyforest_update_imports_cell) { window._pyforest_update_imports_cell('from openpyxl import load_workbook\\nimport matplotlib as mpl\\nfrom sklearn.preprocessing import OneHotEncoder\\nimport matplotlib.pyplot as plt\\nfrom sklearn.ensemble import RandomForestClassifier\\nimport lightgbm as lgb\\nimport pandas as pd\\nfrom sklearn.ensemble import GradientBoostingClassifier\\nimport plotly.express as px\\nimport pickle\\nfrom sklearn.ensemble import GradientBoostingRegressor\\nfrom pathlib import Path\\nimport xgboost as xgb\\nimport seaborn as sns\\nfrom sklearn.ensemble import RandomForestRegressor\\nimport os\\nimport sklearn\\nimport plotly as py'); }\n",
       "    "
      ],
      "text/plain": [
       "<IPython.core.display.Javascript object>"
      ]
     },
     "metadata": {},
     "output_type": "display_data"
    },
    {
     "data": {
      "application/javascript": [
       "\n",
       "        if (window._pyforest_update_imports_cell) { window._pyforest_update_imports_cell('from openpyxl import load_workbook\\nimport matplotlib as mpl\\nfrom sklearn.preprocessing import OneHotEncoder\\nimport matplotlib.pyplot as plt\\nfrom sklearn.ensemble import RandomForestClassifier\\nimport lightgbm as lgb\\nimport pandas as pd\\nfrom sklearn.ensemble import GradientBoostingClassifier\\nimport plotly.express as px\\nimport pickle\\nfrom sklearn.ensemble import GradientBoostingRegressor\\nfrom pathlib import Path\\nimport xgboost as xgb\\nimport seaborn as sns\\nfrom sklearn.ensemble import RandomForestRegressor\\nimport os\\nimport sklearn\\nimport plotly as py'); }\n",
       "    "
      ],
      "text/plain": [
       "<IPython.core.display.Javascript object>"
      ]
     },
     "metadata": {},
     "output_type": "display_data"
    },
    {
     "data": {
      "application/javascript": [
       "\n",
       "        if (window._pyforest_update_imports_cell) { window._pyforest_update_imports_cell('from openpyxl import load_workbook\\nimport matplotlib as mpl\\nfrom sklearn.preprocessing import OneHotEncoder\\nimport matplotlib.pyplot as plt\\nfrom sklearn.ensemble import RandomForestClassifier\\nimport lightgbm as lgb\\nimport pandas as pd\\nfrom sklearn.ensemble import GradientBoostingClassifier\\nimport plotly.express as px\\nimport pickle\\nfrom sklearn.ensemble import GradientBoostingRegressor\\nfrom pathlib import Path\\nimport xgboost as xgb\\nimport seaborn as sns\\nfrom sklearn.ensemble import RandomForestRegressor\\nimport os\\nimport sklearn\\nimport plotly as py'); }\n",
       "    "
      ],
      "text/plain": [
       "<IPython.core.display.Javascript object>"
      ]
     },
     "metadata": {},
     "output_type": "display_data"
    },
    {
     "data": {
      "application/javascript": [
       "\n",
       "        if (window._pyforest_update_imports_cell) { window._pyforest_update_imports_cell('from openpyxl import load_workbook\\nimport matplotlib as mpl\\nfrom sklearn.preprocessing import OneHotEncoder\\nimport matplotlib.pyplot as plt\\nfrom sklearn.ensemble import RandomForestClassifier\\nimport lightgbm as lgb\\nimport pandas as pd\\nfrom sklearn.ensemble import GradientBoostingClassifier\\nimport plotly.express as px\\nimport pickle\\nfrom sklearn.ensemble import GradientBoostingRegressor\\nfrom pathlib import Path\\nimport xgboost as xgb\\nimport seaborn as sns\\nfrom sklearn.ensemble import RandomForestRegressor\\nimport os\\nimport sklearn\\nimport plotly as py'); }\n",
       "    "
      ],
      "text/plain": [
       "<IPython.core.display.Javascript object>"
      ]
     },
     "metadata": {},
     "output_type": "display_data"
    },
    {
     "data": {
      "application/javascript": [
       "\n",
       "        if (window._pyforest_update_imports_cell) { window._pyforest_update_imports_cell('from openpyxl import load_workbook\\nimport matplotlib as mpl\\nfrom sklearn.preprocessing import OneHotEncoder\\nimport matplotlib.pyplot as plt\\nfrom sklearn.ensemble import RandomForestClassifier\\nimport lightgbm as lgb\\nimport pandas as pd\\nfrom sklearn.ensemble import GradientBoostingClassifier\\nimport plotly.express as px\\nimport pickle\\nfrom sklearn.ensemble import GradientBoostingRegressor\\nfrom pathlib import Path\\nimport xgboost as xgb\\nimport seaborn as sns\\nfrom sklearn.ensemble import RandomForestRegressor\\nimport os\\nimport sklearn\\nimport plotly as py'); }\n",
       "    "
      ],
      "text/plain": [
       "<IPython.core.display.Javascript object>"
      ]
     },
     "metadata": {},
     "output_type": "display_data"
    },
    {
     "data": {
      "application/javascript": [
       "\n",
       "        if (window._pyforest_update_imports_cell) { window._pyforest_update_imports_cell('from openpyxl import load_workbook\\nimport matplotlib as mpl\\nfrom sklearn.preprocessing import OneHotEncoder\\nimport matplotlib.pyplot as plt\\nfrom sklearn.ensemble import RandomForestClassifier\\nimport lightgbm as lgb\\nimport pandas as pd\\nfrom sklearn.ensemble import GradientBoostingClassifier\\nimport plotly.express as px\\nimport pickle\\nfrom sklearn.ensemble import GradientBoostingRegressor\\nfrom pathlib import Path\\nimport xgboost as xgb\\nimport seaborn as sns\\nfrom sklearn.ensemble import RandomForestRegressor\\nimport os\\nimport sklearn\\nimport plotly as py'); }\n",
       "    "
      ],
      "text/plain": [
       "<IPython.core.display.Javascript object>"
      ]
     },
     "metadata": {},
     "output_type": "display_data"
    },
    {
     "data": {
      "application/javascript": [
       "\n",
       "        if (window._pyforest_update_imports_cell) { window._pyforest_update_imports_cell('from openpyxl import load_workbook\\nimport matplotlib as mpl\\nfrom sklearn.preprocessing import OneHotEncoder\\nimport matplotlib.pyplot as plt\\nfrom sklearn.ensemble import RandomForestClassifier\\nimport lightgbm as lgb\\nimport pandas as pd\\nfrom sklearn.ensemble import GradientBoostingClassifier\\nimport plotly.express as px\\nimport pickle\\nfrom sklearn.ensemble import GradientBoostingRegressor\\nfrom pathlib import Path\\nimport xgboost as xgb\\nimport seaborn as sns\\nfrom sklearn.ensemble import RandomForestRegressor\\nimport os\\nimport sklearn\\nimport plotly as py'); }\n",
       "    "
      ],
      "text/plain": [
       "<IPython.core.display.Javascript object>"
      ]
     },
     "metadata": {},
     "output_type": "display_data"
    },
    {
     "data": {
      "application/javascript": [
       "\n",
       "        if (window._pyforest_update_imports_cell) { window._pyforest_update_imports_cell('from openpyxl import load_workbook\\nimport matplotlib as mpl\\nfrom sklearn.preprocessing import OneHotEncoder\\nimport matplotlib.pyplot as plt\\nfrom sklearn.ensemble import RandomForestClassifier\\nimport lightgbm as lgb\\nimport pandas as pd\\nfrom sklearn.ensemble import GradientBoostingClassifier\\nimport plotly.express as px\\nimport pickle\\nfrom sklearn.ensemble import GradientBoostingRegressor\\nfrom pathlib import Path\\nimport xgboost as xgb\\nimport seaborn as sns\\nfrom sklearn.ensemble import RandomForestRegressor\\nimport os\\nimport sklearn\\nimport plotly as py'); }\n",
       "    "
      ],
      "text/plain": [
       "<IPython.core.display.Javascript object>"
      ]
     },
     "metadata": {},
     "output_type": "display_data"
    },
    {
     "data": {
      "application/javascript": [
       "\n",
       "        if (window._pyforest_update_imports_cell) { window._pyforest_update_imports_cell('from openpyxl import load_workbook\\nimport matplotlib as mpl\\nfrom sklearn.preprocessing import OneHotEncoder\\nimport matplotlib.pyplot as plt\\nfrom sklearn.ensemble import RandomForestClassifier\\nimport lightgbm as lgb\\nimport pandas as pd\\nfrom sklearn.ensemble import GradientBoostingClassifier\\nimport plotly.express as px\\nimport pickle\\nfrom sklearn.ensemble import GradientBoostingRegressor\\nfrom pathlib import Path\\nimport xgboost as xgb\\nimport seaborn as sns\\nfrom sklearn.ensemble import RandomForestRegressor\\nimport os\\nimport sklearn\\nimport plotly as py'); }\n",
       "    "
      ],
      "text/plain": [
       "<IPython.core.display.Javascript object>"
      ]
     },
     "metadata": {},
     "output_type": "display_data"
    },
    {
     "data": {
      "application/javascript": [
       "\n",
       "        if (window._pyforest_update_imports_cell) { window._pyforest_update_imports_cell('from openpyxl import load_workbook\\nimport matplotlib as mpl\\nfrom sklearn.preprocessing import OneHotEncoder\\nimport matplotlib.pyplot as plt\\nfrom sklearn.ensemble import RandomForestClassifier\\nimport lightgbm as lgb\\nimport pandas as pd\\nfrom sklearn.ensemble import GradientBoostingClassifier\\nimport plotly.express as px\\nimport pickle\\nfrom sklearn.ensemble import GradientBoostingRegressor\\nfrom pathlib import Path\\nimport xgboost as xgb\\nimport seaborn as sns\\nfrom sklearn.ensemble import RandomForestRegressor\\nimport os\\nimport sklearn\\nimport plotly as py'); }\n",
       "    "
      ],
      "text/plain": [
       "<IPython.core.display.Javascript object>"
      ]
     },
     "metadata": {},
     "output_type": "display_data"
    },
    {
     "data": {
      "application/javascript": [
       "\n",
       "        if (window._pyforest_update_imports_cell) { window._pyforest_update_imports_cell('from openpyxl import load_workbook\\nimport matplotlib as mpl\\nfrom sklearn.preprocessing import OneHotEncoder\\nimport matplotlib.pyplot as plt\\nfrom sklearn.ensemble import RandomForestClassifier\\nimport lightgbm as lgb\\nimport pandas as pd\\nfrom sklearn.ensemble import GradientBoostingClassifier\\nimport plotly.express as px\\nimport pickle\\nfrom sklearn.ensemble import GradientBoostingRegressor\\nfrom pathlib import Path\\nimport xgboost as xgb\\nimport seaborn as sns\\nfrom sklearn.ensemble import RandomForestRegressor\\nimport os\\nimport sklearn\\nimport plotly as py'); }\n",
       "    "
      ],
      "text/plain": [
       "<IPython.core.display.Javascript object>"
      ]
     },
     "metadata": {},
     "output_type": "display_data"
    },
    {
     "data": {
      "application/javascript": [
       "\n",
       "        if (window._pyforest_update_imports_cell) { window._pyforest_update_imports_cell('from openpyxl import load_workbook\\nimport matplotlib as mpl\\nfrom sklearn.preprocessing import OneHotEncoder\\nimport matplotlib.pyplot as plt\\nfrom sklearn.ensemble import RandomForestClassifier\\nimport lightgbm as lgb\\nimport pandas as pd\\nfrom sklearn.ensemble import GradientBoostingClassifier\\nimport plotly.express as px\\nimport pickle\\nfrom sklearn.ensemble import GradientBoostingRegressor\\nfrom pathlib import Path\\nimport xgboost as xgb\\nimport seaborn as sns\\nfrom sklearn.ensemble import RandomForestRegressor\\nimport os\\nimport sklearn\\nimport plotly as py'); }\n",
       "    "
      ],
      "text/plain": [
       "<IPython.core.display.Javascript object>"
      ]
     },
     "metadata": {},
     "output_type": "display_data"
    },
    {
     "data": {
      "application/javascript": [
       "\n",
       "        if (window._pyforest_update_imports_cell) { window._pyforest_update_imports_cell('from openpyxl import load_workbook\\nimport matplotlib as mpl\\nfrom sklearn.preprocessing import OneHotEncoder\\nimport matplotlib.pyplot as plt\\nfrom sklearn.ensemble import RandomForestClassifier\\nimport lightgbm as lgb\\nimport pandas as pd\\nfrom sklearn.ensemble import GradientBoostingClassifier\\nimport plotly.express as px\\nimport pickle\\nfrom sklearn.ensemble import GradientBoostingRegressor\\nfrom pathlib import Path\\nimport xgboost as xgb\\nimport seaborn as sns\\nfrom sklearn.ensemble import RandomForestRegressor\\nimport os\\nimport sklearn\\nimport plotly as py'); }\n",
       "    "
      ],
      "text/plain": [
       "<IPython.core.display.Javascript object>"
      ]
     },
     "metadata": {},
     "output_type": "display_data"
    },
    {
     "data": {
      "application/javascript": [
       "\n",
       "        if (window._pyforest_update_imports_cell) { window._pyforest_update_imports_cell('from openpyxl import load_workbook\\nimport matplotlib as mpl\\nfrom sklearn.preprocessing import OneHotEncoder\\nimport matplotlib.pyplot as plt\\nfrom sklearn.ensemble import RandomForestClassifier\\nimport lightgbm as lgb\\nimport pandas as pd\\nfrom sklearn.ensemble import GradientBoostingClassifier\\nimport plotly.express as px\\nimport pickle\\nfrom sklearn.ensemble import GradientBoostingRegressor\\nfrom pathlib import Path\\nimport xgboost as xgb\\nimport seaborn as sns\\nfrom sklearn.ensemble import RandomForestRegressor\\nimport os\\nimport sklearn\\nimport plotly as py'); }\n",
       "    "
      ],
      "text/plain": [
       "<IPython.core.display.Javascript object>"
      ]
     },
     "metadata": {},
     "output_type": "display_data"
    },
    {
     "data": {
      "application/javascript": [
       "\n",
       "        if (window._pyforest_update_imports_cell) { window._pyforest_update_imports_cell('from openpyxl import load_workbook\\nimport matplotlib as mpl\\nfrom sklearn.preprocessing import OneHotEncoder\\nimport matplotlib.pyplot as plt\\nfrom sklearn.ensemble import RandomForestClassifier\\nimport lightgbm as lgb\\nimport pandas as pd\\nfrom sklearn.ensemble import GradientBoostingClassifier\\nimport plotly.express as px\\nimport pickle\\nfrom sklearn.ensemble import GradientBoostingRegressor\\nfrom pathlib import Path\\nimport xgboost as xgb\\nimport seaborn as sns\\nfrom sklearn.ensemble import RandomForestRegressor\\nimport os\\nimport sklearn\\nimport plotly as py'); }\n",
       "    "
      ],
      "text/plain": [
       "<IPython.core.display.Javascript object>"
      ]
     },
     "metadata": {},
     "output_type": "display_data"
    },
    {
     "data": {
      "application/javascript": [
       "\n",
       "        if (window._pyforest_update_imports_cell) { window._pyforest_update_imports_cell('from openpyxl import load_workbook\\nimport matplotlib as mpl\\nfrom sklearn.preprocessing import OneHotEncoder\\nimport matplotlib.pyplot as plt\\nfrom sklearn.ensemble import RandomForestClassifier\\nimport lightgbm as lgb\\nimport pandas as pd\\nfrom sklearn.ensemble import GradientBoostingClassifier\\nimport plotly.express as px\\nimport pickle\\nfrom sklearn.ensemble import GradientBoostingRegressor\\nfrom pathlib import Path\\nimport xgboost as xgb\\nimport seaborn as sns\\nfrom sklearn.ensemble import RandomForestRegressor\\nimport os\\nimport sklearn\\nimport plotly as py'); }\n",
       "    "
      ],
      "text/plain": [
       "<IPython.core.display.Javascript object>"
      ]
     },
     "metadata": {},
     "output_type": "display_data"
    },
    {
     "data": {
      "application/javascript": [
       "\n",
       "        if (window._pyforest_update_imports_cell) { window._pyforest_update_imports_cell('from openpyxl import load_workbook\\nimport matplotlib as mpl\\nfrom sklearn.preprocessing import OneHotEncoder\\nimport matplotlib.pyplot as plt\\nfrom sklearn.ensemble import RandomForestClassifier\\nimport lightgbm as lgb\\nimport pandas as pd\\nfrom sklearn.ensemble import GradientBoostingClassifier\\nimport plotly.express as px\\nimport pickle\\nfrom sklearn.ensemble import GradientBoostingRegressor\\nfrom pathlib import Path\\nimport xgboost as xgb\\nimport seaborn as sns\\nfrom sklearn.ensemble import RandomForestRegressor\\nimport os\\nimport sklearn\\nimport plotly as py'); }\n",
       "    "
      ],
      "text/plain": [
       "<IPython.core.display.Javascript object>"
      ]
     },
     "metadata": {},
     "output_type": "display_data"
    },
    {
     "data": {
      "application/javascript": [
       "\n",
       "        if (window._pyforest_update_imports_cell) { window._pyforest_update_imports_cell('from openpyxl import load_workbook\\nimport matplotlib as mpl\\nfrom sklearn.preprocessing import OneHotEncoder\\nimport matplotlib.pyplot as plt\\nfrom sklearn.ensemble import RandomForestClassifier\\nimport lightgbm as lgb\\nimport pandas as pd\\nfrom sklearn.ensemble import GradientBoostingClassifier\\nimport plotly.express as px\\nimport pickle\\nfrom sklearn.ensemble import GradientBoostingRegressor\\nfrom pathlib import Path\\nimport xgboost as xgb\\nimport seaborn as sns\\nfrom sklearn.ensemble import RandomForestRegressor\\nimport os\\nimport sklearn\\nimport plotly as py'); }\n",
       "    "
      ],
      "text/plain": [
       "<IPython.core.display.Javascript object>"
      ]
     },
     "metadata": {},
     "output_type": "display_data"
    },
    {
     "data": {
      "application/javascript": [
       "\n",
       "        if (window._pyforest_update_imports_cell) { window._pyforest_update_imports_cell('from openpyxl import load_workbook\\nimport matplotlib as mpl\\nfrom sklearn.preprocessing import OneHotEncoder\\nimport matplotlib.pyplot as plt\\nfrom sklearn.ensemble import RandomForestClassifier\\nimport lightgbm as lgb\\nimport pandas as pd\\nfrom sklearn.ensemble import GradientBoostingClassifier\\nimport plotly.express as px\\nimport pickle\\nfrom sklearn.ensemble import GradientBoostingRegressor\\nfrom pathlib import Path\\nimport xgboost as xgb\\nimport seaborn as sns\\nfrom sklearn.ensemble import RandomForestRegressor\\nimport os\\nimport sklearn\\nimport plotly as py'); }\n",
       "    "
      ],
      "text/plain": [
       "<IPython.core.display.Javascript object>"
      ]
     },
     "metadata": {},
     "output_type": "display_data"
    },
    {
     "data": {
      "application/javascript": [
       "\n",
       "        if (window._pyforest_update_imports_cell) { window._pyforest_update_imports_cell('from openpyxl import load_workbook\\nimport matplotlib as mpl\\nfrom sklearn.preprocessing import OneHotEncoder\\nimport matplotlib.pyplot as plt\\nfrom sklearn.ensemble import RandomForestClassifier\\nimport lightgbm as lgb\\nimport pandas as pd\\nfrom sklearn.ensemble import GradientBoostingClassifier\\nimport plotly.express as px\\nimport pickle\\nfrom sklearn.ensemble import GradientBoostingRegressor\\nfrom pathlib import Path\\nimport xgboost as xgb\\nimport seaborn as sns\\nfrom sklearn.ensemble import RandomForestRegressor\\nimport os\\nimport sklearn\\nimport plotly as py'); }\n",
       "    "
      ],
      "text/plain": [
       "<IPython.core.display.Javascript object>"
      ]
     },
     "metadata": {},
     "output_type": "display_data"
    },
    {
     "data": {
      "application/javascript": [
       "\n",
       "        if (window._pyforest_update_imports_cell) { window._pyforest_update_imports_cell('from openpyxl import load_workbook\\nimport matplotlib as mpl\\nfrom sklearn.preprocessing import OneHotEncoder\\nimport matplotlib.pyplot as plt\\nfrom sklearn.ensemble import RandomForestClassifier\\nimport lightgbm as lgb\\nimport pandas as pd\\nfrom sklearn.ensemble import GradientBoostingClassifier\\nimport plotly.express as px\\nimport pickle\\nfrom sklearn.ensemble import GradientBoostingRegressor\\nfrom pathlib import Path\\nimport xgboost as xgb\\nimport seaborn as sns\\nfrom sklearn.ensemble import RandomForestRegressor\\nimport os\\nimport sklearn\\nimport plotly as py'); }\n",
       "    "
      ],
      "text/plain": [
       "<IPython.core.display.Javascript object>"
      ]
     },
     "metadata": {},
     "output_type": "display_data"
    },
    {
     "data": {
      "application/javascript": [
       "\n",
       "        if (window._pyforest_update_imports_cell) { window._pyforest_update_imports_cell('from openpyxl import load_workbook\\nimport matplotlib as mpl\\nfrom sklearn.preprocessing import OneHotEncoder\\nimport matplotlib.pyplot as plt\\nfrom sklearn.ensemble import RandomForestClassifier\\nimport lightgbm as lgb\\nimport pandas as pd\\nfrom sklearn.ensemble import GradientBoostingClassifier\\nimport plotly.express as px\\nimport pickle\\nfrom sklearn.ensemble import GradientBoostingRegressor\\nfrom pathlib import Path\\nimport xgboost as xgb\\nimport seaborn as sns\\nfrom sklearn.ensemble import RandomForestRegressor\\nimport os\\nimport sklearn\\nimport plotly as py'); }\n",
       "    "
      ],
      "text/plain": [
       "<IPython.core.display.Javascript object>"
      ]
     },
     "metadata": {},
     "output_type": "display_data"
    },
    {
     "data": {
      "application/javascript": [
       "\n",
       "        if (window._pyforest_update_imports_cell) { window._pyforest_update_imports_cell('from openpyxl import load_workbook\\nimport matplotlib as mpl\\nfrom sklearn.preprocessing import OneHotEncoder\\nimport matplotlib.pyplot as plt\\nfrom sklearn.ensemble import RandomForestClassifier\\nimport lightgbm as lgb\\nimport pandas as pd\\nfrom sklearn.ensemble import GradientBoostingClassifier\\nimport plotly.express as px\\nimport pickle\\nfrom sklearn.ensemble import GradientBoostingRegressor\\nfrom pathlib import Path\\nimport xgboost as xgb\\nimport seaborn as sns\\nfrom sklearn.ensemble import RandomForestRegressor\\nimport os\\nimport sklearn\\nimport plotly as py'); }\n",
       "    "
      ],
      "text/plain": [
       "<IPython.core.display.Javascript object>"
      ]
     },
     "metadata": {},
     "output_type": "display_data"
    },
    {
     "data": {
      "application/javascript": [
       "\n",
       "        if (window._pyforest_update_imports_cell) { window._pyforest_update_imports_cell('from openpyxl import load_workbook\\nimport matplotlib as mpl\\nfrom sklearn.preprocessing import OneHotEncoder\\nimport matplotlib.pyplot as plt\\nfrom sklearn.ensemble import RandomForestClassifier\\nimport lightgbm as lgb\\nimport pandas as pd\\nfrom sklearn.ensemble import GradientBoostingClassifier\\nimport plotly.express as px\\nimport pickle\\nfrom sklearn.ensemble import GradientBoostingRegressor\\nfrom pathlib import Path\\nimport xgboost as xgb\\nimport seaborn as sns\\nfrom sklearn.ensemble import RandomForestRegressor\\nimport os\\nimport sklearn\\nimport plotly as py'); }\n",
       "    "
      ],
      "text/plain": [
       "<IPython.core.display.Javascript object>"
      ]
     },
     "metadata": {},
     "output_type": "display_data"
    },
    {
     "data": {
      "application/javascript": [
       "\n",
       "        if (window._pyforest_update_imports_cell) { window._pyforest_update_imports_cell('from openpyxl import load_workbook\\nimport matplotlib as mpl\\nfrom sklearn.preprocessing import OneHotEncoder\\nimport matplotlib.pyplot as plt\\nfrom sklearn.ensemble import RandomForestClassifier\\nimport lightgbm as lgb\\nimport pandas as pd\\nfrom sklearn.ensemble import GradientBoostingClassifier\\nimport plotly.express as px\\nimport pickle\\nfrom sklearn.ensemble import GradientBoostingRegressor\\nfrom pathlib import Path\\nimport xgboost as xgb\\nimport seaborn as sns\\nfrom sklearn.ensemble import RandomForestRegressor\\nimport os\\nimport sklearn\\nimport plotly as py'); }\n",
       "    "
      ],
      "text/plain": [
       "<IPython.core.display.Javascript object>"
      ]
     },
     "metadata": {},
     "output_type": "display_data"
    },
    {
     "data": {
      "application/javascript": [
       "\n",
       "        if (window._pyforest_update_imports_cell) { window._pyforest_update_imports_cell('from openpyxl import load_workbook\\nimport matplotlib as mpl\\nfrom sklearn.preprocessing import OneHotEncoder\\nimport matplotlib.pyplot as plt\\nfrom sklearn.ensemble import RandomForestClassifier\\nimport lightgbm as lgb\\nimport pandas as pd\\nfrom sklearn.ensemble import GradientBoostingClassifier\\nimport plotly.express as px\\nimport pickle\\nfrom sklearn.ensemble import GradientBoostingRegressor\\nfrom pathlib import Path\\nimport xgboost as xgb\\nimport seaborn as sns\\nfrom sklearn.ensemble import RandomForestRegressor\\nimport os\\nimport sklearn\\nimport plotly as py'); }\n",
       "    "
      ],
      "text/plain": [
       "<IPython.core.display.Javascript object>"
      ]
     },
     "metadata": {},
     "output_type": "display_data"
    },
    {
     "data": {
      "application/javascript": [
       "\n",
       "        if (window._pyforest_update_imports_cell) { window._pyforest_update_imports_cell('from openpyxl import load_workbook\\nimport matplotlib as mpl\\nfrom sklearn.preprocessing import OneHotEncoder\\nimport matplotlib.pyplot as plt\\nfrom sklearn.ensemble import RandomForestClassifier\\nimport lightgbm as lgb\\nimport pandas as pd\\nfrom sklearn.ensemble import GradientBoostingClassifier\\nimport plotly.express as px\\nimport pickle\\nfrom sklearn.ensemble import GradientBoostingRegressor\\nfrom pathlib import Path\\nimport xgboost as xgb\\nimport seaborn as sns\\nfrom sklearn.ensemble import RandomForestRegressor\\nimport os\\nimport sklearn\\nimport plotly as py'); }\n",
       "    "
      ],
      "text/plain": [
       "<IPython.core.display.Javascript object>"
      ]
     },
     "metadata": {},
     "output_type": "display_data"
    },
    {
     "data": {
      "application/javascript": [
       "\n",
       "        if (window._pyforest_update_imports_cell) { window._pyforest_update_imports_cell('from openpyxl import load_workbook\\nimport matplotlib as mpl\\nfrom sklearn.preprocessing import OneHotEncoder\\nimport matplotlib.pyplot as plt\\nfrom sklearn.ensemble import RandomForestClassifier\\nimport lightgbm as lgb\\nimport pandas as pd\\nfrom sklearn.ensemble import GradientBoostingClassifier\\nimport plotly.express as px\\nimport pickle\\nfrom sklearn.ensemble import GradientBoostingRegressor\\nfrom pathlib import Path\\nimport xgboost as xgb\\nimport seaborn as sns\\nfrom sklearn.ensemble import RandomForestRegressor\\nimport os\\nimport sklearn\\nimport plotly as py'); }\n",
       "    "
      ],
      "text/plain": [
       "<IPython.core.display.Javascript object>"
      ]
     },
     "metadata": {},
     "output_type": "display_data"
    },
    {
     "data": {
      "application/javascript": [
       "\n",
       "        if (window._pyforest_update_imports_cell) { window._pyforest_update_imports_cell('from openpyxl import load_workbook\\nimport matplotlib as mpl\\nfrom sklearn.preprocessing import OneHotEncoder\\nimport matplotlib.pyplot as plt\\nfrom sklearn.ensemble import RandomForestClassifier\\nimport lightgbm as lgb\\nimport pandas as pd\\nfrom sklearn.ensemble import GradientBoostingClassifier\\nimport plotly.express as px\\nimport pickle\\nfrom sklearn.ensemble import GradientBoostingRegressor\\nfrom pathlib import Path\\nimport xgboost as xgb\\nimport seaborn as sns\\nfrom sklearn.ensemble import RandomForestRegressor\\nimport os\\nimport sklearn\\nimport plotly as py'); }\n",
       "    "
      ],
      "text/plain": [
       "<IPython.core.display.Javascript object>"
      ]
     },
     "metadata": {},
     "output_type": "display_data"
    },
    {
     "data": {
      "application/javascript": [
       "\n",
       "        if (window._pyforest_update_imports_cell) { window._pyforest_update_imports_cell('from openpyxl import load_workbook\\nimport matplotlib as mpl\\nfrom sklearn.preprocessing import OneHotEncoder\\nimport matplotlib.pyplot as plt\\nfrom sklearn.ensemble import RandomForestClassifier\\nimport lightgbm as lgb\\nimport pandas as pd\\nfrom sklearn.ensemble import GradientBoostingClassifier\\nimport plotly.express as px\\nimport pickle\\nfrom sklearn.ensemble import GradientBoostingRegressor\\nfrom pathlib import Path\\nimport xgboost as xgb\\nimport seaborn as sns\\nfrom sklearn.ensemble import RandomForestRegressor\\nimport os\\nimport sklearn\\nimport plotly as py'); }\n",
       "    "
      ],
      "text/plain": [
       "<IPython.core.display.Javascript object>"
      ]
     },
     "metadata": {},
     "output_type": "display_data"
    },
    {
     "data": {
      "application/javascript": [
       "\n",
       "        if (window._pyforest_update_imports_cell) { window._pyforest_update_imports_cell('from openpyxl import load_workbook\\nimport matplotlib as mpl\\nfrom sklearn.preprocessing import OneHotEncoder\\nimport matplotlib.pyplot as plt\\nfrom sklearn.ensemble import RandomForestClassifier\\nimport lightgbm as lgb\\nimport pandas as pd\\nfrom sklearn.ensemble import GradientBoostingClassifier\\nimport plotly.express as px\\nimport pickle\\nfrom sklearn.ensemble import GradientBoostingRegressor\\nfrom pathlib import Path\\nimport xgboost as xgb\\nimport seaborn as sns\\nfrom sklearn.ensemble import RandomForestRegressor\\nimport os\\nimport sklearn\\nimport plotly as py'); }\n",
       "    "
      ],
      "text/plain": [
       "<IPython.core.display.Javascript object>"
      ]
     },
     "metadata": {},
     "output_type": "display_data"
    },
    {
     "data": {
      "application/javascript": [
       "\n",
       "        if (window._pyforest_update_imports_cell) { window._pyforest_update_imports_cell('from openpyxl import load_workbook\\nimport matplotlib as mpl\\nfrom sklearn.preprocessing import OneHotEncoder\\nimport matplotlib.pyplot as plt\\nfrom sklearn.ensemble import RandomForestClassifier\\nimport lightgbm as lgb\\nimport pandas as pd\\nfrom sklearn.ensemble import GradientBoostingClassifier\\nimport plotly.express as px\\nimport pickle\\nfrom sklearn.ensemble import GradientBoostingRegressor\\nfrom pathlib import Path\\nimport xgboost as xgb\\nimport seaborn as sns\\nfrom sklearn.ensemble import RandomForestRegressor\\nimport os\\nimport sklearn\\nimport plotly as py'); }\n",
       "    "
      ],
      "text/plain": [
       "<IPython.core.display.Javascript object>"
      ]
     },
     "metadata": {},
     "output_type": "display_data"
    },
    {
     "data": {
      "application/javascript": [
       "\n",
       "        if (window._pyforest_update_imports_cell) { window._pyforest_update_imports_cell('from openpyxl import load_workbook\\nimport matplotlib as mpl\\nfrom sklearn.preprocessing import OneHotEncoder\\nimport matplotlib.pyplot as plt\\nfrom sklearn.ensemble import RandomForestClassifier\\nimport lightgbm as lgb\\nimport pandas as pd\\nfrom sklearn.ensemble import GradientBoostingClassifier\\nimport plotly.express as px\\nimport pickle\\nfrom sklearn.ensemble import GradientBoostingRegressor\\nfrom pathlib import Path\\nimport xgboost as xgb\\nimport seaborn as sns\\nfrom sklearn.ensemble import RandomForestRegressor\\nimport os\\nimport sklearn\\nimport plotly as py'); }\n",
       "    "
      ],
      "text/plain": [
       "<IPython.core.display.Javascript object>"
      ]
     },
     "metadata": {},
     "output_type": "display_data"
    },
    {
     "data": {
      "application/javascript": [
       "\n",
       "        if (window._pyforest_update_imports_cell) { window._pyforest_update_imports_cell('from openpyxl import load_workbook\\nimport matplotlib as mpl\\nfrom sklearn.preprocessing import OneHotEncoder\\nimport matplotlib.pyplot as plt\\nfrom sklearn.ensemble import RandomForestClassifier\\nimport lightgbm as lgb\\nimport pandas as pd\\nfrom sklearn.ensemble import GradientBoostingClassifier\\nimport plotly.express as px\\nimport pickle\\nfrom sklearn.ensemble import GradientBoostingRegressor\\nfrom pathlib import Path\\nimport xgboost as xgb\\nimport seaborn as sns\\nfrom sklearn.ensemble import RandomForestRegressor\\nimport os\\nimport sklearn\\nimport plotly as py'); }\n",
       "    "
      ],
      "text/plain": [
       "<IPython.core.display.Javascript object>"
      ]
     },
     "metadata": {},
     "output_type": "display_data"
    },
    {
     "data": {
      "application/javascript": [
       "\n",
       "        if (window._pyforest_update_imports_cell) { window._pyforest_update_imports_cell('from openpyxl import load_workbook\\nimport matplotlib as mpl\\nfrom sklearn.preprocessing import OneHotEncoder\\nimport matplotlib.pyplot as plt\\nfrom sklearn.ensemble import RandomForestClassifier\\nimport lightgbm as lgb\\nimport pandas as pd\\nfrom sklearn.ensemble import GradientBoostingClassifier\\nimport plotly.express as px\\nimport pickle\\nfrom sklearn.ensemble import GradientBoostingRegressor\\nfrom pathlib import Path\\nimport xgboost as xgb\\nimport seaborn as sns\\nfrom sklearn.ensemble import RandomForestRegressor\\nimport os\\nimport sklearn\\nimport plotly as py'); }\n",
       "    "
      ],
      "text/plain": [
       "<IPython.core.display.Javascript object>"
      ]
     },
     "metadata": {},
     "output_type": "display_data"
    },
    {
     "data": {
      "application/javascript": [
       "\n",
       "        if (window._pyforest_update_imports_cell) { window._pyforest_update_imports_cell('from openpyxl import load_workbook\\nimport matplotlib as mpl\\nfrom sklearn.preprocessing import OneHotEncoder\\nimport matplotlib.pyplot as plt\\nfrom sklearn.ensemble import RandomForestClassifier\\nimport lightgbm as lgb\\nimport pandas as pd\\nfrom sklearn.ensemble import GradientBoostingClassifier\\nimport plotly.express as px\\nimport pickle\\nfrom sklearn.ensemble import GradientBoostingRegressor\\nfrom pathlib import Path\\nimport xgboost as xgb\\nimport seaborn as sns\\nfrom sklearn.ensemble import RandomForestRegressor\\nimport os\\nimport sklearn\\nimport plotly as py'); }\n",
       "    "
      ],
      "text/plain": [
       "<IPython.core.display.Javascript object>"
      ]
     },
     "metadata": {},
     "output_type": "display_data"
    },
    {
     "data": {
      "application/javascript": [
       "\n",
       "        if (window._pyforest_update_imports_cell) { window._pyforest_update_imports_cell('from openpyxl import load_workbook\\nimport matplotlib as mpl\\nfrom sklearn.preprocessing import OneHotEncoder\\nimport matplotlib.pyplot as plt\\nfrom sklearn.ensemble import RandomForestClassifier\\nimport lightgbm as lgb\\nimport pandas as pd\\nfrom sklearn.ensemble import GradientBoostingClassifier\\nimport plotly.express as px\\nimport pickle\\nfrom sklearn.ensemble import GradientBoostingRegressor\\nfrom pathlib import Path\\nimport xgboost as xgb\\nimport seaborn as sns\\nfrom sklearn.ensemble import RandomForestRegressor\\nimport os\\nimport sklearn\\nimport plotly as py'); }\n",
       "    "
      ],
      "text/plain": [
       "<IPython.core.display.Javascript object>"
      ]
     },
     "metadata": {},
     "output_type": "display_data"
    },
    {
     "data": {
      "application/javascript": [
       "\n",
       "        if (window._pyforest_update_imports_cell) { window._pyforest_update_imports_cell('from openpyxl import load_workbook\\nimport matplotlib as mpl\\nfrom sklearn.preprocessing import OneHotEncoder\\nimport matplotlib.pyplot as plt\\nfrom sklearn.ensemble import RandomForestClassifier\\nimport lightgbm as lgb\\nimport pandas as pd\\nfrom sklearn.ensemble import GradientBoostingClassifier\\nimport plotly.express as px\\nimport pickle\\nfrom sklearn.ensemble import GradientBoostingRegressor\\nfrom pathlib import Path\\nimport xgboost as xgb\\nimport seaborn as sns\\nfrom sklearn.ensemble import RandomForestRegressor\\nimport os\\nimport sklearn\\nimport plotly as py'); }\n",
       "    "
      ],
      "text/plain": [
       "<IPython.core.display.Javascript object>"
      ]
     },
     "metadata": {},
     "output_type": "display_data"
    },
    {
     "data": {
      "application/javascript": [
       "\n",
       "        if (window._pyforest_update_imports_cell) { window._pyforest_update_imports_cell('from openpyxl import load_workbook\\nimport matplotlib as mpl\\nfrom sklearn.preprocessing import OneHotEncoder\\nimport matplotlib.pyplot as plt\\nfrom sklearn.ensemble import RandomForestClassifier\\nimport lightgbm as lgb\\nimport pandas as pd\\nfrom sklearn.ensemble import GradientBoostingClassifier\\nimport plotly.express as px\\nimport pickle\\nfrom sklearn.ensemble import GradientBoostingRegressor\\nfrom pathlib import Path\\nimport xgboost as xgb\\nimport seaborn as sns\\nfrom sklearn.ensemble import RandomForestRegressor\\nimport os\\nimport sklearn\\nimport plotly as py'); }\n",
       "    "
      ],
      "text/plain": [
       "<IPython.core.display.Javascript object>"
      ]
     },
     "metadata": {},
     "output_type": "display_data"
    },
    {
     "data": {
      "application/javascript": [
       "\n",
       "        if (window._pyforest_update_imports_cell) { window._pyforest_update_imports_cell('from openpyxl import load_workbook\\nimport matplotlib as mpl\\nfrom sklearn.preprocessing import OneHotEncoder\\nimport matplotlib.pyplot as plt\\nfrom sklearn.ensemble import RandomForestClassifier\\nimport lightgbm as lgb\\nimport pandas as pd\\nfrom sklearn.ensemble import GradientBoostingClassifier\\nimport plotly.express as px\\nimport pickle\\nfrom sklearn.ensemble import GradientBoostingRegressor\\nfrom pathlib import Path\\nimport xgboost as xgb\\nimport seaborn as sns\\nfrom sklearn.ensemble import RandomForestRegressor\\nimport os\\nimport sklearn\\nimport plotly as py'); }\n",
       "    "
      ],
      "text/plain": [
       "<IPython.core.display.Javascript object>"
      ]
     },
     "metadata": {},
     "output_type": "display_data"
    },
    {
     "data": {
      "application/javascript": [
       "\n",
       "        if (window._pyforest_update_imports_cell) { window._pyforest_update_imports_cell('from openpyxl import load_workbook\\nimport matplotlib as mpl\\nfrom sklearn.preprocessing import OneHotEncoder\\nimport matplotlib.pyplot as plt\\nfrom sklearn.ensemble import RandomForestClassifier\\nimport lightgbm as lgb\\nimport pandas as pd\\nfrom sklearn.ensemble import GradientBoostingClassifier\\nimport plotly.express as px\\nimport pickle\\nfrom sklearn.ensemble import GradientBoostingRegressor\\nfrom pathlib import Path\\nimport xgboost as xgb\\nimport seaborn as sns\\nfrom sklearn.ensemble import RandomForestRegressor\\nimport os\\nimport sklearn\\nimport plotly as py'); }\n",
       "    "
      ],
      "text/plain": [
       "<IPython.core.display.Javascript object>"
      ]
     },
     "metadata": {},
     "output_type": "display_data"
    },
    {
     "data": {
      "application/javascript": [
       "\n",
       "        if (window._pyforest_update_imports_cell) { window._pyforest_update_imports_cell('from openpyxl import load_workbook\\nimport matplotlib as mpl\\nfrom sklearn.preprocessing import OneHotEncoder\\nimport matplotlib.pyplot as plt\\nfrom sklearn.ensemble import RandomForestClassifier\\nimport lightgbm as lgb\\nimport pandas as pd\\nfrom sklearn.ensemble import GradientBoostingClassifier\\nimport plotly.express as px\\nimport pickle\\nfrom sklearn.ensemble import GradientBoostingRegressor\\nfrom pathlib import Path\\nimport xgboost as xgb\\nimport seaborn as sns\\nfrom sklearn.ensemble import RandomForestRegressor\\nimport os\\nimport sklearn\\nimport plotly as py'); }\n",
       "    "
      ],
      "text/plain": [
       "<IPython.core.display.Javascript object>"
      ]
     },
     "metadata": {},
     "output_type": "display_data"
    },
    {
     "data": {
      "application/javascript": [
       "\n",
       "        if (window._pyforest_update_imports_cell) { window._pyforest_update_imports_cell('from openpyxl import load_workbook\\nimport matplotlib as mpl\\nfrom sklearn.preprocessing import OneHotEncoder\\nimport matplotlib.pyplot as plt\\nfrom sklearn.ensemble import RandomForestClassifier\\nimport lightgbm as lgb\\nimport pandas as pd\\nfrom sklearn.ensemble import GradientBoostingClassifier\\nimport plotly.express as px\\nimport pickle\\nfrom sklearn.ensemble import GradientBoostingRegressor\\nfrom pathlib import Path\\nimport xgboost as xgb\\nimport seaborn as sns\\nfrom sklearn.ensemble import RandomForestRegressor\\nimport os\\nimport sklearn\\nimport plotly as py'); }\n",
       "    "
      ],
      "text/plain": [
       "<IPython.core.display.Javascript object>"
      ]
     },
     "metadata": {},
     "output_type": "display_data"
    },
    {
     "data": {
      "application/javascript": [
       "\n",
       "        if (window._pyforest_update_imports_cell) { window._pyforest_update_imports_cell('from openpyxl import load_workbook\\nimport matplotlib as mpl\\nfrom sklearn.preprocessing import OneHotEncoder\\nimport matplotlib.pyplot as plt\\nfrom sklearn.ensemble import RandomForestClassifier\\nimport lightgbm as lgb\\nimport pandas as pd\\nfrom sklearn.ensemble import GradientBoostingClassifier\\nimport plotly.express as px\\nimport pickle\\nfrom sklearn.ensemble import GradientBoostingRegressor\\nfrom pathlib import Path\\nimport xgboost as xgb\\nimport seaborn as sns\\nfrom sklearn.ensemble import RandomForestRegressor\\nimport os\\nimport sklearn\\nimport plotly as py'); }\n",
       "    "
      ],
      "text/plain": [
       "<IPython.core.display.Javascript object>"
      ]
     },
     "metadata": {},
     "output_type": "display_data"
    },
    {
     "data": {
      "application/javascript": [
       "\n",
       "        if (window._pyforest_update_imports_cell) { window._pyforest_update_imports_cell('from openpyxl import load_workbook\\nimport matplotlib as mpl\\nfrom sklearn.preprocessing import OneHotEncoder\\nimport matplotlib.pyplot as plt\\nfrom sklearn.ensemble import RandomForestClassifier\\nimport lightgbm as lgb\\nimport pandas as pd\\nfrom sklearn.ensemble import GradientBoostingClassifier\\nimport plotly.express as px\\nimport pickle\\nfrom sklearn.ensemble import GradientBoostingRegressor\\nfrom pathlib import Path\\nimport xgboost as xgb\\nimport seaborn as sns\\nfrom sklearn.ensemble import RandomForestRegressor\\nimport os\\nimport sklearn\\nimport plotly as py'); }\n",
       "    "
      ],
      "text/plain": [
       "<IPython.core.display.Javascript object>"
      ]
     },
     "metadata": {},
     "output_type": "display_data"
    },
    {
     "data": {
      "application/javascript": [
       "\n",
       "        if (window._pyforest_update_imports_cell) { window._pyforest_update_imports_cell('from openpyxl import load_workbook\\nimport matplotlib as mpl\\nfrom sklearn.preprocessing import OneHotEncoder\\nimport matplotlib.pyplot as plt\\nfrom sklearn.ensemble import RandomForestClassifier\\nimport lightgbm as lgb\\nimport pandas as pd\\nfrom sklearn.ensemble import GradientBoostingClassifier\\nimport plotly.express as px\\nimport pickle\\nfrom sklearn.ensemble import GradientBoostingRegressor\\nfrom pathlib import Path\\nimport xgboost as xgb\\nimport seaborn as sns\\nfrom sklearn.ensemble import RandomForestRegressor\\nimport os\\nimport sklearn\\nimport plotly as py'); }\n",
       "    "
      ],
      "text/plain": [
       "<IPython.core.display.Javascript object>"
      ]
     },
     "metadata": {},
     "output_type": "display_data"
    },
    {
     "data": {
      "application/javascript": [
       "\n",
       "        if (window._pyforest_update_imports_cell) { window._pyforest_update_imports_cell('from openpyxl import load_workbook\\nimport matplotlib as mpl\\nfrom sklearn.preprocessing import OneHotEncoder\\nimport matplotlib.pyplot as plt\\nfrom sklearn.ensemble import RandomForestClassifier\\nimport lightgbm as lgb\\nimport pandas as pd\\nfrom sklearn.ensemble import GradientBoostingClassifier\\nimport plotly.express as px\\nimport pickle\\nfrom sklearn.ensemble import GradientBoostingRegressor\\nfrom pathlib import Path\\nimport xgboost as xgb\\nimport seaborn as sns\\nfrom sklearn.ensemble import RandomForestRegressor\\nimport os\\nimport sklearn\\nimport plotly as py'); }\n",
       "    "
      ],
      "text/plain": [
       "<IPython.core.display.Javascript object>"
      ]
     },
     "metadata": {},
     "output_type": "display_data"
    },
    {
     "data": {
      "application/javascript": [
       "\n",
       "        if (window._pyforest_update_imports_cell) { window._pyforest_update_imports_cell('from openpyxl import load_workbook\\nimport matplotlib as mpl\\nfrom sklearn.preprocessing import OneHotEncoder\\nimport matplotlib.pyplot as plt\\nfrom sklearn.ensemble import RandomForestClassifier\\nimport lightgbm as lgb\\nimport pandas as pd\\nfrom sklearn.ensemble import GradientBoostingClassifier\\nimport plotly.express as px\\nimport pickle\\nfrom sklearn.ensemble import GradientBoostingRegressor\\nfrom pathlib import Path\\nimport xgboost as xgb\\nimport seaborn as sns\\nfrom sklearn.ensemble import RandomForestRegressor\\nimport os\\nimport sklearn\\nimport plotly as py'); }\n",
       "    "
      ],
      "text/plain": [
       "<IPython.core.display.Javascript object>"
      ]
     },
     "metadata": {},
     "output_type": "display_data"
    },
    {
     "data": {
      "application/javascript": [
       "\n",
       "        if (window._pyforest_update_imports_cell) { window._pyforest_update_imports_cell('from openpyxl import load_workbook\\nimport matplotlib as mpl\\nfrom sklearn.preprocessing import OneHotEncoder\\nimport matplotlib.pyplot as plt\\nfrom sklearn.ensemble import RandomForestClassifier\\nimport lightgbm as lgb\\nimport pandas as pd\\nfrom sklearn.ensemble import GradientBoostingClassifier\\nimport plotly.express as px\\nimport pickle\\nfrom sklearn.ensemble import GradientBoostingRegressor\\nfrom pathlib import Path\\nimport xgboost as xgb\\nimport seaborn as sns\\nfrom sklearn.ensemble import RandomForestRegressor\\nimport os\\nimport sklearn\\nimport plotly as py'); }\n",
       "    "
      ],
      "text/plain": [
       "<IPython.core.display.Javascript object>"
      ]
     },
     "metadata": {},
     "output_type": "display_data"
    },
    {
     "data": {
      "application/javascript": [
       "\n",
       "        if (window._pyforest_update_imports_cell) { window._pyforest_update_imports_cell('from openpyxl import load_workbook\\nimport matplotlib as mpl\\nfrom sklearn.preprocessing import OneHotEncoder\\nimport matplotlib.pyplot as plt\\nfrom sklearn.ensemble import RandomForestClassifier\\nimport lightgbm as lgb\\nimport pandas as pd\\nfrom sklearn.ensemble import GradientBoostingClassifier\\nimport plotly.express as px\\nimport pickle\\nfrom sklearn.ensemble import GradientBoostingRegressor\\nfrom pathlib import Path\\nimport xgboost as xgb\\nimport seaborn as sns\\nfrom sklearn.ensemble import RandomForestRegressor\\nimport os\\nimport sklearn\\nimport plotly as py'); }\n",
       "    "
      ],
      "text/plain": [
       "<IPython.core.display.Javascript object>"
      ]
     },
     "metadata": {},
     "output_type": "display_data"
    },
    {
     "data": {
      "application/javascript": [
       "\n",
       "        if (window._pyforest_update_imports_cell) { window._pyforest_update_imports_cell('from openpyxl import load_workbook\\nimport matplotlib as mpl\\nfrom sklearn.preprocessing import OneHotEncoder\\nimport matplotlib.pyplot as plt\\nfrom sklearn.ensemble import RandomForestClassifier\\nimport lightgbm as lgb\\nimport pandas as pd\\nfrom sklearn.ensemble import GradientBoostingClassifier\\nimport plotly.express as px\\nimport pickle\\nfrom sklearn.ensemble import GradientBoostingRegressor\\nfrom pathlib import Path\\nimport xgboost as xgb\\nimport seaborn as sns\\nfrom sklearn.ensemble import RandomForestRegressor\\nimport os\\nimport sklearn\\nimport plotly as py'); }\n",
       "    "
      ],
      "text/plain": [
       "<IPython.core.display.Javascript object>"
      ]
     },
     "metadata": {},
     "output_type": "display_data"
    },
    {
     "data": {
      "application/javascript": [
       "\n",
       "        if (window._pyforest_update_imports_cell) { window._pyforest_update_imports_cell('from openpyxl import load_workbook\\nimport matplotlib as mpl\\nfrom sklearn.preprocessing import OneHotEncoder\\nimport matplotlib.pyplot as plt\\nfrom sklearn.ensemble import RandomForestClassifier\\nimport lightgbm as lgb\\nimport pandas as pd\\nfrom sklearn.ensemble import GradientBoostingClassifier\\nimport plotly.express as px\\nimport pickle\\nfrom sklearn.ensemble import GradientBoostingRegressor\\nfrom pathlib import Path\\nimport xgboost as xgb\\nimport seaborn as sns\\nfrom sklearn.ensemble import RandomForestRegressor\\nimport os\\nimport sklearn\\nimport plotly as py'); }\n",
       "    "
      ],
      "text/plain": [
       "<IPython.core.display.Javascript object>"
      ]
     },
     "metadata": {},
     "output_type": "display_data"
    },
    {
     "data": {
      "application/javascript": [
       "\n",
       "        if (window._pyforest_update_imports_cell) { window._pyforest_update_imports_cell('from openpyxl import load_workbook\\nimport matplotlib as mpl\\nfrom sklearn.preprocessing import OneHotEncoder\\nimport matplotlib.pyplot as plt\\nfrom sklearn.ensemble import RandomForestClassifier\\nimport lightgbm as lgb\\nimport pandas as pd\\nfrom sklearn.ensemble import GradientBoostingClassifier\\nimport plotly.express as px\\nimport pickle\\nfrom sklearn.ensemble import GradientBoostingRegressor\\nfrom pathlib import Path\\nimport xgboost as xgb\\nimport seaborn as sns\\nfrom sklearn.ensemble import RandomForestRegressor\\nimport os\\nimport sklearn\\nimport plotly as py'); }\n",
       "    "
      ],
      "text/plain": [
       "<IPython.core.display.Javascript object>"
      ]
     },
     "metadata": {},
     "output_type": "display_data"
    },
    {
     "data": {
      "application/javascript": [
       "\n",
       "        if (window._pyforest_update_imports_cell) { window._pyforest_update_imports_cell('from openpyxl import load_workbook\\nimport matplotlib as mpl\\nfrom sklearn.preprocessing import OneHotEncoder\\nimport matplotlib.pyplot as plt\\nfrom sklearn.ensemble import RandomForestClassifier\\nimport lightgbm as lgb\\nimport pandas as pd\\nfrom sklearn.ensemble import GradientBoostingClassifier\\nimport plotly.express as px\\nimport pickle\\nfrom sklearn.ensemble import GradientBoostingRegressor\\nfrom pathlib import Path\\nimport xgboost as xgb\\nimport seaborn as sns\\nfrom sklearn.ensemble import RandomForestRegressor\\nimport os\\nimport sklearn\\nimport plotly as py'); }\n",
       "    "
      ],
      "text/plain": [
       "<IPython.core.display.Javascript object>"
      ]
     },
     "metadata": {},
     "output_type": "display_data"
    },
    {
     "data": {
      "application/javascript": [
       "\n",
       "        if (window._pyforest_update_imports_cell) { window._pyforest_update_imports_cell('from openpyxl import load_workbook\\nimport matplotlib as mpl\\nfrom sklearn.preprocessing import OneHotEncoder\\nimport matplotlib.pyplot as plt\\nfrom sklearn.ensemble import RandomForestClassifier\\nimport lightgbm as lgb\\nimport pandas as pd\\nfrom sklearn.ensemble import GradientBoostingClassifier\\nimport plotly.express as px\\nimport pickle\\nfrom sklearn.ensemble import GradientBoostingRegressor\\nfrom pathlib import Path\\nimport xgboost as xgb\\nimport seaborn as sns\\nfrom sklearn.ensemble import RandomForestRegressor\\nimport os\\nimport sklearn\\nimport plotly as py'); }\n",
       "    "
      ],
      "text/plain": [
       "<IPython.core.display.Javascript object>"
      ]
     },
     "metadata": {},
     "output_type": "display_data"
    },
    {
     "data": {
      "application/javascript": [
       "\n",
       "        if (window._pyforest_update_imports_cell) { window._pyforest_update_imports_cell('from openpyxl import load_workbook\\nimport matplotlib as mpl\\nfrom sklearn.preprocessing import OneHotEncoder\\nimport matplotlib.pyplot as plt\\nfrom sklearn.ensemble import RandomForestClassifier\\nimport lightgbm as lgb\\nimport pandas as pd\\nfrom sklearn.ensemble import GradientBoostingClassifier\\nimport plotly.express as px\\nimport pickle\\nfrom sklearn.ensemble import GradientBoostingRegressor\\nfrom pathlib import Path\\nimport xgboost as xgb\\nimport seaborn as sns\\nfrom sklearn.ensemble import RandomForestRegressor\\nimport os\\nimport sklearn\\nimport plotly as py'); }\n",
       "    "
      ],
      "text/plain": [
       "<IPython.core.display.Javascript object>"
      ]
     },
     "metadata": {},
     "output_type": "display_data"
    },
    {
     "data": {
      "application/javascript": [
       "\n",
       "        if (window._pyforest_update_imports_cell) { window._pyforest_update_imports_cell('from openpyxl import load_workbook\\nimport matplotlib as mpl\\nfrom sklearn.preprocessing import OneHotEncoder\\nimport matplotlib.pyplot as plt\\nfrom sklearn.ensemble import RandomForestClassifier\\nimport lightgbm as lgb\\nimport pandas as pd\\nfrom sklearn.ensemble import GradientBoostingClassifier\\nimport plotly.express as px\\nimport pickle\\nfrom sklearn.ensemble import GradientBoostingRegressor\\nfrom pathlib import Path\\nimport xgboost as xgb\\nimport seaborn as sns\\nfrom sklearn.ensemble import RandomForestRegressor\\nimport os\\nimport sklearn\\nimport plotly as py'); }\n",
       "    "
      ],
      "text/plain": [
       "<IPython.core.display.Javascript object>"
      ]
     },
     "metadata": {},
     "output_type": "display_data"
    },
    {
     "data": {
      "application/javascript": [
       "\n",
       "        if (window._pyforest_update_imports_cell) { window._pyforest_update_imports_cell('from openpyxl import load_workbook\\nimport matplotlib as mpl\\nfrom sklearn.preprocessing import OneHotEncoder\\nimport matplotlib.pyplot as plt\\nfrom sklearn.ensemble import RandomForestClassifier\\nimport lightgbm as lgb\\nimport pandas as pd\\nfrom sklearn.ensemble import GradientBoostingClassifier\\nimport plotly.express as px\\nimport pickle\\nfrom sklearn.ensemble import GradientBoostingRegressor\\nfrom pathlib import Path\\nimport xgboost as xgb\\nimport seaborn as sns\\nfrom sklearn.ensemble import RandomForestRegressor\\nimport os\\nimport sklearn\\nimport plotly as py'); }\n",
       "    "
      ],
      "text/plain": [
       "<IPython.core.display.Javascript object>"
      ]
     },
     "metadata": {},
     "output_type": "display_data"
    },
    {
     "data": {
      "application/javascript": [
       "\n",
       "        if (window._pyforest_update_imports_cell) { window._pyforest_update_imports_cell('from openpyxl import load_workbook\\nimport matplotlib as mpl\\nfrom sklearn.preprocessing import OneHotEncoder\\nimport matplotlib.pyplot as plt\\nfrom sklearn.ensemble import RandomForestClassifier\\nimport lightgbm as lgb\\nimport pandas as pd\\nfrom sklearn.ensemble import GradientBoostingClassifier\\nimport plotly.express as px\\nimport pickle\\nfrom sklearn.ensemble import GradientBoostingRegressor\\nfrom pathlib import Path\\nimport xgboost as xgb\\nimport seaborn as sns\\nfrom sklearn.ensemble import RandomForestRegressor\\nimport os\\nimport sklearn\\nimport plotly as py'); }\n",
       "    "
      ],
      "text/plain": [
       "<IPython.core.display.Javascript object>"
      ]
     },
     "metadata": {},
     "output_type": "display_data"
    },
    {
     "data": {
      "application/javascript": [
       "\n",
       "        if (window._pyforest_update_imports_cell) { window._pyforest_update_imports_cell('from openpyxl import load_workbook\\nimport matplotlib as mpl\\nfrom sklearn.preprocessing import OneHotEncoder\\nimport matplotlib.pyplot as plt\\nfrom sklearn.ensemble import RandomForestClassifier\\nimport lightgbm as lgb\\nimport pandas as pd\\nfrom sklearn.ensemble import GradientBoostingClassifier\\nimport plotly.express as px\\nimport pickle\\nfrom sklearn.ensemble import GradientBoostingRegressor\\nfrom pathlib import Path\\nimport xgboost as xgb\\nimport seaborn as sns\\nfrom sklearn.ensemble import RandomForestRegressor\\nimport os\\nimport sklearn\\nimport plotly as py'); }\n",
       "    "
      ],
      "text/plain": [
       "<IPython.core.display.Javascript object>"
      ]
     },
     "metadata": {},
     "output_type": "display_data"
    },
    {
     "data": {
      "application/javascript": [
       "\n",
       "        if (window._pyforest_update_imports_cell) { window._pyforest_update_imports_cell('from openpyxl import load_workbook\\nimport matplotlib as mpl\\nfrom sklearn.preprocessing import OneHotEncoder\\nimport matplotlib.pyplot as plt\\nfrom sklearn.ensemble import RandomForestClassifier\\nimport lightgbm as lgb\\nimport pandas as pd\\nfrom sklearn.ensemble import GradientBoostingClassifier\\nimport plotly.express as px\\nimport pickle\\nfrom sklearn.ensemble import GradientBoostingRegressor\\nfrom pathlib import Path\\nimport xgboost as xgb\\nimport seaborn as sns\\nfrom sklearn.ensemble import RandomForestRegressor\\nimport os\\nimport sklearn\\nimport plotly as py'); }\n",
       "    "
      ],
      "text/plain": [
       "<IPython.core.display.Javascript object>"
      ]
     },
     "metadata": {},
     "output_type": "display_data"
    },
    {
     "data": {
      "application/javascript": [
       "\n",
       "        if (window._pyforest_update_imports_cell) { window._pyforest_update_imports_cell('from openpyxl import load_workbook\\nimport matplotlib as mpl\\nfrom sklearn.preprocessing import OneHotEncoder\\nimport matplotlib.pyplot as plt\\nfrom sklearn.ensemble import RandomForestClassifier\\nimport lightgbm as lgb\\nimport pandas as pd\\nfrom sklearn.ensemble import GradientBoostingClassifier\\nimport plotly.express as px\\nimport pickle\\nfrom sklearn.ensemble import GradientBoostingRegressor\\nfrom pathlib import Path\\nimport xgboost as xgb\\nimport seaborn as sns\\nfrom sklearn.ensemble import RandomForestRegressor\\nimport os\\nimport sklearn\\nimport plotly as py'); }\n",
       "    "
      ],
      "text/plain": [
       "<IPython.core.display.Javascript object>"
      ]
     },
     "metadata": {},
     "output_type": "display_data"
    },
    {
     "data": {
      "application/javascript": [
       "\n",
       "        if (window._pyforest_update_imports_cell) { window._pyforest_update_imports_cell('from openpyxl import load_workbook\\nimport matplotlib as mpl\\nfrom sklearn.preprocessing import OneHotEncoder\\nimport matplotlib.pyplot as plt\\nfrom sklearn.ensemble import RandomForestClassifier\\nimport lightgbm as lgb\\nimport pandas as pd\\nfrom sklearn.ensemble import GradientBoostingClassifier\\nimport plotly.express as px\\nimport pickle\\nfrom sklearn.ensemble import GradientBoostingRegressor\\nfrom pathlib import Path\\nimport xgboost as xgb\\nimport seaborn as sns\\nfrom sklearn.ensemble import RandomForestRegressor\\nimport os\\nimport sklearn\\nimport plotly as py'); }\n",
       "    "
      ],
      "text/plain": [
       "<IPython.core.display.Javascript object>"
      ]
     },
     "metadata": {},
     "output_type": "display_data"
    },
    {
     "data": {
      "application/javascript": [
       "\n",
       "        if (window._pyforest_update_imports_cell) { window._pyforest_update_imports_cell('from openpyxl import load_workbook\\nimport matplotlib as mpl\\nfrom sklearn.preprocessing import OneHotEncoder\\nimport matplotlib.pyplot as plt\\nfrom sklearn.ensemble import RandomForestClassifier\\nimport lightgbm as lgb\\nimport pandas as pd\\nfrom sklearn.ensemble import GradientBoostingClassifier\\nimport plotly.express as px\\nimport pickle\\nfrom sklearn.ensemble import GradientBoostingRegressor\\nfrom pathlib import Path\\nimport xgboost as xgb\\nimport seaborn as sns\\nfrom sklearn.ensemble import RandomForestRegressor\\nimport os\\nimport sklearn\\nimport plotly as py'); }\n",
       "    "
      ],
      "text/plain": [
       "<IPython.core.display.Javascript object>"
      ]
     },
     "metadata": {},
     "output_type": "display_data"
    },
    {
     "data": {
      "application/javascript": [
       "\n",
       "        if (window._pyforest_update_imports_cell) { window._pyforest_update_imports_cell('from openpyxl import load_workbook\\nimport matplotlib as mpl\\nfrom sklearn.preprocessing import OneHotEncoder\\nimport matplotlib.pyplot as plt\\nfrom sklearn.ensemble import RandomForestClassifier\\nimport lightgbm as lgb\\nimport pandas as pd\\nfrom sklearn.ensemble import GradientBoostingClassifier\\nimport plotly.express as px\\nimport pickle\\nfrom sklearn.ensemble import GradientBoostingRegressor\\nfrom pathlib import Path\\nimport xgboost as xgb\\nimport seaborn as sns\\nfrom sklearn.ensemble import RandomForestRegressor\\nimport os\\nimport sklearn\\nimport plotly as py'); }\n",
       "    "
      ],
      "text/plain": [
       "<IPython.core.display.Javascript object>"
      ]
     },
     "metadata": {},
     "output_type": "display_data"
    },
    {
     "data": {
      "application/javascript": [
       "\n",
       "        if (window._pyforest_update_imports_cell) { window._pyforest_update_imports_cell('from openpyxl import load_workbook\\nimport matplotlib as mpl\\nfrom sklearn.preprocessing import OneHotEncoder\\nimport matplotlib.pyplot as plt\\nfrom sklearn.ensemble import RandomForestClassifier\\nimport lightgbm as lgb\\nimport pandas as pd\\nfrom sklearn.ensemble import GradientBoostingClassifier\\nimport plotly.express as px\\nimport pickle\\nfrom sklearn.ensemble import GradientBoostingRegressor\\nfrom pathlib import Path\\nimport xgboost as xgb\\nimport seaborn as sns\\nfrom sklearn.ensemble import RandomForestRegressor\\nimport os\\nimport sklearn\\nimport plotly as py'); }\n",
       "    "
      ],
      "text/plain": [
       "<IPython.core.display.Javascript object>"
      ]
     },
     "metadata": {},
     "output_type": "display_data"
    },
    {
     "data": {
      "application/javascript": [
       "\n",
       "        if (window._pyforest_update_imports_cell) { window._pyforest_update_imports_cell('from openpyxl import load_workbook\\nimport matplotlib as mpl\\nfrom sklearn.preprocessing import OneHotEncoder\\nimport matplotlib.pyplot as plt\\nfrom sklearn.ensemble import RandomForestClassifier\\nimport lightgbm as lgb\\nimport pandas as pd\\nfrom sklearn.ensemble import GradientBoostingClassifier\\nimport plotly.express as px\\nimport pickle\\nfrom sklearn.ensemble import GradientBoostingRegressor\\nfrom pathlib import Path\\nimport xgboost as xgb\\nimport seaborn as sns\\nfrom sklearn.ensemble import RandomForestRegressor\\nimport os\\nimport sklearn\\nimport plotly as py'); }\n",
       "    "
      ],
      "text/plain": [
       "<IPython.core.display.Javascript object>"
      ]
     },
     "metadata": {},
     "output_type": "display_data"
    },
    {
     "data": {
      "application/javascript": [
       "\n",
       "        if (window._pyforest_update_imports_cell) { window._pyforest_update_imports_cell('from openpyxl import load_workbook\\nimport matplotlib as mpl\\nfrom sklearn.preprocessing import OneHotEncoder\\nimport matplotlib.pyplot as plt\\nfrom sklearn.ensemble import RandomForestClassifier\\nimport lightgbm as lgb\\nimport pandas as pd\\nfrom sklearn.ensemble import GradientBoostingClassifier\\nimport plotly.express as px\\nimport pickle\\nfrom sklearn.ensemble import GradientBoostingRegressor\\nfrom pathlib import Path\\nimport xgboost as xgb\\nimport seaborn as sns\\nfrom sklearn.ensemble import RandomForestRegressor\\nimport os\\nimport sklearn\\nimport plotly as py'); }\n",
       "    "
      ],
      "text/plain": [
       "<IPython.core.display.Javascript object>"
      ]
     },
     "metadata": {},
     "output_type": "display_data"
    },
    {
     "data": {
      "application/javascript": [
       "\n",
       "        if (window._pyforest_update_imports_cell) { window._pyforest_update_imports_cell('from openpyxl import load_workbook\\nimport matplotlib as mpl\\nfrom sklearn.preprocessing import OneHotEncoder\\nimport matplotlib.pyplot as plt\\nfrom sklearn.ensemble import RandomForestClassifier\\nimport lightgbm as lgb\\nimport pandas as pd\\nfrom sklearn.ensemble import GradientBoostingClassifier\\nimport plotly.express as px\\nimport pickle\\nfrom sklearn.ensemble import GradientBoostingRegressor\\nfrom pathlib import Path\\nimport xgboost as xgb\\nimport seaborn as sns\\nfrom sklearn.ensemble import RandomForestRegressor\\nimport os\\nimport sklearn\\nimport plotly as py'); }\n",
       "    "
      ],
      "text/plain": [
       "<IPython.core.display.Javascript object>"
      ]
     },
     "metadata": {},
     "output_type": "display_data"
    },
    {
     "data": {
      "application/javascript": [
       "\n",
       "        if (window._pyforest_update_imports_cell) { window._pyforest_update_imports_cell('from openpyxl import load_workbook\\nimport matplotlib as mpl\\nfrom sklearn.preprocessing import OneHotEncoder\\nimport matplotlib.pyplot as plt\\nfrom sklearn.ensemble import RandomForestClassifier\\nimport lightgbm as lgb\\nimport pandas as pd\\nfrom sklearn.ensemble import GradientBoostingClassifier\\nimport plotly.express as px\\nimport pickle\\nfrom sklearn.ensemble import GradientBoostingRegressor\\nfrom pathlib import Path\\nimport xgboost as xgb\\nimport seaborn as sns\\nfrom sklearn.ensemble import RandomForestRegressor\\nimport os\\nimport sklearn\\nimport plotly as py'); }\n",
       "    "
      ],
      "text/plain": [
       "<IPython.core.display.Javascript object>"
      ]
     },
     "metadata": {},
     "output_type": "display_data"
    },
    {
     "data": {
      "application/javascript": [
       "\n",
       "        if (window._pyforest_update_imports_cell) { window._pyforest_update_imports_cell('from openpyxl import load_workbook\\nimport matplotlib as mpl\\nfrom sklearn.preprocessing import OneHotEncoder\\nimport matplotlib.pyplot as plt\\nfrom sklearn.ensemble import RandomForestClassifier\\nimport lightgbm as lgb\\nimport pandas as pd\\nfrom sklearn.ensemble import GradientBoostingClassifier\\nimport plotly.express as px\\nimport pickle\\nfrom sklearn.ensemble import GradientBoostingRegressor\\nfrom pathlib import Path\\nimport xgboost as xgb\\nimport seaborn as sns\\nfrom sklearn.ensemble import RandomForestRegressor\\nimport os\\nimport sklearn\\nimport plotly as py'); }\n",
       "    "
      ],
      "text/plain": [
       "<IPython.core.display.Javascript object>"
      ]
     },
     "metadata": {},
     "output_type": "display_data"
    },
    {
     "data": {
      "application/javascript": [
       "\n",
       "        if (window._pyforest_update_imports_cell) { window._pyforest_update_imports_cell('from openpyxl import load_workbook\\nimport matplotlib as mpl\\nfrom sklearn.preprocessing import OneHotEncoder\\nimport matplotlib.pyplot as plt\\nfrom sklearn.ensemble import RandomForestClassifier\\nimport lightgbm as lgb\\nimport pandas as pd\\nfrom sklearn.ensemble import GradientBoostingClassifier\\nimport plotly.express as px\\nimport pickle\\nfrom sklearn.ensemble import GradientBoostingRegressor\\nfrom pathlib import Path\\nimport xgboost as xgb\\nimport seaborn as sns\\nfrom sklearn.ensemble import RandomForestRegressor\\nimport os\\nimport sklearn\\nimport plotly as py'); }\n",
       "    "
      ],
      "text/plain": [
       "<IPython.core.display.Javascript object>"
      ]
     },
     "metadata": {},
     "output_type": "display_data"
    },
    {
     "data": {
      "application/javascript": [
       "\n",
       "        if (window._pyforest_update_imports_cell) { window._pyforest_update_imports_cell('from openpyxl import load_workbook\\nimport matplotlib as mpl\\nfrom sklearn.preprocessing import OneHotEncoder\\nimport matplotlib.pyplot as plt\\nfrom sklearn.ensemble import RandomForestClassifier\\nimport lightgbm as lgb\\nimport pandas as pd\\nfrom sklearn.ensemble import GradientBoostingClassifier\\nimport plotly.express as px\\nimport pickle\\nfrom sklearn.ensemble import GradientBoostingRegressor\\nfrom pathlib import Path\\nimport xgboost as xgb\\nimport seaborn as sns\\nfrom sklearn.ensemble import RandomForestRegressor\\nimport os\\nimport sklearn\\nimport plotly as py'); }\n",
       "    "
      ],
      "text/plain": [
       "<IPython.core.display.Javascript object>"
      ]
     },
     "metadata": {},
     "output_type": "display_data"
    },
    {
     "data": {
      "application/javascript": [
       "\n",
       "        if (window._pyforest_update_imports_cell) { window._pyforest_update_imports_cell('from openpyxl import load_workbook\\nimport matplotlib as mpl\\nfrom sklearn.preprocessing import OneHotEncoder\\nimport matplotlib.pyplot as plt\\nfrom sklearn.ensemble import RandomForestClassifier\\nimport lightgbm as lgb\\nimport pandas as pd\\nfrom sklearn.ensemble import GradientBoostingClassifier\\nimport plotly.express as px\\nimport pickle\\nfrom sklearn.ensemble import GradientBoostingRegressor\\nfrom pathlib import Path\\nimport xgboost as xgb\\nimport seaborn as sns\\nfrom sklearn.ensemble import RandomForestRegressor\\nimport os\\nimport sklearn\\nimport plotly as py'); }\n",
       "    "
      ],
      "text/plain": [
       "<IPython.core.display.Javascript object>"
      ]
     },
     "metadata": {},
     "output_type": "display_data"
    },
    {
     "data": {
      "application/javascript": [
       "\n",
       "        if (window._pyforest_update_imports_cell) { window._pyforest_update_imports_cell('from openpyxl import load_workbook\\nimport matplotlib as mpl\\nfrom sklearn.preprocessing import OneHotEncoder\\nimport matplotlib.pyplot as plt\\nfrom sklearn.ensemble import RandomForestClassifier\\nimport lightgbm as lgb\\nimport pandas as pd\\nfrom sklearn.ensemble import GradientBoostingClassifier\\nimport plotly.express as px\\nimport pickle\\nfrom sklearn.ensemble import GradientBoostingRegressor\\nfrom pathlib import Path\\nimport xgboost as xgb\\nimport seaborn as sns\\nfrom sklearn.ensemble import RandomForestRegressor\\nimport os\\nimport sklearn\\nimport plotly as py'); }\n",
       "    "
      ],
      "text/plain": [
       "<IPython.core.display.Javascript object>"
      ]
     },
     "metadata": {},
     "output_type": "display_data"
    },
    {
     "data": {
      "application/javascript": [
       "\n",
       "        if (window._pyforest_update_imports_cell) { window._pyforest_update_imports_cell('from openpyxl import load_workbook\\nimport matplotlib as mpl\\nfrom sklearn.preprocessing import OneHotEncoder\\nimport matplotlib.pyplot as plt\\nfrom sklearn.ensemble import RandomForestClassifier\\nimport lightgbm as lgb\\nimport pandas as pd\\nfrom sklearn.ensemble import GradientBoostingClassifier\\nimport plotly.express as px\\nimport pickle\\nfrom sklearn.ensemble import GradientBoostingRegressor\\nfrom pathlib import Path\\nimport xgboost as xgb\\nimport seaborn as sns\\nfrom sklearn.ensemble import RandomForestRegressor\\nimport os\\nimport sklearn\\nimport plotly as py'); }\n",
       "    "
      ],
      "text/plain": [
       "<IPython.core.display.Javascript object>"
      ]
     },
     "metadata": {},
     "output_type": "display_data"
    },
    {
     "data": {
      "application/javascript": [
       "\n",
       "        if (window._pyforest_update_imports_cell) { window._pyforest_update_imports_cell('from openpyxl import load_workbook\\nimport matplotlib as mpl\\nfrom sklearn.preprocessing import OneHotEncoder\\nimport matplotlib.pyplot as plt\\nfrom sklearn.ensemble import RandomForestClassifier\\nimport lightgbm as lgb\\nimport pandas as pd\\nfrom sklearn.ensemble import GradientBoostingClassifier\\nimport plotly.express as px\\nimport pickle\\nfrom sklearn.ensemble import GradientBoostingRegressor\\nfrom pathlib import Path\\nimport xgboost as xgb\\nimport seaborn as sns\\nfrom sklearn.ensemble import RandomForestRegressor\\nimport os\\nimport sklearn\\nimport plotly as py'); }\n",
       "    "
      ],
      "text/plain": [
       "<IPython.core.display.Javascript object>"
      ]
     },
     "metadata": {},
     "output_type": "display_data"
    },
    {
     "data": {
      "application/javascript": [
       "\n",
       "        if (window._pyforest_update_imports_cell) { window._pyforest_update_imports_cell('from openpyxl import load_workbook\\nimport matplotlib as mpl\\nfrom sklearn.preprocessing import OneHotEncoder\\nimport matplotlib.pyplot as plt\\nfrom sklearn.ensemble import RandomForestClassifier\\nimport lightgbm as lgb\\nimport pandas as pd\\nfrom sklearn.ensemble import GradientBoostingClassifier\\nimport plotly.express as px\\nimport pickle\\nfrom sklearn.ensemble import GradientBoostingRegressor\\nfrom pathlib import Path\\nimport xgboost as xgb\\nimport seaborn as sns\\nfrom sklearn.ensemble import RandomForestRegressor\\nimport os\\nimport sklearn\\nimport plotly as py'); }\n",
       "    "
      ],
      "text/plain": [
       "<IPython.core.display.Javascript object>"
      ]
     },
     "metadata": {},
     "output_type": "display_data"
    },
    {
     "data": {
      "application/javascript": [
       "\n",
       "        if (window._pyforest_update_imports_cell) { window._pyforest_update_imports_cell('from openpyxl import load_workbook\\nimport matplotlib as mpl\\nfrom sklearn.preprocessing import OneHotEncoder\\nimport matplotlib.pyplot as plt\\nfrom sklearn.ensemble import RandomForestClassifier\\nimport lightgbm as lgb\\nimport pandas as pd\\nfrom sklearn.ensemble import GradientBoostingClassifier\\nimport plotly.express as px\\nimport pickle\\nfrom sklearn.ensemble import GradientBoostingRegressor\\nfrom pathlib import Path\\nimport xgboost as xgb\\nimport seaborn as sns\\nfrom sklearn.ensemble import RandomForestRegressor\\nimport os\\nimport sklearn\\nimport plotly as py'); }\n",
       "    "
      ],
      "text/plain": [
       "<IPython.core.display.Javascript object>"
      ]
     },
     "metadata": {},
     "output_type": "display_data"
    },
    {
     "data": {
      "application/javascript": [
       "\n",
       "        if (window._pyforest_update_imports_cell) { window._pyforest_update_imports_cell('from openpyxl import load_workbook\\nimport matplotlib as mpl\\nfrom sklearn.preprocessing import OneHotEncoder\\nimport matplotlib.pyplot as plt\\nfrom sklearn.ensemble import RandomForestClassifier\\nimport lightgbm as lgb\\nimport pandas as pd\\nfrom sklearn.ensemble import GradientBoostingClassifier\\nimport plotly.express as px\\nimport pickle\\nfrom sklearn.ensemble import GradientBoostingRegressor\\nfrom pathlib import Path\\nimport xgboost as xgb\\nimport seaborn as sns\\nfrom sklearn.ensemble import RandomForestRegressor\\nimport os\\nimport sklearn\\nimport plotly as py'); }\n",
       "    "
      ],
      "text/plain": [
       "<IPython.core.display.Javascript object>"
      ]
     },
     "metadata": {},
     "output_type": "display_data"
    },
    {
     "data": {
      "application/javascript": [
       "\n",
       "        if (window._pyforest_update_imports_cell) { window._pyforest_update_imports_cell('from openpyxl import load_workbook\\nimport matplotlib as mpl\\nfrom sklearn.preprocessing import OneHotEncoder\\nimport matplotlib.pyplot as plt\\nfrom sklearn.ensemble import RandomForestClassifier\\nimport lightgbm as lgb\\nimport pandas as pd\\nfrom sklearn.ensemble import GradientBoostingClassifier\\nimport plotly.express as px\\nimport pickle\\nfrom sklearn.ensemble import GradientBoostingRegressor\\nfrom pathlib import Path\\nimport xgboost as xgb\\nimport seaborn as sns\\nfrom sklearn.ensemble import RandomForestRegressor\\nimport os\\nimport sklearn\\nimport plotly as py'); }\n",
       "    "
      ],
      "text/plain": [
       "<IPython.core.display.Javascript object>"
      ]
     },
     "metadata": {},
     "output_type": "display_data"
    },
    {
     "data": {
      "application/javascript": [
       "\n",
       "        if (window._pyforest_update_imports_cell) { window._pyforest_update_imports_cell('from openpyxl import load_workbook\\nimport matplotlib as mpl\\nfrom sklearn.preprocessing import OneHotEncoder\\nimport matplotlib.pyplot as plt\\nfrom sklearn.ensemble import RandomForestClassifier\\nimport lightgbm as lgb\\nimport pandas as pd\\nfrom sklearn.ensemble import GradientBoostingClassifier\\nimport plotly.express as px\\nimport pickle\\nfrom sklearn.ensemble import GradientBoostingRegressor\\nfrom pathlib import Path\\nimport xgboost as xgb\\nimport seaborn as sns\\nfrom sklearn.ensemble import RandomForestRegressor\\nimport os\\nimport sklearn\\nimport plotly as py'); }\n",
       "    "
      ],
      "text/plain": [
       "<IPython.core.display.Javascript object>"
      ]
     },
     "metadata": {},
     "output_type": "display_data"
    },
    {
     "data": {
      "application/javascript": [
       "\n",
       "        if (window._pyforest_update_imports_cell) { window._pyforest_update_imports_cell('from openpyxl import load_workbook\\nimport matplotlib as mpl\\nfrom sklearn.preprocessing import OneHotEncoder\\nimport matplotlib.pyplot as plt\\nfrom sklearn.ensemble import RandomForestClassifier\\nimport lightgbm as lgb\\nimport pandas as pd\\nfrom sklearn.ensemble import GradientBoostingClassifier\\nimport plotly.express as px\\nimport pickle\\nfrom sklearn.ensemble import GradientBoostingRegressor\\nfrom pathlib import Path\\nimport xgboost as xgb\\nimport seaborn as sns\\nfrom sklearn.ensemble import RandomForestRegressor\\nimport os\\nimport sklearn\\nimport plotly as py'); }\n",
       "    "
      ],
      "text/plain": [
       "<IPython.core.display.Javascript object>"
      ]
     },
     "metadata": {},
     "output_type": "display_data"
    },
    {
     "data": {
      "application/javascript": [
       "\n",
       "        if (window._pyforest_update_imports_cell) { window._pyforest_update_imports_cell('from openpyxl import load_workbook\\nimport matplotlib as mpl\\nfrom sklearn.preprocessing import OneHotEncoder\\nimport matplotlib.pyplot as plt\\nfrom sklearn.ensemble import RandomForestClassifier\\nimport lightgbm as lgb\\nimport pandas as pd\\nfrom sklearn.ensemble import GradientBoostingClassifier\\nimport plotly.express as px\\nimport pickle\\nfrom sklearn.ensemble import GradientBoostingRegressor\\nfrom pathlib import Path\\nimport xgboost as xgb\\nimport seaborn as sns\\nfrom sklearn.ensemble import RandomForestRegressor\\nimport os\\nimport sklearn\\nimport plotly as py'); }\n",
       "    "
      ],
      "text/plain": [
       "<IPython.core.display.Javascript object>"
      ]
     },
     "metadata": {},
     "output_type": "display_data"
    },
    {
     "data": {
      "application/javascript": [
       "\n",
       "        if (window._pyforest_update_imports_cell) { window._pyforest_update_imports_cell('from openpyxl import load_workbook\\nimport matplotlib as mpl\\nfrom sklearn.preprocessing import OneHotEncoder\\nimport matplotlib.pyplot as plt\\nfrom sklearn.ensemble import RandomForestClassifier\\nimport lightgbm as lgb\\nimport pandas as pd\\nfrom sklearn.ensemble import GradientBoostingClassifier\\nimport plotly.express as px\\nimport pickle\\nfrom sklearn.ensemble import GradientBoostingRegressor\\nfrom pathlib import Path\\nimport xgboost as xgb\\nimport seaborn as sns\\nfrom sklearn.ensemble import RandomForestRegressor\\nimport os\\nimport sklearn\\nimport plotly as py'); }\n",
       "    "
      ],
      "text/plain": [
       "<IPython.core.display.Javascript object>"
      ]
     },
     "metadata": {},
     "output_type": "display_data"
    },
    {
     "data": {
      "application/javascript": [
       "\n",
       "        if (window._pyforest_update_imports_cell) { window._pyforest_update_imports_cell('from openpyxl import load_workbook\\nimport matplotlib as mpl\\nfrom sklearn.preprocessing import OneHotEncoder\\nimport matplotlib.pyplot as plt\\nfrom sklearn.ensemble import RandomForestClassifier\\nimport lightgbm as lgb\\nimport pandas as pd\\nfrom sklearn.ensemble import GradientBoostingClassifier\\nimport plotly.express as px\\nimport pickle\\nfrom sklearn.ensemble import GradientBoostingRegressor\\nfrom pathlib import Path\\nimport xgboost as xgb\\nimport seaborn as sns\\nfrom sklearn.ensemble import RandomForestRegressor\\nimport os\\nimport sklearn\\nimport plotly as py'); }\n",
       "    "
      ],
      "text/plain": [
       "<IPython.core.display.Javascript object>"
      ]
     },
     "metadata": {},
     "output_type": "display_data"
    },
    {
     "data": {
      "application/javascript": [
       "\n",
       "        if (window._pyforest_update_imports_cell) { window._pyforest_update_imports_cell('from openpyxl import load_workbook\\nimport matplotlib as mpl\\nfrom sklearn.preprocessing import OneHotEncoder\\nimport matplotlib.pyplot as plt\\nfrom sklearn.ensemble import RandomForestClassifier\\nimport lightgbm as lgb\\nimport pandas as pd\\nfrom sklearn.ensemble import GradientBoostingClassifier\\nimport plotly.express as px\\nimport pickle\\nfrom sklearn.ensemble import GradientBoostingRegressor\\nfrom pathlib import Path\\nimport xgboost as xgb\\nimport seaborn as sns\\nfrom sklearn.ensemble import RandomForestRegressor\\nimport os\\nimport sklearn\\nimport plotly as py'); }\n",
       "    "
      ],
      "text/plain": [
       "<IPython.core.display.Javascript object>"
      ]
     },
     "metadata": {},
     "output_type": "display_data"
    },
    {
     "data": {
      "application/javascript": [
       "\n",
       "        if (window._pyforest_update_imports_cell) { window._pyforest_update_imports_cell('from openpyxl import load_workbook\\nimport matplotlib as mpl\\nfrom sklearn.preprocessing import OneHotEncoder\\nimport matplotlib.pyplot as plt\\nfrom sklearn.ensemble import RandomForestClassifier\\nimport lightgbm as lgb\\nimport pandas as pd\\nfrom sklearn.ensemble import GradientBoostingClassifier\\nimport plotly.express as px\\nimport pickle\\nfrom sklearn.ensemble import GradientBoostingRegressor\\nfrom pathlib import Path\\nimport xgboost as xgb\\nimport seaborn as sns\\nfrom sklearn.ensemble import RandomForestRegressor\\nimport os\\nimport sklearn\\nimport plotly as py'); }\n",
       "    "
      ],
      "text/plain": [
       "<IPython.core.display.Javascript object>"
      ]
     },
     "metadata": {},
     "output_type": "display_data"
    },
    {
     "data": {
      "application/javascript": [
       "\n",
       "        if (window._pyforest_update_imports_cell) { window._pyforest_update_imports_cell('from openpyxl import load_workbook\\nimport matplotlib as mpl\\nfrom sklearn.preprocessing import OneHotEncoder\\nimport matplotlib.pyplot as plt\\nfrom sklearn.ensemble import RandomForestClassifier\\nimport lightgbm as lgb\\nimport pandas as pd\\nfrom sklearn.ensemble import GradientBoostingClassifier\\nimport plotly.express as px\\nimport pickle\\nfrom sklearn.ensemble import GradientBoostingRegressor\\nfrom pathlib import Path\\nimport xgboost as xgb\\nimport seaborn as sns\\nfrom sklearn.ensemble import RandomForestRegressor\\nimport os\\nimport sklearn\\nimport plotly as py'); }\n",
       "    "
      ],
      "text/plain": [
       "<IPython.core.display.Javascript object>"
      ]
     },
     "metadata": {},
     "output_type": "display_data"
    },
    {
     "data": {
      "application/javascript": [
       "\n",
       "        if (window._pyforest_update_imports_cell) { window._pyforest_update_imports_cell('from openpyxl import load_workbook\\nimport matplotlib as mpl\\nfrom sklearn.preprocessing import OneHotEncoder\\nimport matplotlib.pyplot as plt\\nfrom sklearn.ensemble import RandomForestClassifier\\nimport lightgbm as lgb\\nimport pandas as pd\\nfrom sklearn.ensemble import GradientBoostingClassifier\\nimport plotly.express as px\\nimport pickle\\nfrom sklearn.ensemble import GradientBoostingRegressor\\nfrom pathlib import Path\\nimport xgboost as xgb\\nimport seaborn as sns\\nfrom sklearn.ensemble import RandomForestRegressor\\nimport os\\nimport sklearn\\nimport plotly as py'); }\n",
       "    "
      ],
      "text/plain": [
       "<IPython.core.display.Javascript object>"
      ]
     },
     "metadata": {},
     "output_type": "display_data"
    },
    {
     "data": {
      "text/plain": [
       "(11935, 6)"
      ]
     },
     "execution_count": 101,
     "metadata": {},
     "output_type": "execute_result"
    }
   ],
   "source": [
    "def remove_pps_outliers(df):\n",
    "    df_out = pd.DataFrame()\n",
    "    for key, subdf in df.groupby('location'):\n",
    "        m = np.mean(subdf.price_per_sqft)\n",
    "        st = np.std(subdf.price_per_sqft)\n",
    "        reduced_df = subdf[(subdf.price_per_sqft>(m-2*st)) & (subdf.price_per_sqft<=(m+2*st))]\n",
    "        df_out = pd.concat([df_out,reduced_df],ignore_index=True)\n",
    "    return df_out\n",
    "df7 = remove_pps_outliers(df6)\n",
    "df7.shape"
   ]
  },
  {
   "cell_type": "code",
   "execution_count": 102,
   "metadata": {},
   "outputs": [
    {
     "data": {
      "text/html": [
       "<div>\n",
       "<style scoped>\n",
       "    .dataframe tbody tr th:only-of-type {\n",
       "        vertical-align: middle;\n",
       "    }\n",
       "\n",
       "    .dataframe tbody tr th {\n",
       "        vertical-align: top;\n",
       "    }\n",
       "\n",
       "    .dataframe thead th {\n",
       "        text-align: right;\n",
       "    }\n",
       "</style>\n",
       "<table border=\"1\" class=\"dataframe\">\n",
       "  <thead>\n",
       "    <tr style=\"text-align: right;\">\n",
       "      <th></th>\n",
       "      <th>location</th>\n",
       "      <th>total_sqft</th>\n",
       "      <th>bath</th>\n",
       "      <th>price</th>\n",
       "      <th>bhk</th>\n",
       "      <th>price_per_sqft</th>\n",
       "    </tr>\n",
       "  </thead>\n",
       "  <tbody>\n",
       "    <tr>\n",
       "      <th>0</th>\n",
       "      <td>1st Block Jayanagar</td>\n",
       "      <td>2850.0</td>\n",
       "      <td>4.0</td>\n",
       "      <td>428.00</td>\n",
       "      <td>4</td>\n",
       "      <td>15017.543860</td>\n",
       "    </tr>\n",
       "    <tr>\n",
       "      <th>1</th>\n",
       "      <td>1st Block Jayanagar</td>\n",
       "      <td>1630.0</td>\n",
       "      <td>3.0</td>\n",
       "      <td>194.00</td>\n",
       "      <td>3</td>\n",
       "      <td>11901.840491</td>\n",
       "    </tr>\n",
       "    <tr>\n",
       "      <th>2</th>\n",
       "      <td>1st Block Jayanagar</td>\n",
       "      <td>1875.0</td>\n",
       "      <td>2.0</td>\n",
       "      <td>235.00</td>\n",
       "      <td>3</td>\n",
       "      <td>12533.333333</td>\n",
       "    </tr>\n",
       "    <tr>\n",
       "      <th>3</th>\n",
       "      <td>1st Block Jayanagar</td>\n",
       "      <td>2400.0</td>\n",
       "      <td>4.0</td>\n",
       "      <td>450.00</td>\n",
       "      <td>4</td>\n",
       "      <td>18750.000000</td>\n",
       "    </tr>\n",
       "    <tr>\n",
       "      <th>4</th>\n",
       "      <td>1st Block Jayanagar</td>\n",
       "      <td>1000.0</td>\n",
       "      <td>3.0</td>\n",
       "      <td>60.00</td>\n",
       "      <td>2</td>\n",
       "      <td>6000.000000</td>\n",
       "    </tr>\n",
       "    <tr>\n",
       "      <th>...</th>\n",
       "      <td>...</td>\n",
       "      <td>...</td>\n",
       "      <td>...</td>\n",
       "      <td>...</td>\n",
       "      <td>...</td>\n",
       "      <td>...</td>\n",
       "    </tr>\n",
       "    <tr>\n",
       "      <th>11930</th>\n",
       "      <td>other</td>\n",
       "      <td>1353.0</td>\n",
       "      <td>2.0</td>\n",
       "      <td>110.00</td>\n",
       "      <td>2</td>\n",
       "      <td>8130.081301</td>\n",
       "    </tr>\n",
       "    <tr>\n",
       "      <th>11931</th>\n",
       "      <td>other</td>\n",
       "      <td>812.0</td>\n",
       "      <td>1.0</td>\n",
       "      <td>26.00</td>\n",
       "      <td>1</td>\n",
       "      <td>3201.970443</td>\n",
       "    </tr>\n",
       "    <tr>\n",
       "      <th>11932</th>\n",
       "      <td>other</td>\n",
       "      <td>1440.0</td>\n",
       "      <td>2.0</td>\n",
       "      <td>63.93</td>\n",
       "      <td>3</td>\n",
       "      <td>4439.583333</td>\n",
       "    </tr>\n",
       "    <tr>\n",
       "      <th>11933</th>\n",
       "      <td>other</td>\n",
       "      <td>1075.0</td>\n",
       "      <td>2.0</td>\n",
       "      <td>48.00</td>\n",
       "      <td>2</td>\n",
       "      <td>4465.116279</td>\n",
       "    </tr>\n",
       "    <tr>\n",
       "      <th>11934</th>\n",
       "      <td>other</td>\n",
       "      <td>3600.0</td>\n",
       "      <td>5.0</td>\n",
       "      <td>400.00</td>\n",
       "      <td>4</td>\n",
       "      <td>11111.111111</td>\n",
       "    </tr>\n",
       "  </tbody>\n",
       "</table>\n",
       "<p>11935 rows × 6 columns</p>\n",
       "</div>"
      ],
      "text/plain": [
       "                  location  total_sqft  bath   price  bhk  price_per_sqft\n",
       "0      1st Block Jayanagar      2850.0   4.0  428.00    4    15017.543860\n",
       "1      1st Block Jayanagar      1630.0   3.0  194.00    3    11901.840491\n",
       "2      1st Block Jayanagar      1875.0   2.0  235.00    3    12533.333333\n",
       "3      1st Block Jayanagar      2400.0   4.0  450.00    4    18750.000000\n",
       "4      1st Block Jayanagar      1000.0   3.0   60.00    2     6000.000000\n",
       "...                    ...         ...   ...     ...  ...             ...\n",
       "11930                other      1353.0   2.0  110.00    2     8130.081301\n",
       "11931                other       812.0   1.0   26.00    1     3201.970443\n",
       "11932                other      1440.0   2.0   63.93    3     4439.583333\n",
       "11933                other      1075.0   2.0   48.00    2     4465.116279\n",
       "11934                other      3600.0   5.0  400.00    4    11111.111111\n",
       "\n",
       "[11935 rows x 6 columns]"
      ]
     },
     "execution_count": 102,
     "metadata": {},
     "output_type": "execute_result"
    }
   ],
   "source": [
    "df7"
   ]
  },
  {
   "cell_type": "code",
   "execution_count": 103,
   "metadata": {},
   "outputs": [
    {
     "data": {
      "text/plain": [
       "(11935, 6)"
      ]
     },
     "execution_count": 103,
     "metadata": {},
     "output_type": "execute_result"
    }
   ],
   "source": [
    "df7.shape"
   ]
  },
  {
   "cell_type": "code",
   "execution_count": 104,
   "metadata": {},
   "outputs": [
    {
     "data": {
      "application/javascript": [
       "\n",
       "        if (window._pyforest_update_imports_cell) { window._pyforest_update_imports_cell('from openpyxl import load_workbook\\nimport matplotlib as mpl\\nfrom sklearn.preprocessing import OneHotEncoder\\nimport matplotlib.pyplot as plt\\nfrom sklearn.ensemble import RandomForestClassifier\\nimport lightgbm as lgb\\nimport pandas as pd\\nfrom sklearn.ensemble import GradientBoostingClassifier\\nimport plotly.express as px\\nimport pickle\\nfrom sklearn.ensemble import GradientBoostingRegressor\\nfrom pathlib import Path\\nimport xgboost as xgb\\nimport seaborn as sns\\nfrom sklearn.ensemble import RandomForestRegressor\\nimport os\\nimport sklearn\\nimport plotly as py'); }\n",
       "    "
      ],
      "text/plain": [
       "<IPython.core.display.Javascript object>"
      ]
     },
     "metadata": {},
     "output_type": "display_data"
    },
    {
     "name": "stderr",
     "output_type": "stream",
     "text": [
      "C:\\Users\\asus\\Anaconda3\\lib\\site-packages\\seaborn\\axisgrid.py:2076: UserWarning: The `size` parameter has been renamed to `height`; please update your code.\n",
      "  warnings.warn(msg, UserWarning)\n"
     ]
    },
    {
     "data": {
      "text/plain": [
       "<seaborn.axisgrid.PairGrid at 0x1b9f0ec4788>"
      ]
     },
     "execution_count": 104,
     "metadata": {},
     "output_type": "execute_result"
    },
    {
     "data": {
      "image/png": "[encoded data removed]",
      "text/plain": [
       "<Figure size 720x720 with 2 Axes>"
      ]
     },
     "metadata": {
      "needs_background": "light"
     },
     "output_type": "display_data"
    }
   ],
   "source": [
    "sns.pairplot(df7[['price_per_sqft']] , kind=\"kde\" , size=10 )"
   ]
  },
  {
   "cell_type": "code",
   "execution_count": null,
   "metadata": {},
   "outputs": [],
   "source": []
  }
 ],
 "metadata": {
  "kernelspec": {
   "display_name": "Python 3",
   "language": "python",
   "name": "python3"
  },
  "language_info": {
   "codemirror_mode": {
    "name": "ipython",
    "version": 3
   },
   "file_extension": ".py",
   "mimetype": "text/x-python",
   "name": "python",
   "nbconvert_exporter": "python",
   "pygments_lexer": "ipython3",
   "version": "3.7.4"
  },
  "toc": {
   "base_numbering": 1,
   "nav_menu": {},
   "number_sections": true,
   "sideBar": true,
   "skip_h1_title": false,
   "title_cell": "Table of Contents",
   "title_sidebar": "Contents",
   "toc_cell": false,
   "toc_position": {},
   "toc_section_display": true,
   "toc_window_display": false
  }
 },
 "nbformat": 4,
 "nbformat_minor": 2
}
